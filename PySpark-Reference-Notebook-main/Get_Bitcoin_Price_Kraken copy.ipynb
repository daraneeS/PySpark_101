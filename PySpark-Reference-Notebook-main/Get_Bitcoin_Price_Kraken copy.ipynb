{
 "cells": [
  {
   "cell_type": "markdown",
   "metadata": {},
   "source": [
    "# Bitcoin Data with PySpark 101"
   ]
  },
  {
   "cell_type": "code",
   "execution_count": 21,
   "metadata": {},
   "outputs": [],
   "source": [
    "import pandas as pd\n",
    "import json\n",
    "from datetime import datetime,date, time\n",
    "import requests"
   ]
  },
  {
   "cell_type": "code",
   "execution_count": 86,
   "metadata": {},
   "outputs": [
    {
     "name": "stdout",
     "output_type": "stream",
     "text": [
      "1.2.4\n"
     ]
    }
   ],
   "source": [
    "print(pd.__version__)"
   ]
  },
  {
   "cell_type": "code",
   "execution_count": 4,
   "metadata": {
    "tags": []
   },
   "outputs": [],
   "source": [
    "import warnings\n",
    "warnings.filterwarnings('ignore')"
   ]
  },
  {
   "cell_type": "markdown",
   "metadata": {},
   "source": [
    "## PySpark Version"
   ]
  },
  {
   "cell_type": "code",
   "execution_count": 19,
   "metadata": {},
   "outputs": [],
   "source": [
    "import pyspark\n",
    "from pyspark.sql.types import *\n",
    "import pyspark.sql.functions as F\n",
    "from pyspark.sql import SparkSession"
   ]
  },
  {
   "cell_type": "code",
   "execution_count": 10,
   "metadata": {},
   "outputs": [
    {
     "data": {
      "text/html": [
       "\n",
       "            <div>\n",
       "                <p><b>SparkSession - in-memory</b></p>\n",
       "                \n",
       "        <div>\n",
       "            <p><b>SparkContext</b></p>\n",
       "\n",
       "            <p><a href=\"http://192.168.4.20:4040\">Spark UI</a></p>\n",
       "\n",
       "            <dl>\n",
       "              <dt>Version</dt>\n",
       "                <dd><code>v3.3.0</code></dd>\n",
       "              <dt>Master</dt>\n",
       "                <dd><code>local[*]</code></dd>\n",
       "              <dt>AppName</dt>\n",
       "                <dd><code>bitcoin_pyspark_kraken</code></dd>\n",
       "            </dl>\n",
       "        </div>\n",
       "        \n",
       "            </div>\n",
       "        "
      ],
      "text/plain": [
       "<pyspark.sql.session.SparkSession at 0x7facee288e50>"
      ]
     },
     "execution_count": 10,
     "metadata": {},
     "output_type": "execute_result"
    }
   ],
   "source": [
    "spark = SparkSession.builder.appName(\"bitcoin_pyspark_kraken\").getOrCreate()\n",
    "spark"
   ]
  },
  {
   "cell_type": "markdown",
   "metadata": {},
   "source": [
    "### 1. Kraken Historical OHLCVT "
   ]
  },
  {
   "cell_type": "markdown",
   "metadata": {},
   "source": [
    "### Attemp to Fix Missing Last Row"
   ]
  },
  {
   "cell_type": "markdown",
   "metadata": {},
   "source": [
    "#### Option 1"
   ]
  },
  {
   "cell_type": "code",
   "execution_count": 27,
   "metadata": {},
   "outputs": [],
   "source": [
    "test1 = spark.read.csv(\"data/XBT_OHLCVT/XBTUSD_1440.csv\", header=False)"
   ]
  },
  {
   "cell_type": "code",
   "execution_count": 28,
   "metadata": {},
   "outputs": [
    {
     "name": "stdout",
     "output_type": "stream",
     "text": [
      "+----------+------+------+------+------+------+---+\n",
      "|       _c0|   _c1|   _c2|   _c3|   _c4|   _c5|_c6|\n",
      "+----------+------+------+------+------+------+---+\n",
      "|1381017600| 122.0| 122.0| 122.0| 122.0|   0.1|  1|\n",
      "|1381104000|123.61|123.61|123.61|123.61|   0.1|  1|\n",
      "|1381190400|123.91|124.19| 123.9|124.18|3.9916|  4|\n",
      "+----------+------+------+------+------+------+---+\n",
      "only showing top 3 rows\n",
      "\n"
     ]
    }
   ],
   "source": [
    "test1.show(3)"
   ]
  },
  {
   "cell_type": "code",
   "execution_count": 11,
   "metadata": {},
   "outputs": [
    {
     "name": "stdout",
     "output_type": "stream",
     "text": [
      "root\n",
      " |-- _c0: string (nullable = true)\n",
      " |-- _c1: string (nullable = true)\n",
      " |-- _c2: string (nullable = true)\n",
      " |-- _c3: string (nullable = true)\n",
      " |-- _c4: string (nullable = true)\n",
      " |-- _c5: string (nullable = true)\n",
      " |-- _c6: string (nullable = true)\n",
      "\n"
     ]
    }
   ],
   "source": [
    "test1.printSchema()"
   ]
  },
  {
   "cell_type": "code",
   "execution_count": 12,
   "metadata": {},
   "outputs": [
    {
     "data": {
      "text/plain": [
       "3178"
      ]
     },
     "execution_count": 12,
     "metadata": {},
     "output_type": "execute_result"
    }
   ],
   "source": [
    "test1.count()"
   ]
  },
  {
   "cell_type": "code",
   "execution_count": 13,
   "metadata": {},
   "outputs": [
    {
     "data": {
      "text/plain": [
       "[Row(_c0='1381017600', _c1='122.0', _c2='122.0', _c3='122.0', _c4='122.0', _c5='0.1', _c6='1')]"
      ]
     },
     "execution_count": 13,
     "metadata": {},
     "output_type": "execute_result"
    }
   ],
   "source": [
    "test1.head(1)"
   ]
  },
  {
   "cell_type": "code",
   "execution_count": 29,
   "metadata": {},
   "outputs": [
    {
     "data": {
      "text/plain": [
       "[Row(_c0='1656547200', _c1='20094.0', _c2='20139.8', _c3='18617.5', _c4='19949.9', _c5='5391.5274635603', _c6='32136')]"
      ]
     },
     "execution_count": 29,
     "metadata": {},
     "output_type": "execute_result"
    }
   ],
   "source": [
    "test1.tail(1)"
   ]
  },
  {
   "cell_type": "code",
   "execution_count": 30,
   "metadata": {},
   "outputs": [],
   "source": [
    "test1 = test1.withColumnRenamed('_c0', \"date\")\\\n",
    "                 .withColumnRenamed('_c1', \"open\")\\\n",
    "                 .withColumnRenamed('_c2', \"high\")\\\n",
    "                 .withColumnRenamed('_c3', \"low\")\\\n",
    "                 .withColumnRenamed('_c4', \"close\")\\\n",
    "                 .withColumnRenamed('_c5', \"volume\")\\\n",
    "                 .withColumnRenamed('_c6', \"trades\")"
   ]
  },
  {
   "cell_type": "code",
   "execution_count": 31,
   "metadata": {},
   "outputs": [
    {
     "name": "stdout",
     "output_type": "stream",
     "text": [
      "+----------+------+------+------+------+------+------+\n",
      "|      date|  open|  high|   low| close|volume|trades|\n",
      "+----------+------+------+------+------+------+------+\n",
      "|1381017600| 122.0| 122.0| 122.0| 122.0|   0.1|     1|\n",
      "|1381104000|123.61|123.61|123.61|123.61|   0.1|     1|\n",
      "+----------+------+------+------+------+------+------+\n",
      "only showing top 2 rows\n",
      "\n"
     ]
    }
   ],
   "source": [
    "test1.show(2)"
   ]
  },
  {
   "cell_type": "code",
   "execution_count": 32,
   "metadata": {},
   "outputs": [],
   "source": [
    "test1 = test1.withColumn(\"date\", F.from_unixtime(F.col(\"date\"), 'yyyy-MM-dd').cast(\"date\"))"
   ]
  },
  {
   "cell_type": "code",
   "execution_count": 33,
   "metadata": {},
   "outputs": [
    {
     "data": {
      "text/plain": [
       "[Row(date=datetime.date(2022, 6, 28), open='20252.5', high='20397.0', low='19828.7', close='20086.2', volume='4367.3190830902', trades='26340'),\n",
       " Row(date=datetime.date(2022, 6, 29), open='20094.0', high='20139.8', low='18617.5', close='19949.9', volume='5391.5274635603', trades='32136')]"
      ]
     },
     "execution_count": 33,
     "metadata": {},
     "output_type": "execute_result"
    }
   ],
   "source": [
    "test1.tail(2)"
   ]
  },
  {
   "cell_type": "code",
   "execution_count": 34,
   "metadata": {},
   "outputs": [
    {
     "name": "stdout",
     "output_type": "stream",
     "text": [
      "+----------+-------+-------+-------+-------+---------------+------+\n",
      "|      date|   open|   high|    low|  close|         volume|trades|\n",
      "+----------+-------+-------+-------+-------+---------------+------+\n",
      "|2022-06-29|20094.0|20139.8|18617.5|19949.9|5391.5274635603| 32136|\n",
      "+----------+-------+-------+-------+-------+---------------+------+\n",
      "\n"
     ]
    }
   ],
   "source": [
    "test1.filter(test1.date == \"2022-06-29\").show()"
   ]
  },
  {
   "cell_type": "code",
   "execution_count": 35,
   "metadata": {},
   "outputs": [
    {
     "name": "stdout",
     "output_type": "stream",
     "text": [
      "+----+----+----+---+-----+------+------+\n",
      "|date|open|high|low|close|volume|trades|\n",
      "+----+----+----+---+-----+------+------+\n",
      "+----+----+----+---+-----+------+------+\n",
      "\n"
     ]
    }
   ],
   "source": [
    "test1.filter(test1.date == \"2022-06-30\").show()"
   ]
  },
  {
   "cell_type": "markdown",
   "metadata": {},
   "source": [
    "#### Option 2"
   ]
  },
  {
   "cell_type": "code",
   "execution_count": 62,
   "metadata": {},
   "outputs": [],
   "source": [
    "test2 = spark.read.csv(\"data/XBT_OHLCVT/XBTUSD_1440.csv\", inferSchema=True)"
   ]
  },
  {
   "cell_type": "code",
   "execution_count": 63,
   "metadata": {},
   "outputs": [
    {
     "name": "stdout",
     "output_type": "stream",
     "text": [
      "+----------+------+------+------+------+------+---+\n",
      "|       _c0|   _c1|   _c2|   _c3|   _c4|   _c5|_c6|\n",
      "+----------+------+------+------+------+------+---+\n",
      "|1381017600| 122.0| 122.0| 122.0| 122.0|   0.1|  1|\n",
      "|1381104000|123.61|123.61|123.61|123.61|   0.1|  1|\n",
      "|1381190400|123.91|124.19| 123.9|124.18|3.9916|  4|\n",
      "+----------+------+------+------+------+------+---+\n",
      "only showing top 3 rows\n",
      "\n"
     ]
    }
   ],
   "source": [
    "test2.show(3)"
   ]
  },
  {
   "cell_type": "code",
   "execution_count": 64,
   "metadata": {},
   "outputs": [],
   "source": [
    "test2 = test2.withColumnRenamed('_c0', \"date\")\\\n",
    "                 .withColumnRenamed('_c1', \"open\")\\\n",
    "                 .withColumnRenamed('_c2', \"high\")\\\n",
    "                 .withColumnRenamed('_c3', \"low\")\\\n",
    "                 .withColumnRenamed('_c4', \"close\")\\\n",
    "                 .withColumnRenamed('_c5', \"volume\")\\\n",
    "                 .withColumnRenamed('_c6', \"trades\")"
   ]
  },
  {
   "cell_type": "code",
   "execution_count": 65,
   "metadata": {},
   "outputs": [
    {
     "name": "stdout",
     "output_type": "stream",
     "text": [
      "+----------+------+------+------+------+------+------+\n",
      "|      date|  open|  high|   low| close|volume|trades|\n",
      "+----------+------+------+------+------+------+------+\n",
      "|2013-10-05| 122.0| 122.0| 122.0| 122.0|   0.1|     1|\n",
      "|2013-10-06|123.61|123.61|123.61|123.61|   0.1|     1|\n",
      "|2013-10-07|123.91|124.19| 123.9|124.18|3.9916|     4|\n",
      "+----------+------+------+------+------+------+------+\n",
      "only showing top 3 rows\n",
      "\n"
     ]
    }
   ],
   "source": [
    "test2 = test2.withColumn(\"date\", F.from_unixtime(F.col(\"date\"), 'yyyy-MM-dd').cast(\"date\"))\n",
    "test2.show(3)"
   ]
  },
  {
   "cell_type": "code",
   "execution_count": 66,
   "metadata": {},
   "outputs": [
    {
     "name": "stdout",
     "output_type": "stream",
     "text": [
      "+----------+-------+-------+-------+-------+---------------+------+\n",
      "|      date|   open|   high|    low|  close|         volume|trades|\n",
      "+----------+-------+-------+-------+-------+---------------+------+\n",
      "|2022-06-29|20094.0|20139.8|18617.5|19949.9|5391.5274635603| 32136|\n",
      "|2022-06-28|20252.5|20397.0|19828.7|20086.2|4367.3190830902| 26340|\n",
      "|2022-06-27|20716.3|21188.5|20165.3|20251.6|  3250.53358914| 23648|\n",
      "+----------+-------+-------+-------+-------+---------------+------+\n",
      "only showing top 3 rows\n",
      "\n"
     ]
    }
   ],
   "source": [
    "test2.orderBy(test2.date.desc()).show(3)\n",
    "                                     "
   ]
  },
  {
   "cell_type": "markdown",
   "metadata": {},
   "source": [
    "#### Option 3"
   ]
  },
  {
   "cell_type": "code",
   "execution_count": 79,
   "metadata": {},
   "outputs": [],
   "source": [
    "data_schema = StructType(\n",
    "              [StructField(\"date\", StringType(), True),\n",
    "               StructField(\"open\", DoubleType(), True),\n",
    "               StructField(\"high\", DoubleType(), True),\n",
    "               StructField(\"low\", DoubleType(), True),\n",
    "               StructField(\"close\", DoubleType(), True),\n",
    "               StructField(\"volume\", DoubleType(), True),\n",
    "               StructField(\"trades\", IntegerType(), True)]\n",
    ")"
   ]
  },
  {
   "cell_type": "code",
   "execution_count": 80,
   "metadata": {},
   "outputs": [],
   "source": [
    "test3 = spark.read.csv(\"data/XBT_OHLCVT/XBTUSD_1440.csv\", schema = data_schema, header=False)"
   ]
  },
  {
   "cell_type": "code",
   "execution_count": 81,
   "metadata": {},
   "outputs": [
    {
     "name": "stdout",
     "output_type": "stream",
     "text": [
      "+----------+------+------+------+------+------+------+\n",
      "|      date|  open|  high|   low| close|volume|trades|\n",
      "+----------+------+------+------+------+------+------+\n",
      "|1381017600| 122.0| 122.0| 122.0| 122.0|   0.1|     1|\n",
      "|1381104000|123.61|123.61|123.61|123.61|   0.1|     1|\n",
      "|1381190400|123.91|124.19| 123.9|124.18|3.9916|     4|\n",
      "+----------+------+------+------+------+------+------+\n",
      "only showing top 3 rows\n",
      "\n"
     ]
    }
   ],
   "source": [
    "test3.show(3)"
   ]
  },
  {
   "cell_type": "code",
   "execution_count": 82,
   "metadata": {},
   "outputs": [
    {
     "name": "stdout",
     "output_type": "stream",
     "text": [
      "+----------+------+------+------+------+------+------+\n",
      "|      date|  open|  high|   low| close|volume|trades|\n",
      "+----------+------+------+------+------+------+------+\n",
      "|2013-10-05| 122.0| 122.0| 122.0| 122.0|   0.1|     1|\n",
      "|2013-10-06|123.61|123.61|123.61|123.61|   0.1|     1|\n",
      "|2013-10-07|123.91|124.19| 123.9|124.18|3.9916|     4|\n",
      "+----------+------+------+------+------+------+------+\n",
      "only showing top 3 rows\n",
      "\n"
     ]
    }
   ],
   "source": [
    "test3 = test3.withColumn(\"date\", F.from_unixtime(F.col(\"date\"), 'yyyy-MM-dd').cast(\"date\"))\n",
    "test3.show(3)"
   ]
  },
  {
   "cell_type": "code",
   "execution_count": 83,
   "metadata": {},
   "outputs": [
    {
     "name": "stdout",
     "output_type": "stream",
     "text": [
      "+----------+-------+-------+-------+-------+---------------+------+\n",
      "|      date|   open|   high|    low|  close|         volume|trades|\n",
      "+----------+-------+-------+-------+-------+---------------+------+\n",
      "|2022-06-29|20094.0|20139.8|18617.5|19949.9|5391.5274635603| 32136|\n",
      "|2022-06-28|20252.5|20397.0|19828.7|20086.2|4367.3190830902| 26340|\n",
      "|2022-06-27|20716.3|21188.5|20165.3|20251.6|  3250.53358914| 23648|\n",
      "+----------+-------+-------+-------+-------+---------------+------+\n",
      "only showing top 3 rows\n",
      "\n"
     ]
    }
   ],
   "source": [
    "test3.orderBy(test3.date.desc()).show(3)"
   ]
  },
  {
   "cell_type": "code",
   "execution_count": null,
   "metadata": {},
   "outputs": [],
   "source": []
  },
  {
   "cell_type": "code",
   "execution_count": null,
   "metadata": {},
   "outputs": [],
   "source": []
  },
  {
   "cell_type": "markdown",
   "metadata": {},
   "source": [
    "#### Option 4"
   ]
  },
  {
   "cell_type": "code",
   "execution_count": 3,
   "metadata": {},
   "outputs": [],
   "source": [
    "xbt_cols = [\"date\",\"open\", \"high\", \"low\", \"close\", \"volume\", \"trades\"]"
   ]
  },
  {
   "cell_type": "code",
   "execution_count": 9,
   "metadata": {},
   "outputs": [],
   "source": [
    "xbt_csv = spark.read.options(\"inferSchema\", \"True\").csv(\"btc_data/XBT_OHLCVT/XBTUSD_1440.csv\")"
   ]
  },
  {
   "cell_type": "code",
   "execution_count": 10,
   "metadata": {},
   "outputs": [
    {
     "name": "stdout",
     "output_type": "stream",
     "text": [
      "+----------+---------+---------+------+------+------+---+\n",
      "|       _c0|      _c1|      _c2|   _c3|   _c4|   _c5|_c6|\n",
      "+----------+---------+---------+------+------+------+---+\n",
      "|1381017600|    122.0|    122.0| 122.0| 122.0|   0.1|  1|\n",
      "|1381104000|   123.61|   123.61|123.61|123.61|   0.1|  1|\n",
      "|1381190400|   123.91|   124.19| 123.9|124.18|3.9916|  4|\n",
      "|1381276800|124.01687|124.01687|123.84|123.84| 2.823|  3|\n",
      "|1381363200|   125.85|   125.86|125.85|125.86|   2.0|  2|\n",
      "+----------+---------+---------+------+------+------+---+\n",
      "only showing top 5 rows\n",
      "\n"
     ]
    }
   ],
   "source": [
    "xbt_csv.show(5)"
   ]
  },
  {
   "cell_type": "code",
   "execution_count": 11,
   "metadata": {},
   "outputs": [
    {
     "name": "stdout",
     "output_type": "stream",
     "text": [
      "root\n",
      " |-- _c0: integer (nullable = true)\n",
      " |-- _c1: double (nullable = true)\n",
      " |-- _c2: double (nullable = true)\n",
      " |-- _c3: double (nullable = true)\n",
      " |-- _c4: double (nullable = true)\n",
      " |-- _c5: double (nullable = true)\n",
      " |-- _c6: integer (nullable = true)\n",
      "\n"
     ]
    }
   ],
   "source": [
    "xbt_csv.printSchema()"
   ]
  },
  {
   "cell_type": "code",
   "execution_count": 12,
   "metadata": {},
   "outputs": [
    {
     "data": {
      "text/plain": [
       "pyspark.sql.dataframe.DataFrame"
      ]
     },
     "execution_count": 12,
     "metadata": {},
     "output_type": "execute_result"
    }
   ],
   "source": [
    "type(xbt_csv)"
   ]
  },
  {
   "cell_type": "code",
   "execution_count": 13,
   "metadata": {},
   "outputs": [
    {
     "data": {
      "text/plain": [
       "['_c0', '_c1', '_c2', '_c3', '_c4', '_c5', '_c6']"
      ]
     },
     "execution_count": 13,
     "metadata": {},
     "output_type": "execute_result"
    }
   ],
   "source": [
    "xbt_csv.columns"
   ]
  },
  {
   "cell_type": "code",
   "execution_count": 14,
   "metadata": {},
   "outputs": [],
   "source": [
    "xbt_cols = [\"date\",\"open\", \"high\", \"low\", \"close\", \"volume\", \"trades\"]"
   ]
  },
  {
   "cell_type": "code",
   "execution_count": 15,
   "metadata": {},
   "outputs": [],
   "source": [
    "xbt_csv = xbt_csv.withColumnRenamed('_c0', \"date\")\\\n",
    "                 .withColumnRenamed('_c1', \"open\")\\\n",
    "                 .withColumnRenamed('_c2', \"high\")\\\n",
    "                 .withColumnRenamed('_c3', \"low\")\\\n",
    "                 .withColumnRenamed('_c4', \"close\")\\\n",
    "                 .withColumnRenamed('_c5', \"volume\")\\\n",
    "                 .withColumnRenamed('_c6', \"trades\")"
   ]
  },
  {
   "cell_type": "code",
   "execution_count": 16,
   "metadata": {},
   "outputs": [
    {
     "name": "stdout",
     "output_type": "stream",
     "text": [
      "+----------+---------+---------+------+------+------+------+\n",
      "|      date|     open|     high|   low| close|volume|trades|\n",
      "+----------+---------+---------+------+------+------+------+\n",
      "|1381017600|    122.0|    122.0| 122.0| 122.0|   0.1|     1|\n",
      "|1381104000|   123.61|   123.61|123.61|123.61|   0.1|     1|\n",
      "|1381190400|   123.91|   124.19| 123.9|124.18|3.9916|     4|\n",
      "|1381276800|124.01687|124.01687|123.84|123.84| 2.823|     3|\n",
      "|1381363200|   125.85|   125.86|125.85|125.86|   2.0|     2|\n",
      "+----------+---------+---------+------+------+------+------+\n",
      "only showing top 5 rows\n",
      "\n"
     ]
    }
   ],
   "source": [
    "xbt_csv.show(5)"
   ]
  },
  {
   "cell_type": "code",
   "execution_count": 17,
   "metadata": {},
   "outputs": [
    {
     "name": "stdout",
     "output_type": "stream",
     "text": [
      "root\n",
      " |-- date: integer (nullable = true)\n",
      " |-- open: double (nullable = true)\n",
      " |-- high: double (nullable = true)\n",
      " |-- low: double (nullable = true)\n",
      " |-- close: double (nullable = true)\n",
      " |-- volume: double (nullable = true)\n",
      " |-- trades: integer (nullable = true)\n",
      "\n"
     ]
    }
   ],
   "source": [
    "xbt_csv.printSchema()"
   ]
  },
  {
   "cell_type": "markdown",
   "metadata": {},
   "source": [
    "### Change date format"
   ]
  },
  {
   "cell_type": "code",
   "execution_count": 18,
   "metadata": {},
   "outputs": [],
   "source": [
    "import pyspark.sql.functions as F"
   ]
  },
  {
   "cell_type": "code",
   "execution_count": 19,
   "metadata": {},
   "outputs": [],
   "source": [
    "# df = df.withColumn(\"end_time\", F.from_unixtime(F.col(\"end_time\"), 'yyyy-MM-dd HH:mm:ss.SS').cast(\"timestamp\"))\n",
    "\n",
    "xbt_csv = xbt_csv.withColumn(\"date\", F.from_unixtime(F.col(\"date\"), 'yyyy-MM-dd').cast(\"date\"))"
   ]
  },
  {
   "cell_type": "code",
   "execution_count": 20,
   "metadata": {},
   "outputs": [
    {
     "data": {
      "text/plain": [
       "3178"
      ]
     },
     "execution_count": 20,
     "metadata": {},
     "output_type": "execute_result"
    }
   ],
   "source": [
    "xbt_csv.count()"
   ]
  },
  {
   "cell_type": "code",
   "execution_count": 21,
   "metadata": {},
   "outputs": [
    {
     "name": "stdout",
     "output_type": "stream",
     "text": [
      "+----------+------+------+------+------+------+------+\n",
      "|      date|  open|  high|   low| close|volume|trades|\n",
      "+----------+------+------+------+------+------+------+\n",
      "|2013-10-05| 122.0| 122.0| 122.0| 122.0|   0.1|     1|\n",
      "|2013-10-06|123.61|123.61|123.61|123.61|   0.1|     1|\n",
      "|2013-10-07|123.91|124.19| 123.9|124.18|3.9916|     4|\n",
      "+----------+------+------+------+------+------+------+\n",
      "only showing top 3 rows\n",
      "\n"
     ]
    }
   ],
   "source": [
    "xbt_csv.show(3)"
   ]
  },
  {
   "cell_type": "code",
   "execution_count": 22,
   "metadata": {},
   "outputs": [
    {
     "name": "stdout",
     "output_type": "stream",
     "text": [
      "root\n",
      " |-- date: date (nullable = true)\n",
      " |-- open: double (nullable = true)\n",
      " |-- high: double (nullable = true)\n",
      " |-- low: double (nullable = true)\n",
      " |-- close: double (nullable = true)\n",
      " |-- volume: double (nullable = true)\n",
      " |-- trades: integer (nullable = true)\n",
      "\n"
     ]
    }
   ],
   "source": [
    "xbt_csv.printSchema()"
   ]
  },
  {
   "cell_type": "code",
   "execution_count": 23,
   "metadata": {},
   "outputs": [
    {
     "data": {
      "text/plain": [
       "[Row(date=datetime.date(2022, 6, 27), open=20716.3, high=21188.5, low=20165.3, close=20251.6, volume=3250.53358914, trades=23648),\n",
       " Row(date=datetime.date(2022, 6, 28), open=20252.5, high=20397.0, low=19828.7, close=20086.2, volume=4367.3190830902, trades=26340),\n",
       " Row(date=datetime.date(2022, 6, 29), open=20094.0, high=20139.8, low=18617.5, close=19949.9, volume=5391.5274635603, trades=32136)]"
      ]
     },
     "execution_count": 23,
     "metadata": {},
     "output_type": "execute_result"
    }
   ],
   "source": [
    "xbt_csv.tail(3)"
   ]
  },
  {
   "cell_type": "code",
   "execution_count": 24,
   "metadata": {},
   "outputs": [
    {
     "data": {
      "text/plain": [
       "[Row(date=datetime.date(2022, 6, 29))]"
      ]
     },
     "execution_count": 24,
     "metadata": {},
     "output_type": "execute_result"
    }
   ],
   "source": [
    "xbt_csv.select(\"date\").tail(1)"
   ]
  },
  {
   "cell_type": "code",
   "execution_count": 27,
   "metadata": {},
   "outputs": [
    {
     "name": "stdout",
     "output_type": "stream",
     "text": [
      "+----------+-------+-------+-------+-------+---------------+------+\n",
      "|      date|   open|   high|    low|  close|         volume|trades|\n",
      "+----------+-------+-------+-------+-------+---------------+------+\n",
      "|2022-06-29|20094.0|20139.8|18617.5|19949.9|5391.5274635603| 32136|\n",
      "|2022-06-28|20252.5|20397.0|19828.7|20086.2|4367.3190830902| 26340|\n",
      "|2022-06-27|20716.3|21188.5|20165.3|20251.6|  3250.53358914| 23648|\n",
      "|2022-06-26|21023.4|21528.7|20505.5|20716.3|3973.8363769301| 22966|\n",
      "|2022-06-25|21476.8|21867.0|20957.0|21023.3|   1913.1909771| 20649|\n",
      "+----------+-------+-------+-------+-------+---------------+------+\n",
      "only showing top 5 rows\n",
      "\n"
     ]
    }
   ],
   "source": [
    "xbt_csv.orderBy(xbt_csv.date.desc()).show(5)"
   ]
  },
  {
   "cell_type": "markdown",
   "metadata": {},
   "source": [
    "**It should have included June 30**"
   ]
  },
  {
   "cell_type": "markdown",
   "metadata": {},
   "source": [
    "### Another Option"
   ]
  },
  {
   "cell_type": "code",
   "execution_count": 31,
   "metadata": {},
   "outputs": [],
   "source": [
    "from pyspark.sql.types import *"
   ]
  },
  {
   "cell_type": "code",
   "execution_count": 51,
   "metadata": {},
   "outputs": [],
   "source": [
    "import datetime"
   ]
  },
  {
   "cell_type": "code",
   "execution_count": 52,
   "metadata": {},
   "outputs": [],
   "source": [
    "data_schema = [StructField(\"date\", DateType(), True),\n",
    "               StructField(\"open\", DoubleType(), True),\n",
    "               StructField(\"high\", DoubleType(), True),\n",
    "               StructField(\"low\", DoubleType(), True),\n",
    "               StructField(\"close\", DoubleType(), True),\n",
    "               StructField(\"volume\", DoubleType(), True),\n",
    "               StructField(\"trades\", IntegerType(), True)]\n",
    "\n",
    "final_struc = StructType(fields=data_schema)"
   ]
  },
  {
   "cell_type": "code",
   "execution_count": 53,
   "metadata": {},
   "outputs": [],
   "source": [
    "test = spark.read.csv(\"btc_data/XBT_OHLCVT/XBTUSD_1440.csv\", schema=final_struc)"
   ]
  },
  {
   "cell_type": "code",
   "execution_count": 54,
   "metadata": {},
   "outputs": [
    {
     "name": "stdout",
     "output_type": "stream",
     "text": [
      "+----+---------+---------+------+------+------+------+\n",
      "|date|     open|     high|   low| close|volume|trades|\n",
      "+----+---------+---------+------+------+------+------+\n",
      "|null|    122.0|    122.0| 122.0| 122.0|   0.1|     1|\n",
      "|null|   123.61|   123.61|123.61|123.61|   0.1|     1|\n",
      "|null|   123.91|   124.19| 123.9|124.18|3.9916|     4|\n",
      "|null|124.01687|124.01687|123.84|123.84| 2.823|     3|\n",
      "|null|   125.85|   125.86|125.85|125.86|   2.0|     2|\n",
      "+----+---------+---------+------+------+------+------+\n",
      "only showing top 5 rows\n",
      "\n"
     ]
    }
   ],
   "source": [
    "test.show(5)"
   ]
  },
  {
   "cell_type": "code",
   "execution_count": 56,
   "metadata": {},
   "outputs": [],
   "source": [
    "test = spark.read.option(\"inferSchema\",\"True\").option(\"header\",\"false\").csv(\"btc_data/XBT_OHLCVT/XBTUSD_1440.csv\")"
   ]
  },
  {
   "cell_type": "code",
   "execution_count": 57,
   "metadata": {},
   "outputs": [
    {
     "name": "stdout",
     "output_type": "stream",
     "text": [
      "+----------+------+------+------+------+------+---+\n",
      "|       _c0|   _c1|   _c2|   _c3|   _c4|   _c5|_c6|\n",
      "+----------+------+------+------+------+------+---+\n",
      "|1381017600| 122.0| 122.0| 122.0| 122.0|   0.1|  1|\n",
      "|1381104000|123.61|123.61|123.61|123.61|   0.1|  1|\n",
      "|1381190400|123.91|124.19| 123.9|124.18|3.9916|  4|\n",
      "+----------+------+------+------+------+------+---+\n",
      "only showing top 3 rows\n",
      "\n"
     ]
    }
   ],
   "source": [
    "test.show(3)"
   ]
  },
  {
   "cell_type": "code",
   "execution_count": 58,
   "metadata": {},
   "outputs": [],
   "source": [
    "test = test.withColumnRenamed('_c0', \"date\")\\\n",
    "                 .withColumnRenamed('_c1', \"open\")\\\n",
    "                 .withColumnRenamed('_c2', \"high\")\\\n",
    "                 .withColumnRenamed('_c3', \"low\")\\\n",
    "                 .withColumnRenamed('_c4', \"close\")\\\n",
    "                 .withColumnRenamed('_c5', \"volume\")\\\n",
    "                 .withColumnRenamed('_c6', \"trades\")"
   ]
  },
  {
   "cell_type": "code",
   "execution_count": 59,
   "metadata": {},
   "outputs": [
    {
     "name": "stdout",
     "output_type": "stream",
     "text": [
      "+----------+------+------+------+------+------+------+\n",
      "|      date|  open|  high|   low| close|volume|trades|\n",
      "+----------+------+------+------+------+------+------+\n",
      "|1381017600| 122.0| 122.0| 122.0| 122.0|   0.1|     1|\n",
      "|1381104000|123.61|123.61|123.61|123.61|   0.1|     1|\n",
      "|1381190400|123.91|124.19| 123.9|124.18|3.9916|     4|\n",
      "+----------+------+------+------+------+------+------+\n",
      "only showing top 3 rows\n",
      "\n"
     ]
    }
   ],
   "source": [
    "test.show(3)"
   ]
  },
  {
   "cell_type": "code",
   "execution_count": 60,
   "metadata": {},
   "outputs": [],
   "source": [
    "test = test.withColumn(\"date\", F.from_unixtime(F.col(\"date\"), 'yyyy-MM-dd').cast(\"date\"))"
   ]
  },
  {
   "cell_type": "code",
   "execution_count": 61,
   "metadata": {},
   "outputs": [
    {
     "name": "stdout",
     "output_type": "stream",
     "text": [
      "root\n",
      " |-- date: date (nullable = true)\n",
      " |-- open: double (nullable = true)\n",
      " |-- high: double (nullable = true)\n",
      " |-- low: double (nullable = true)\n",
      " |-- close: double (nullable = true)\n",
      " |-- volume: double (nullable = true)\n",
      " |-- trades: integer (nullable = true)\n",
      "\n"
     ]
    }
   ],
   "source": [
    "test.printSchema()"
   ]
  },
  {
   "cell_type": "code",
   "execution_count": 62,
   "metadata": {},
   "outputs": [
    {
     "name": "stdout",
     "output_type": "stream",
     "text": [
      "+----------+-------+-------+-------+-------+---------------+------+\n",
      "|      date|   open|   high|    low|  close|         volume|trades|\n",
      "+----------+-------+-------+-------+-------+---------------+------+\n",
      "|2022-06-29|20094.0|20139.8|18617.5|19949.9|5391.5274635603| 32136|\n",
      "|2022-06-28|20252.5|20397.0|19828.7|20086.2|4367.3190830902| 26340|\n",
      "|2022-06-27|20716.3|21188.5|20165.3|20251.6|  3250.53358914| 23648|\n",
      "|2022-06-26|21023.4|21528.7|20505.5|20716.3|3973.8363769301| 22966|\n",
      "|2022-06-25|21476.8|21867.0|20957.0|21023.3|   1913.1909771| 20649|\n",
      "+----------+-------+-------+-------+-------+---------------+------+\n",
      "only showing top 5 rows\n",
      "\n"
     ]
    }
   ],
   "source": [
    "test.orderBy(test.date.desc()).show(5)"
   ]
  },
  {
   "cell_type": "code",
   "execution_count": 67,
   "metadata": {},
   "outputs": [],
   "source": [
    "test2 = spark.read.option(\"inferSchema\",\"True\").option(\"header\",\"true\").csv(\"btc_data/XBT_OHLCVT/XBTUSD_1440.csv\")"
   ]
  },
  {
   "cell_type": "code",
   "execution_count": 68,
   "metadata": {},
   "outputs": [],
   "source": [
    "test2 = test.withColumnRenamed('_c0', \"date\")\\\n",
    "                 .withColumnRenamed('_c1', \"open\")\\\n",
    "                 .withColumnRenamed('_c2', \"high\")\\\n",
    "                 .withColumnRenamed('_c3', \"low\")\\\n",
    "                 .withColumnRenamed('_c4', \"close\")\\\n",
    "                 .withColumnRenamed('_c5', \"volume\")\\\n",
    "                 .withColumnRenamed('_c6', \"trades\")"
   ]
  },
  {
   "cell_type": "code",
   "execution_count": 69,
   "metadata": {},
   "outputs": [
    {
     "name": "stdout",
     "output_type": "stream",
     "text": [
      "+----------+------+------+------+------+------+------+\n",
      "|      date|  open|  high|   low| close|volume|trades|\n",
      "+----------+------+------+------+------+------+------+\n",
      "|2013-10-05| 122.0| 122.0| 122.0| 122.0|   0.1|     1|\n",
      "|2013-10-06|123.61|123.61|123.61|123.61|   0.1|     1|\n",
      "|2013-10-07|123.91|124.19| 123.9|124.18|3.9916|     4|\n",
      "+----------+------+------+------+------+------+------+\n",
      "only showing top 3 rows\n",
      "\n"
     ]
    }
   ],
   "source": [
    "test2.show(3)"
   ]
  },
  {
   "cell_type": "code",
   "execution_count": 71,
   "metadata": {},
   "outputs": [
    {
     "name": "stdout",
     "output_type": "stream",
     "text": [
      "root\n",
      " |-- date: date (nullable = true)\n",
      " |-- open: double (nullable = true)\n",
      " |-- high: double (nullable = true)\n",
      " |-- low: double (nullable = true)\n",
      " |-- close: double (nullable = true)\n",
      " |-- volume: double (nullable = true)\n",
      " |-- trades: integer (nullable = true)\n",
      "\n"
     ]
    }
   ],
   "source": [
    "test2.printSchema()"
   ]
  },
  {
   "cell_type": "code",
   "execution_count": 72,
   "metadata": {},
   "outputs": [],
   "source": [
    "#test2 = test2.withColumn(\"date\", F.from_unixtime(F.col(\"date\"), 'yyyy-MM-dd').cast(\"date\"))"
   ]
  },
  {
   "cell_type": "code",
   "execution_count": 73,
   "metadata": {},
   "outputs": [
    {
     "name": "stdout",
     "output_type": "stream",
     "text": [
      "+----------+-------+-------+-------+-------+---------------+------+\n",
      "|      date|   open|   high|    low|  close|         volume|trades|\n",
      "+----------+-------+-------+-------+-------+---------------+------+\n",
      "|2022-06-29|20094.0|20139.8|18617.5|19949.9|5391.5274635603| 32136|\n",
      "|2022-06-28|20252.5|20397.0|19828.7|20086.2|4367.3190830902| 26340|\n",
      "|2022-06-27|20716.3|21188.5|20165.3|20251.6|  3250.53358914| 23648|\n",
      "+----------+-------+-------+-------+-------+---------------+------+\n",
      "only showing top 3 rows\n",
      "\n"
     ]
    }
   ],
   "source": [
    "test2.orderBy(test2.date.desc()).show(3)"
   ]
  },
  {
   "cell_type": "code",
   "execution_count": null,
   "metadata": {},
   "outputs": [],
   "source": [
    "test2 = spark.read.option(\"inferSchema\",\"True\").option(\"header\",\"true\").csv(\"btc_data/XBT_OHLCVT/XBTUSD_1440.csv\")"
   ]
  },
  {
   "cell_type": "code",
   "execution_count": null,
   "metadata": {},
   "outputs": [],
   "source": []
  },
  {
   "cell_type": "code",
   "execution_count": null,
   "metadata": {},
   "outputs": [],
   "source": []
  },
  {
   "cell_type": "code",
   "execution_count": null,
   "metadata": {},
   "outputs": [],
   "source": []
  },
  {
   "cell_type": "code",
   "execution_count": null,
   "metadata": {},
   "outputs": [],
   "source": []
  },
  {
   "cell_type": "markdown",
   "metadata": {},
   "source": [
    "### 2. Kraken API Market data OHLC endpoint\n",
    "* https://docs.kraken.com/rest/#operation/getTickerInformation"
   ]
  },
  {
   "cell_type": "code",
   "execution_count": 28,
   "metadata": {},
   "outputs": [],
   "source": [
    "import requests\n",
    "import pandas as pd\n",
    "import json\n",
    "from datetime import datetime"
   ]
  },
  {
   "cell_type": "code",
   "execution_count": 29,
   "metadata": {},
   "outputs": [],
   "source": [
    "def xbt_current_df():\n",
    "    kraken_ohlc_cols = [\"date\",\"open\", \"high\", \"low\", \"close\", \"vwap\",\"volume\", \"trades\"]\n",
    "    resp = requests.get('https://api.kraken.com/0/public/OHLC?pair=XBTUSD&interval=1440&since=unix_now').json()\n",
    "    xbt_till_today_df = pd.DataFrame(resp[\"result\"]['XXBTZUSD'])\n",
    "    xbt_till_today_df.columns = kraken_ohlc_cols\n",
    "    xbt_till_today_df[\"date\"] = pd.to_datetime(xbt_till_today_df[\"date\"],unit='s')\n",
    "    xbt_till_today_df[\"date\"] = xbt_till_today_df[\"date\"].dt.date\n",
    "    xbt_till_today_df = xbt_till_today_df[xbt_till_today_df[\"date\"] > (datetime.strptime(\"2022-06-30\", '%Y-%m-%d').date())]\n",
    "    xbt_till_today_df.drop(\"vwap\", axis=1, inplace=True)\n",
    "    xbt_till_today_df.to_csv(\"btc_data/xbt_till_today_df.csv\")\n",
    "    return xbt_till_today_df\n"
   ]
  },
  {
   "cell_type": "code",
   "execution_count": 30,
   "metadata": {},
   "outputs": [
    {
     "data": {
      "text/html": [
       "<div>\n",
       "<style scoped>\n",
       "    .dataframe tbody tr th:only-of-type {\n",
       "        vertical-align: middle;\n",
       "    }\n",
       "\n",
       "    .dataframe tbody tr th {\n",
       "        vertical-align: top;\n",
       "    }\n",
       "\n",
       "    .dataframe thead th {\n",
       "        text-align: right;\n",
       "    }\n",
       "</style>\n",
       "<table border=\"1\" class=\"dataframe\">\n",
       "  <thead>\n",
       "    <tr style=\"text-align: right;\">\n",
       "      <th></th>\n",
       "      <th>date</th>\n",
       "      <th>open</th>\n",
       "      <th>high</th>\n",
       "      <th>low</th>\n",
       "      <th>close</th>\n",
       "      <th>volume</th>\n",
       "      <th>trades</th>\n",
       "    </tr>\n",
       "  </thead>\n",
       "  <tbody>\n",
       "    <tr>\n",
       "      <th>619</th>\n",
       "      <td>2022-07-01</td>\n",
       "      <td>19949.8</td>\n",
       "      <td>20878.3</td>\n",
       "      <td>18950.0</td>\n",
       "      <td>19245.3</td>\n",
       "      <td>5953.60277338</td>\n",
       "      <td>32011</td>\n",
       "    </tr>\n",
       "    <tr>\n",
       "      <th>620</th>\n",
       "      <td>2022-07-02</td>\n",
       "      <td>19250.8</td>\n",
       "      <td>19430.4</td>\n",
       "      <td>18969.6</td>\n",
       "      <td>19226.9</td>\n",
       "      <td>1293.38922751</td>\n",
       "      <td>15723</td>\n",
       "    </tr>\n",
       "    <tr>\n",
       "      <th>621</th>\n",
       "      <td>2022-07-03</td>\n",
       "      <td>19226.9</td>\n",
       "      <td>19684.3</td>\n",
       "      <td>18738.6</td>\n",
       "      <td>19293.5</td>\n",
       "      <td>2226.88548164</td>\n",
       "      <td>17685</td>\n",
       "    </tr>\n",
       "    <tr>\n",
       "      <th>622</th>\n",
       "      <td>2022-07-04</td>\n",
       "      <td>19292.8</td>\n",
       "      <td>20325.0</td>\n",
       "      <td>19033.6</td>\n",
       "      <td>20207.5</td>\n",
       "      <td>3479.37657412</td>\n",
       "      <td>20579</td>\n",
       "    </tr>\n",
       "    <tr>\n",
       "      <th>623</th>\n",
       "      <td>2022-07-05</td>\n",
       "      <td>20210.8</td>\n",
       "      <td>20732.1</td>\n",
       "      <td>19300.0</td>\n",
       "      <td>20169.1</td>\n",
       "      <td>5161.93595617</td>\n",
       "      <td>30157</td>\n",
       "    </tr>\n",
       "    <tr>\n",
       "      <th>...</th>\n",
       "      <td>...</td>\n",
       "      <td>...</td>\n",
       "      <td>...</td>\n",
       "      <td>...</td>\n",
       "      <td>...</td>\n",
       "      <td>...</td>\n",
       "      <td>...</td>\n",
       "    </tr>\n",
       "    <tr>\n",
       "      <th>715</th>\n",
       "      <td>2022-10-05</td>\n",
       "      <td>20340.9</td>\n",
       "      <td>20360.9</td>\n",
       "      <td>19754.3</td>\n",
       "      <td>20162.7</td>\n",
       "      <td>3851.61226863</td>\n",
       "      <td>19609</td>\n",
       "    </tr>\n",
       "    <tr>\n",
       "      <th>716</th>\n",
       "      <td>2022-10-06</td>\n",
       "      <td>20163.1</td>\n",
       "      <td>20449.8</td>\n",
       "      <td>19872.7</td>\n",
       "      <td>19955.8</td>\n",
       "      <td>3542.06193830</td>\n",
       "      <td>20390</td>\n",
       "    </tr>\n",
       "    <tr>\n",
       "      <th>717</th>\n",
       "      <td>2022-10-07</td>\n",
       "      <td>19955.8</td>\n",
       "      <td>20054.7</td>\n",
       "      <td>19338.4</td>\n",
       "      <td>19532.8</td>\n",
       "      <td>3678.17182192</td>\n",
       "      <td>19341</td>\n",
       "    </tr>\n",
       "    <tr>\n",
       "      <th>718</th>\n",
       "      <td>2022-10-08</td>\n",
       "      <td>19532.8</td>\n",
       "      <td>19615.0</td>\n",
       "      <td>19249.7</td>\n",
       "      <td>19417.5</td>\n",
       "      <td>1337.85077668</td>\n",
       "      <td>10018</td>\n",
       "    </tr>\n",
       "    <tr>\n",
       "      <th>719</th>\n",
       "      <td>2022-10-09</td>\n",
       "      <td>19420.0</td>\n",
       "      <td>19540.0</td>\n",
       "      <td>19335.0</td>\n",
       "      <td>19498.3</td>\n",
       "      <td>374.72130920</td>\n",
       "      <td>4771</td>\n",
       "    </tr>\n",
       "  </tbody>\n",
       "</table>\n",
       "<p>101 rows × 7 columns</p>\n",
       "</div>"
      ],
      "text/plain": [
       "           date     open     high      low    close         volume  trades\n",
       "619  2022-07-01  19949.8  20878.3  18950.0  19245.3  5953.60277338   32011\n",
       "620  2022-07-02  19250.8  19430.4  18969.6  19226.9  1293.38922751   15723\n",
       "621  2022-07-03  19226.9  19684.3  18738.6  19293.5  2226.88548164   17685\n",
       "622  2022-07-04  19292.8  20325.0  19033.6  20207.5  3479.37657412   20579\n",
       "623  2022-07-05  20210.8  20732.1  19300.0  20169.1  5161.93595617   30157\n",
       "..          ...      ...      ...      ...      ...            ...     ...\n",
       "715  2022-10-05  20340.9  20360.9  19754.3  20162.7  3851.61226863   19609\n",
       "716  2022-10-06  20163.1  20449.8  19872.7  19955.8  3542.06193830   20390\n",
       "717  2022-10-07  19955.8  20054.7  19338.4  19532.8  3678.17182192   19341\n",
       "718  2022-10-08  19532.8  19615.0  19249.7  19417.5  1337.85077668   10018\n",
       "719  2022-10-09  19420.0  19540.0  19335.0  19498.3   374.72130920    4771\n",
       "\n",
       "[101 rows x 7 columns]"
      ]
     },
     "execution_count": 30,
     "metadata": {},
     "output_type": "execute_result"
    }
   ],
   "source": [
    "new_xbt_pd = xbt_current_df()\n",
    "new_xbt_pd"
   ]
  },
  {
   "cell_type": "code",
   "execution_count": 42,
   "metadata": {},
   "outputs": [
    {
     "data": {
      "text/plain": [
       "99"
      ]
     },
     "execution_count": 42,
     "metadata": {},
     "output_type": "execute_result"
    }
   ],
   "source": [
    "len(new_xbt_pd)"
   ]
  },
  {
   "cell_type": "markdown",
   "metadata": {},
   "source": [
    "### Create PySpark DataFrame from Pandas DataFrame"
   ]
  },
  {
   "cell_type": "code",
   "execution_count": 43,
   "metadata": {},
   "outputs": [],
   "source": [
    "new_xbt_sdf = spark.createDataFrame(new_xbt_pd)"
   ]
  },
  {
   "cell_type": "code",
   "execution_count": 44,
   "metadata": {},
   "outputs": [
    {
     "name": "stdout",
     "output_type": "stream",
     "text": [
      "+----------+-------+-------+-------+-------+-------------+------+\n",
      "|      date|   open|   high|    low|  close|       volume|trades|\n",
      "+----------+-------+-------+-------+-------+-------------+------+\n",
      "|2022-07-01|19949.8|20878.3|18950.0|19245.3|5953.60277338| 32011|\n",
      "|2022-07-02|19250.8|19430.4|18969.6|19226.9|1293.38922751| 15723|\n",
      "|2022-07-03|19226.9|19684.3|18738.6|19293.5|2226.88548164| 17685|\n",
      "|2022-07-04|19292.8|20325.0|19033.6|20207.5|3479.37657412| 20579|\n",
      "|2022-07-05|20210.8|20732.1|19300.0|20169.1|5161.93595617| 30157|\n",
      "+----------+-------+-------+-------+-------+-------------+------+\n",
      "only showing top 5 rows\n",
      "\n"
     ]
    }
   ],
   "source": [
    "new_xbt_sdf.show(5)"
   ]
  },
  {
   "cell_type": "code",
   "execution_count": 45,
   "metadata": {},
   "outputs": [
    {
     "data": {
      "text/plain": [
       "99"
      ]
     },
     "execution_count": 45,
     "metadata": {},
     "output_type": "execute_result"
    }
   ],
   "source": [
    "new_xbt_sdf.count()"
   ]
  },
  {
   "cell_type": "code",
   "execution_count": 46,
   "metadata": {},
   "outputs": [
    {
     "data": {
      "text/plain": [
       "3178"
      ]
     },
     "execution_count": 46,
     "metadata": {},
     "output_type": "execute_result"
    }
   ],
   "source": [
    "xbt_csv.count()"
   ]
  },
  {
   "cell_type": "code",
   "execution_count": 47,
   "metadata": {},
   "outputs": [
    {
     "data": {
      "text/plain": [
       "3277"
      ]
     },
     "execution_count": 47,
     "metadata": {},
     "output_type": "execute_result"
    }
   ],
   "source": [
    "new_xbt_sdf.count() + xbt_csv.count()"
   ]
  },
  {
   "cell_type": "code",
   "execution_count": 48,
   "metadata": {},
   "outputs": [
    {
     "data": {
      "text/plain": [
       "3277"
      ]
     },
     "execution_count": 48,
     "metadata": {},
     "output_type": "execute_result"
    }
   ],
   "source": [
    "xbt_csv.union(new_xbt_sdf).count()"
   ]
  },
  {
   "cell_type": "markdown",
   "metadata": {},
   "source": [
    "### 3. Historical + Current Price"
   ]
  },
  {
   "cell_type": "code",
   "execution_count": 49,
   "metadata": {},
   "outputs": [
    {
     "data": {
      "text/plain": [
       "3277"
      ]
     },
     "execution_count": 49,
     "metadata": {},
     "output_type": "execute_result"
    }
   ],
   "source": [
    "merged_xbt = xbt_csv.unionAll(new_xbt_sdf).distinct()\n",
    "merged_xbt.count()"
   ]
  },
  {
   "cell_type": "code",
   "execution_count": 50,
   "metadata": {},
   "outputs": [
    {
     "name": "stdout",
     "output_type": "stream",
     "text": [
      "+----------+---------+---------+---------+---------+----------------+------+\n",
      "|      date|     open|     high|      low|    close|          volume|trades|\n",
      "+----------+---------+---------+---------+---------+----------------+------+\n",
      "|2015-01-19|    211.0|219.84384|  208.395|219.81882|      5.21586423|     9|\n",
      "|2015-08-22|232.37909|232.37909|   226.07|228.13041|     52.24048713|    42|\n",
      "|2015-12-10|417.83305|    445.0|417.83305|  443.119|    461.35822146|   419|\n",
      "|2017-05-26| 2199.787|   2290.0|  1812.99|   2008.0|12534.3991475302| 34964|\n",
      "|2017-07-28| 2808.971| 2808.999| 2678.588| 2715.999| 7068.3909887602| 17833|\n",
      "+----------+---------+---------+---------+---------+----------------+------+\n",
      "only showing top 5 rows\n",
      "\n"
     ]
    }
   ],
   "source": [
    "merged_xbt.show(5)"
   ]
  },
  {
   "cell_type": "code",
   "execution_count": 58,
   "metadata": {},
   "outputs": [
    {
     "name": "stdout",
     "output_type": "stream",
     "text": [
      "+----------+-------+-------+-------+-------+---------------+------+\n",
      "|      date|   open|   high|    low|  close|         volume|trades|\n",
      "+----------+-------+-------+-------+-------+---------------+------+\n",
      "|2022-06-29|20094.0|20139.8|18617.5|19949.9|5391.5274635603| 32136|\n",
      "|2022-06-27|20716.3|21188.5|20165.3|20251.6|  3250.53358914| 23648|\n",
      "|2022-06-26|21023.4|21528.7|20505.5|20716.3|3973.8363769301| 22966|\n",
      "|2022-06-28|20252.5|20397.0|19828.7|20086.2|4367.3190830902| 26340|\n",
      "|2022-07-09|21580.9|21955.0|21316.7|21579.1|  1661.83466380| 18159|\n",
      "|2022-07-04|19292.8|20325.0|19033.6|20207.5|  3479.37657412| 20579|\n",
      "|2022-07-11|20830.3|20847.4|19870.5|19947.0|  3526.05246794| 26945|\n",
      "|2022-07-12|19943.3|20036.3|19214.1|19307.9|  3986.29656040| 25331|\n",
      "|2022-07-08|21617.6|22498.0|21183.9|21582.6|  5110.19342253| 32125|\n",
      "|2022-07-01|19949.8|20878.3|18950.0|19245.3|  5953.60277338| 32011|\n",
      "|2022-07-06|20169.0|20583.0|19750.1|20542.7|  3213.69715576| 23087|\n",
      "|2022-07-10|21581.7|21590.6|20620.3|20830.3|  2744.58815333| 24332|\n",
      "|2022-07-02|19250.8|19430.4|18969.6|19226.9|  1293.38922751| 15723|\n",
      "|2022-07-03|19226.9|19684.3|18738.6|19293.5|  2226.88548164| 17685|\n",
      "|2022-07-05|20210.8|20732.1|19300.0|20169.1|  5161.93595617| 30157|\n",
      "|2022-07-07|20541.0|21826.0|20236.5|21615.4|  5510.55007158| 30463|\n",
      "|2022-07-21|23220.8|23428.8|22351.1|23155.6|  4327.84396329| 25329|\n",
      "|2022-07-23|22688.0|22998.5|21950.3|22461.8|  2664.78028636| 22319|\n",
      "|2022-07-13|19305.8|20332.3|18900.0|20233.6|  5490.05018666| 32967|\n",
      "|2022-07-19|22450.0|23782.9|21600.0|23411.0|  8067.08822755| 40882|\n",
      "+----------+-------+-------+-------+-------+---------------+------+\n",
      "only showing top 20 rows\n",
      "\n"
     ]
    }
   ],
   "source": [
    "test_df = merged_xbt.filter(merged_xbt[\"date\"] > \"2022-06-25\")\n",
    "test_df.show()"
   ]
  },
  {
   "cell_type": "code",
   "execution_count": 59,
   "metadata": {},
   "outputs": [
    {
     "data": {
      "text/plain": [
       "103"
      ]
     },
     "execution_count": 59,
     "metadata": {},
     "output_type": "execute_result"
    }
   ],
   "source": [
    "test_df.count()"
   ]
  },
  {
   "cell_type": "code",
   "execution_count": 93,
   "metadata": {},
   "outputs": [
    {
     "name": "stdout",
     "output_type": "stream",
     "text": [
      "+----------+-------+-------+-------+-------+---------------+------+\n",
      "|      date|   open|   high|    low|  close|         volume|trades|\n",
      "+----------+-------+-------+-------+-------+---------------+------+\n",
      "|2022-06-29|20094.0|20139.8|18617.5|19949.9|5391.5274635603| 32136|\n",
      "+----------+-------+-------+-------+-------+---------------+------+\n",
      "\n"
     ]
    }
   ],
   "source": [
    "test_df.filter(test_df.date == \"2022-06-29\").show()"
   ]
  },
  {
   "cell_type": "markdown",
   "metadata": {},
   "source": [
    "**Confirm that pyspark missed June 30 row**"
   ]
  },
  {
   "cell_type": "code",
   "execution_count": 94,
   "metadata": {},
   "outputs": [
    {
     "name": "stdout",
     "output_type": "stream",
     "text": [
      "+----+----+----+---+-----+------+------+\n",
      "|date|open|high|low|close|volume|trades|\n",
      "+----+----+----+---+-----+------+------+\n",
      "+----+----+----+---+-----+------+------+\n",
      "\n"
     ]
    }
   ],
   "source": [
    "test_df.filter(test_df.date.isin([\"2022-06-29\"])).show()"
   ]
  },
  {
   "cell_type": "code",
   "execution_count": 99,
   "metadata": {},
   "outputs": [],
   "source": [
    "li = [\"2022-06-29\"]"
   ]
  },
  {
   "cell_type": "code",
   "execution_count": 98,
   "metadata": {},
   "outputs": [
    {
     "name": "stdout",
     "output_type": "stream",
     "text": [
      "+----------+-------+-------+-------+-------+---------------+------+\n",
      "|      date|   open|   high|    low|  close|         volume|trades|\n",
      "+----------+-------+-------+-------+-------+---------------+------+\n",
      "|2022-06-29|20094.0|20139.8|18617.5|19949.9|5391.5274635603| 32136|\n",
      "+----------+-------+-------+-------+-------+---------------+------+\n",
      "\n"
     ]
    }
   ],
   "source": [
    "test_df.filter(test_df.date.isin([\"2022-06-29\"])).show()"
   ]
  },
  {
   "cell_type": "code",
   "execution_count": 100,
   "metadata": {},
   "outputs": [
    {
     "name": "stdout",
     "output_type": "stream",
     "text": [
      "+----------+-------+-------+-------+-------+---------------+------+\n",
      "|      date|   open|   high|    low|  close|         volume|trades|\n",
      "+----------+-------+-------+-------+-------+---------------+------+\n",
      "|2022-06-29|20094.0|20139.8|18617.5|19949.9|5391.5274635603| 32136|\n",
      "+----------+-------+-------+-------+-------+---------------+------+\n",
      "\n"
     ]
    }
   ],
   "source": [
    "test_df.filter(test_df.date.isin(li)).show()"
   ]
  },
  {
   "cell_type": "code",
   "execution_count": 101,
   "metadata": {},
   "outputs": [
    {
     "name": "stdout",
     "output_type": "stream",
     "text": [
      "+----+----+----+---+-----+------+------+\n",
      "|date|open|high|low|close|volume|trades|\n",
      "+----+----+----+---+-----+------+------+\n",
      "+----+----+----+---+-----+------+------+\n",
      "\n"
     ]
    }
   ],
   "source": [
    "test_df.filter(test_df.date.isin([\"2022-06-30\"])).show()"
   ]
  },
  {
   "cell_type": "markdown",
   "metadata": {},
   "source": [
    "**Reference for fixing the missing value(s)**\n",
    "- https://kokes.github.io/blog/2019/07/09/losing-data-apache-spark.html"
   ]
  },
  {
   "cell_type": "markdown",
   "metadata": {},
   "source": [
    "## Pandas Version"
   ]
  },
  {
   "cell_type": "code",
   "execution_count": 72,
   "metadata": {},
   "outputs": [],
   "source": [
    "import numpy as np\n",
    "import pandas as pd\n",
    "import json\n",
    "import datetime\n",
    "import time\n",
    "import requests"
   ]
  },
  {
   "cell_type": "code",
   "execution_count": 73,
   "metadata": {},
   "outputs": [
    {
     "data": {
      "text/html": [
       "<div>\n",
       "<style scoped>\n",
       "    .dataframe tbody tr th:only-of-type {\n",
       "        vertical-align: middle;\n",
       "    }\n",
       "\n",
       "    .dataframe tbody tr th {\n",
       "        vertical-align: top;\n",
       "    }\n",
       "\n",
       "    .dataframe thead th {\n",
       "        text-align: right;\n",
       "    }\n",
       "</style>\n",
       "<table border=\"1\" class=\"dataframe\">\n",
       "  <thead>\n",
       "    <tr style=\"text-align: right;\">\n",
       "      <th></th>\n",
       "      <th>date</th>\n",
       "      <th>open</th>\n",
       "      <th>high</th>\n",
       "      <th>low</th>\n",
       "      <th>close</th>\n",
       "      <th>volume</th>\n",
       "      <th>trades</th>\n",
       "    </tr>\n",
       "  </thead>\n",
       "  <tbody>\n",
       "    <tr>\n",
       "      <th>0</th>\n",
       "      <td>2013-10-06</td>\n",
       "      <td>122.00000</td>\n",
       "      <td>122.00000</td>\n",
       "      <td>122.00</td>\n",
       "      <td>122.00</td>\n",
       "      <td>0.100000</td>\n",
       "      <td>1</td>\n",
       "    </tr>\n",
       "    <tr>\n",
       "      <th>1</th>\n",
       "      <td>2013-10-07</td>\n",
       "      <td>123.61000</td>\n",
       "      <td>123.61000</td>\n",
       "      <td>123.61</td>\n",
       "      <td>123.61</td>\n",
       "      <td>0.100000</td>\n",
       "      <td>1</td>\n",
       "    </tr>\n",
       "    <tr>\n",
       "      <th>2</th>\n",
       "      <td>2013-10-08</td>\n",
       "      <td>123.91000</td>\n",
       "      <td>124.19000</td>\n",
       "      <td>123.90</td>\n",
       "      <td>124.18</td>\n",
       "      <td>3.991600</td>\n",
       "      <td>4</td>\n",
       "    </tr>\n",
       "    <tr>\n",
       "      <th>3</th>\n",
       "      <td>2013-10-09</td>\n",
       "      <td>124.01687</td>\n",
       "      <td>124.01687</td>\n",
       "      <td>123.84</td>\n",
       "      <td>123.84</td>\n",
       "      <td>2.823000</td>\n",
       "      <td>3</td>\n",
       "    </tr>\n",
       "    <tr>\n",
       "      <th>4</th>\n",
       "      <td>2013-10-10</td>\n",
       "      <td>125.85000</td>\n",
       "      <td>125.86000</td>\n",
       "      <td>125.85</td>\n",
       "      <td>125.86</td>\n",
       "      <td>2.000000</td>\n",
       "      <td>2</td>\n",
       "    </tr>\n",
       "    <tr>\n",
       "      <th>...</th>\n",
       "      <td>...</td>\n",
       "      <td>...</td>\n",
       "      <td>...</td>\n",
       "      <td>...</td>\n",
       "      <td>...</td>\n",
       "      <td>...</td>\n",
       "      <td>...</td>\n",
       "    </tr>\n",
       "    <tr>\n",
       "      <th>3173</th>\n",
       "      <td>2022-06-26</td>\n",
       "      <td>21476.80000</td>\n",
       "      <td>21867.00000</td>\n",
       "      <td>20957.00</td>\n",
       "      <td>21023.30</td>\n",
       "      <td>1913.190977</td>\n",
       "      <td>20649</td>\n",
       "    </tr>\n",
       "    <tr>\n",
       "      <th>3174</th>\n",
       "      <td>2022-06-27</td>\n",
       "      <td>21023.40000</td>\n",
       "      <td>21528.70000</td>\n",
       "      <td>20505.50</td>\n",
       "      <td>20716.30</td>\n",
       "      <td>3973.836377</td>\n",
       "      <td>22966</td>\n",
       "    </tr>\n",
       "    <tr>\n",
       "      <th>3175</th>\n",
       "      <td>2022-06-28</td>\n",
       "      <td>20716.30000</td>\n",
       "      <td>21188.50000</td>\n",
       "      <td>20165.30</td>\n",
       "      <td>20251.60</td>\n",
       "      <td>3250.533589</td>\n",
       "      <td>23648</td>\n",
       "    </tr>\n",
       "    <tr>\n",
       "      <th>3176</th>\n",
       "      <td>2022-06-29</td>\n",
       "      <td>20252.50000</td>\n",
       "      <td>20397.00000</td>\n",
       "      <td>19828.70</td>\n",
       "      <td>20086.20</td>\n",
       "      <td>4367.319083</td>\n",
       "      <td>26340</td>\n",
       "    </tr>\n",
       "    <tr>\n",
       "      <th>3177</th>\n",
       "      <td>2022-06-30</td>\n",
       "      <td>20094.00000</td>\n",
       "      <td>20139.80000</td>\n",
       "      <td>18617.50</td>\n",
       "      <td>19949.90</td>\n",
       "      <td>5391.527464</td>\n",
       "      <td>32136</td>\n",
       "    </tr>\n",
       "  </tbody>\n",
       "</table>\n",
       "<p>3178 rows × 7 columns</p>\n",
       "</div>"
      ],
      "text/plain": [
       "           date         open         high       low     close       volume  \\\n",
       "0    2013-10-06    122.00000    122.00000    122.00    122.00     0.100000   \n",
       "1    2013-10-07    123.61000    123.61000    123.61    123.61     0.100000   \n",
       "2    2013-10-08    123.91000    124.19000    123.90    124.18     3.991600   \n",
       "3    2013-10-09    124.01687    124.01687    123.84    123.84     2.823000   \n",
       "4    2013-10-10    125.85000    125.86000    125.85    125.86     2.000000   \n",
       "...         ...          ...          ...       ...       ...          ...   \n",
       "3173 2022-06-26  21476.80000  21867.00000  20957.00  21023.30  1913.190977   \n",
       "3174 2022-06-27  21023.40000  21528.70000  20505.50  20716.30  3973.836377   \n",
       "3175 2022-06-28  20716.30000  21188.50000  20165.30  20251.60  3250.533589   \n",
       "3176 2022-06-29  20252.50000  20397.00000  19828.70  20086.20  4367.319083   \n",
       "3177 2022-06-30  20094.00000  20139.80000  18617.50  19949.90  5391.527464   \n",
       "\n",
       "      trades  \n",
       "0          1  \n",
       "1          1  \n",
       "2          4  \n",
       "3          3  \n",
       "4          2  \n",
       "...      ...  \n",
       "3173   20649  \n",
       "3174   22966  \n",
       "3175   23648  \n",
       "3176   26340  \n",
       "3177   32136  \n",
       "\n",
       "[3178 rows x 7 columns]"
      ]
     },
     "execution_count": 73,
     "metadata": {},
     "output_type": "execute_result"
    }
   ],
   "source": [
    "def xbt_historical_make_df():\n",
    "    xbt_cols = [\"date\",\"open\", \"high\", \"low\", \"close\", \"volume\", \"trades\"]\n",
    "    xbt_historical_df = pd.read_csv(\"btc_data/XBT_OHLCVT/XBTUSD_1440.csv\", names=xbt_cols)\n",
    "    xbt_historical_df[\"date\"] = pd.to_datetime(xbt_historical_df[\"date\"],unit='s')\n",
    "    xbt_historical_df.to_csv(\"btc_data/xbt_historical_df.csv\")\n",
    "    return(xbt_historical_df)\n",
    "xbt_historical_make_df()"
   ]
  },
  {
   "cell_type": "code",
   "execution_count": 74,
   "metadata": {},
   "outputs": [
    {
     "data": {
      "text/plain": [
       "3178"
      ]
     },
     "execution_count": 74,
     "metadata": {},
     "output_type": "execute_result"
    }
   ],
   "source": [
    "len(xbt_historical_make_df())"
   ]
  },
  {
   "cell_type": "code",
   "execution_count": 75,
   "metadata": {},
   "outputs": [
    {
     "data": {
      "text/html": [
       "<div>\n",
       "<style scoped>\n",
       "    .dataframe tbody tr th:only-of-type {\n",
       "        vertical-align: middle;\n",
       "    }\n",
       "\n",
       "    .dataframe tbody tr th {\n",
       "        vertical-align: top;\n",
       "    }\n",
       "\n",
       "    .dataframe thead th {\n",
       "        text-align: right;\n",
       "    }\n",
       "</style>\n",
       "<table border=\"1\" class=\"dataframe\">\n",
       "  <thead>\n",
       "    <tr style=\"text-align: right;\">\n",
       "      <th></th>\n",
       "      <th>date</th>\n",
       "      <th>open</th>\n",
       "      <th>high</th>\n",
       "      <th>low</th>\n",
       "      <th>close</th>\n",
       "      <th>vwap</th>\n",
       "      <th>volume</th>\n",
       "      <th>trades</th>\n",
       "    </tr>\n",
       "  </thead>\n",
       "  <tbody>\n",
       "    <tr>\n",
       "      <th>0</th>\n",
       "      <td>2020-10-18</td>\n",
       "      <td>11364.0</td>\n",
       "      <td>11515.1</td>\n",
       "      <td>11355.7</td>\n",
       "      <td>11508.9</td>\n",
       "      <td>11443.4</td>\n",
       "      <td>1062.87912435</td>\n",
       "      <td>5240</td>\n",
       "    </tr>\n",
       "    <tr>\n",
       "      <th>1</th>\n",
       "      <td>2020-10-19</td>\n",
       "      <td>11508.8</td>\n",
       "      <td>11838.3</td>\n",
       "      <td>11416.6</td>\n",
       "      <td>11757.0</td>\n",
       "      <td>11653.6</td>\n",
       "      <td>4364.70701426</td>\n",
       "      <td>14334</td>\n",
       "    </tr>\n",
       "    <tr>\n",
       "      <th>2</th>\n",
       "      <td>2020-10-20</td>\n",
       "      <td>11757.0</td>\n",
       "      <td>12070.0</td>\n",
       "      <td>11678.8</td>\n",
       "      <td>11925.4</td>\n",
       "      <td>11889.5</td>\n",
       "      <td>5301.91244632</td>\n",
       "      <td>17619</td>\n",
       "    </tr>\n",
       "    <tr>\n",
       "      <th>3</th>\n",
       "      <td>2020-10-21</td>\n",
       "      <td>11926.7</td>\n",
       "      <td>13241.4</td>\n",
       "      <td>11905.7</td>\n",
       "      <td>12813.0</td>\n",
       "      <td>12603.2</td>\n",
       "      <td>11497.59347437</td>\n",
       "      <td>38325</td>\n",
       "    </tr>\n",
       "    <tr>\n",
       "      <th>4</th>\n",
       "      <td>2020-10-22</td>\n",
       "      <td>12813.0</td>\n",
       "      <td>13199.0</td>\n",
       "      <td>12690.5</td>\n",
       "      <td>12984.1</td>\n",
       "      <td>12968.6</td>\n",
       "      <td>5337.43662325</td>\n",
       "      <td>22865</td>\n",
       "    </tr>\n",
       "    <tr>\n",
       "      <th>...</th>\n",
       "      <td>...</td>\n",
       "      <td>...</td>\n",
       "      <td>...</td>\n",
       "      <td>...</td>\n",
       "      <td>...</td>\n",
       "      <td>...</td>\n",
       "      <td>...</td>\n",
       "      <td>...</td>\n",
       "    </tr>\n",
       "    <tr>\n",
       "      <th>715</th>\n",
       "      <td>2022-10-03</td>\n",
       "      <td>19060.4</td>\n",
       "      <td>19700.0</td>\n",
       "      <td>18985.7</td>\n",
       "      <td>19639.6</td>\n",
       "      <td>19367.5</td>\n",
       "      <td>3507.05155930</td>\n",
       "      <td>20153</td>\n",
       "    </tr>\n",
       "    <tr>\n",
       "      <th>716</th>\n",
       "      <td>2022-10-04</td>\n",
       "      <td>19631.4</td>\n",
       "      <td>20475.0</td>\n",
       "      <td>19508.2</td>\n",
       "      <td>20347.9</td>\n",
       "      <td>20034.5</td>\n",
       "      <td>5668.96124874</td>\n",
       "      <td>24242</td>\n",
       "    </tr>\n",
       "    <tr>\n",
       "      <th>717</th>\n",
       "      <td>2022-10-05</td>\n",
       "      <td>20340.9</td>\n",
       "      <td>20360.9</td>\n",
       "      <td>19754.3</td>\n",
       "      <td>20162.7</td>\n",
       "      <td>20063.9</td>\n",
       "      <td>3851.61226863</td>\n",
       "      <td>19609</td>\n",
       "    </tr>\n",
       "    <tr>\n",
       "      <th>718</th>\n",
       "      <td>2022-10-06</td>\n",
       "      <td>20163.1</td>\n",
       "      <td>20449.8</td>\n",
       "      <td>19872.7</td>\n",
       "      <td>19955.8</td>\n",
       "      <td>20139.3</td>\n",
       "      <td>3542.06193830</td>\n",
       "      <td>20390</td>\n",
       "    </tr>\n",
       "    <tr>\n",
       "      <th>719</th>\n",
       "      <td>2022-10-07</td>\n",
       "      <td>19955.8</td>\n",
       "      <td>20054.7</td>\n",
       "      <td>19947.0</td>\n",
       "      <td>19994.3</td>\n",
       "      <td>20002.5</td>\n",
       "      <td>181.09908429</td>\n",
       "      <td>2449</td>\n",
       "    </tr>\n",
       "  </tbody>\n",
       "</table>\n",
       "<p>720 rows × 8 columns</p>\n",
       "</div>"
      ],
      "text/plain": [
       "          date     open     high      low    close     vwap          volume  \\\n",
       "0   2020-10-18  11364.0  11515.1  11355.7  11508.9  11443.4   1062.87912435   \n",
       "1   2020-10-19  11508.8  11838.3  11416.6  11757.0  11653.6   4364.70701426   \n",
       "2   2020-10-20  11757.0  12070.0  11678.8  11925.4  11889.5   5301.91244632   \n",
       "3   2020-10-21  11926.7  13241.4  11905.7  12813.0  12603.2  11497.59347437   \n",
       "4   2020-10-22  12813.0  13199.0  12690.5  12984.1  12968.6   5337.43662325   \n",
       "..         ...      ...      ...      ...      ...      ...             ...   \n",
       "715 2022-10-03  19060.4  19700.0  18985.7  19639.6  19367.5   3507.05155930   \n",
       "716 2022-10-04  19631.4  20475.0  19508.2  20347.9  20034.5   5668.96124874   \n",
       "717 2022-10-05  20340.9  20360.9  19754.3  20162.7  20063.9   3851.61226863   \n",
       "718 2022-10-06  20163.1  20449.8  19872.7  19955.8  20139.3   3542.06193830   \n",
       "719 2022-10-07  19955.8  20054.7  19947.0  19994.3  20002.5    181.09908429   \n",
       "\n",
       "     trades  \n",
       "0      5240  \n",
       "1     14334  \n",
       "2     17619  \n",
       "3     38325  \n",
       "4     22865  \n",
       "..      ...  \n",
       "715   20153  \n",
       "716   24242  \n",
       "717   19609  \n",
       "718   20390  \n",
       "719    2449  \n",
       "\n",
       "[720 rows x 8 columns]"
      ]
     },
     "execution_count": 75,
     "metadata": {},
     "output_type": "execute_result"
    }
   ],
   "source": [
    "def xbt_current_df():\n",
    "    kraken_ohlc_cols = [\"date\",\"open\", \"high\", \"low\", \"close\", \"vwap\",\"volume\", \"trades\"]\n",
    "    resp = requests.get('https://api.kraken.com/0/public/OHLC?pair=XBTUSD&interval=1440&since=unix_now').json()\n",
    "    xbt_till_today_df = pd.DataFrame(resp[\"result\"]['XXBTZUSD'])\n",
    "    xbt_till_today_df.columns = kraken_ohlc_cols\n",
    "    xbt_till_today_df[\"date\"] = pd.to_datetime(xbt_till_today_df[\"date\"],unit='s')\n",
    "    xbt_till_today_df.to_csv(\"btc_data/xbt_till_today_df.csv\")\n",
    "    return xbt_till_today_df\n",
    "xbt_current_df()"
   ]
  },
  {
   "cell_type": "code",
   "execution_count": 76,
   "metadata": {},
   "outputs": [
    {
     "data": {
      "text/plain": [
       "720"
      ]
     },
     "execution_count": 76,
     "metadata": {},
     "output_type": "execute_result"
    }
   ],
   "source": [
    "len(xbt_current_df())"
   ]
  },
  {
   "cell_type": "code",
   "execution_count": 77,
   "metadata": {},
   "outputs": [
    {
     "data": {
      "text/html": [
       "<div>\n",
       "<style scoped>\n",
       "    .dataframe tbody tr th:only-of-type {\n",
       "        vertical-align: middle;\n",
       "    }\n",
       "\n",
       "    .dataframe tbody tr th {\n",
       "        vertical-align: top;\n",
       "    }\n",
       "\n",
       "    .dataframe thead th {\n",
       "        text-align: right;\n",
       "    }\n",
       "</style>\n",
       "<table border=\"1\" class=\"dataframe\">\n",
       "  <thead>\n",
       "    <tr style=\"text-align: right;\">\n",
       "      <th></th>\n",
       "      <th>date</th>\n",
       "      <th>open</th>\n",
       "      <th>high</th>\n",
       "      <th>low</th>\n",
       "      <th>close</th>\n",
       "      <th>volume</th>\n",
       "      <th>trades</th>\n",
       "    </tr>\n",
       "  </thead>\n",
       "  <tbody>\n",
       "    <tr>\n",
       "      <th>0</th>\n",
       "      <td>2013-10-06</td>\n",
       "      <td>122.00000</td>\n",
       "      <td>122.00000</td>\n",
       "      <td>122.00</td>\n",
       "      <td>122.00</td>\n",
       "      <td>0.100000</td>\n",
       "      <td>1</td>\n",
       "    </tr>\n",
       "    <tr>\n",
       "      <th>1</th>\n",
       "      <td>2013-10-07</td>\n",
       "      <td>123.61000</td>\n",
       "      <td>123.61000</td>\n",
       "      <td>123.61</td>\n",
       "      <td>123.61</td>\n",
       "      <td>0.100000</td>\n",
       "      <td>1</td>\n",
       "    </tr>\n",
       "    <tr>\n",
       "      <th>2</th>\n",
       "      <td>2013-10-08</td>\n",
       "      <td>123.91000</td>\n",
       "      <td>124.19000</td>\n",
       "      <td>123.90</td>\n",
       "      <td>124.18</td>\n",
       "      <td>3.991600</td>\n",
       "      <td>4</td>\n",
       "    </tr>\n",
       "    <tr>\n",
       "      <th>3</th>\n",
       "      <td>2013-10-09</td>\n",
       "      <td>124.01687</td>\n",
       "      <td>124.01687</td>\n",
       "      <td>123.84</td>\n",
       "      <td>123.84</td>\n",
       "      <td>2.823000</td>\n",
       "      <td>3</td>\n",
       "    </tr>\n",
       "    <tr>\n",
       "      <th>4</th>\n",
       "      <td>2013-10-10</td>\n",
       "      <td>125.85000</td>\n",
       "      <td>125.86000</td>\n",
       "      <td>125.85</td>\n",
       "      <td>125.86</td>\n",
       "      <td>2.000000</td>\n",
       "      <td>2</td>\n",
       "    </tr>\n",
       "    <tr>\n",
       "      <th>...</th>\n",
       "      <td>...</td>\n",
       "      <td>...</td>\n",
       "      <td>...</td>\n",
       "      <td>...</td>\n",
       "      <td>...</td>\n",
       "      <td>...</td>\n",
       "      <td>...</td>\n",
       "    </tr>\n",
       "    <tr>\n",
       "      <th>3272</th>\n",
       "      <td>2022-10-03</td>\n",
       "      <td>19060.40000</td>\n",
       "      <td>19700.00000</td>\n",
       "      <td>18985.70</td>\n",
       "      <td>19639.60</td>\n",
       "      <td>3507.051559</td>\n",
       "      <td>20153</td>\n",
       "    </tr>\n",
       "    <tr>\n",
       "      <th>3273</th>\n",
       "      <td>2022-10-04</td>\n",
       "      <td>19631.40000</td>\n",
       "      <td>20475.00000</td>\n",
       "      <td>19508.20</td>\n",
       "      <td>20347.90</td>\n",
       "      <td>5668.961249</td>\n",
       "      <td>24242</td>\n",
       "    </tr>\n",
       "    <tr>\n",
       "      <th>3274</th>\n",
       "      <td>2022-10-05</td>\n",
       "      <td>20340.90000</td>\n",
       "      <td>20360.90000</td>\n",
       "      <td>19754.30</td>\n",
       "      <td>20162.70</td>\n",
       "      <td>3851.612269</td>\n",
       "      <td>19609</td>\n",
       "    </tr>\n",
       "    <tr>\n",
       "      <th>3275</th>\n",
       "      <td>2022-10-06</td>\n",
       "      <td>20163.10000</td>\n",
       "      <td>20449.80000</td>\n",
       "      <td>19872.70</td>\n",
       "      <td>19955.80</td>\n",
       "      <td>3542.061938</td>\n",
       "      <td>20390</td>\n",
       "    </tr>\n",
       "    <tr>\n",
       "      <th>3276</th>\n",
       "      <td>2022-10-07</td>\n",
       "      <td>19955.80000</td>\n",
       "      <td>20054.70000</td>\n",
       "      <td>19947.00</td>\n",
       "      <td>19994.30</td>\n",
       "      <td>181.099084</td>\n",
       "      <td>2449</td>\n",
       "    </tr>\n",
       "  </tbody>\n",
       "</table>\n",
       "<p>3277 rows × 7 columns</p>\n",
       "</div>"
      ],
      "text/plain": [
       "            date         open         high       low     close       volume  \\\n",
       "0     2013-10-06    122.00000    122.00000    122.00    122.00     0.100000   \n",
       "1     2013-10-07    123.61000    123.61000    123.61    123.61     0.100000   \n",
       "2     2013-10-08    123.91000    124.19000    123.90    124.18     3.991600   \n",
       "3     2013-10-09    124.01687    124.01687    123.84    123.84     2.823000   \n",
       "4     2013-10-10    125.85000    125.86000    125.85    125.86     2.000000   \n",
       "...          ...          ...          ...       ...       ...          ...   \n",
       "3272  2022-10-03  19060.40000  19700.00000  18985.70  19639.60  3507.051559   \n",
       "3273  2022-10-04  19631.40000  20475.00000  19508.20  20347.90  5668.961249   \n",
       "3274  2022-10-05  20340.90000  20360.90000  19754.30  20162.70  3851.612269   \n",
       "3275  2022-10-06  20163.10000  20449.80000  19872.70  19955.80  3542.061938   \n",
       "3276  2022-10-07  19955.80000  20054.70000  19947.00  19994.30   181.099084   \n",
       "\n",
       "      trades  \n",
       "0          1  \n",
       "1          1  \n",
       "2          4  \n",
       "3          3  \n",
       "4          2  \n",
       "...      ...  \n",
       "3272   20153  \n",
       "3273   24242  \n",
       "3274   19609  \n",
       "3275   20390  \n",
       "3276    2449  \n",
       "\n",
       "[3277 rows x 7 columns]"
      ]
     },
     "execution_count": 77,
     "metadata": {},
     "output_type": "execute_result"
    }
   ],
   "source": [
    "def btc_price_df():\n",
    "    xbt_historical_df = pd.read_csv(\"btc_data/xbt_historical_df.csv\", index_col = 0)\n",
    "    xbt_till_today_df = pd.read_csv(\"btc_data/xbt_till_today_df.csv\", index_col = 0)\n",
    "    xbt_till_today_df.drop(\"vwap\", axis=1, inplace=True)\n",
    "    \n",
    "    xbt_till_today = xbt_till_today_df[xbt_till_today_df[\"date\"] > \"2022-06-30\"]\n",
    "    \n",
    "    btc_df_raw = pd.concat([xbt_historical_df, xbt_till_today ],ignore_index=True)\n",
    "    btc_df_raw = btc_df_raw.astype({\"open\":\"float64\", \n",
    "                                    \"high\":\"float64\", \n",
    "                                    \"low\":\"float64\", \n",
    "                                    \"close\":\"float64\", \n",
    "                                    \"volume\":\"float64\"})\n",
    "    \n",
    "    btc_df_raw.to_csv(\"btc_data/btc_df_raw.csv\")\n",
    "    \n",
    "    return btc_df_raw\n",
    "\n",
    "btc_price_df()"
   ]
  },
  {
   "cell_type": "code",
   "execution_count": 78,
   "metadata": {},
   "outputs": [
    {
     "data": {
      "text/plain": [
       "3277"
      ]
     },
     "execution_count": 78,
     "metadata": {},
     "output_type": "execute_result"
    }
   ],
   "source": [
    "len(btc_price_df())"
   ]
  },
  {
   "cell_type": "code",
   "execution_count": 79,
   "metadata": {},
   "outputs": [
    {
     "data": {
      "text/plain": [
       "3898"
      ]
     },
     "execution_count": 79,
     "metadata": {},
     "output_type": "execute_result"
    }
   ],
   "source": [
    "len(xbt_historical_make_df()) + len(xbt_current_df())"
   ]
  },
  {
   "cell_type": "code",
   "execution_count": 84,
   "metadata": {},
   "outputs": [
    {
     "data": {
      "text/plain": [
       "3277"
      ]
     },
     "execution_count": 84,
     "metadata": {},
     "output_type": "execute_result"
    }
   ],
   "source": [
    "btc_df_raw = pd.read_csv(\"btc_data/btc_df_raw.csv\", index_col=0)\n",
    "len(btc_df_raw)"
   ]
  },
  {
   "cell_type": "code",
   "execution_count": 87,
   "metadata": {},
   "outputs": [],
   "source": [
    "test_df2 = btc_df_raw[btc_df_raw[\"date\"] > \"2022-06-25\" ]"
   ]
  },
  {
   "cell_type": "code",
   "execution_count": 88,
   "metadata": {},
   "outputs": [
    {
     "data": {
      "text/plain": [
       "104"
      ]
     },
     "execution_count": 88,
     "metadata": {},
     "output_type": "execute_result"
    }
   ],
   "source": [
    "len(test_df2)"
   ]
  },
  {
   "cell_type": "code",
   "execution_count": 108,
   "metadata": {},
   "outputs": [
    {
     "data": {
      "text/html": [
       "<div>\n",
       "<style scoped>\n",
       "    .dataframe tbody tr th:only-of-type {\n",
       "        vertical-align: middle;\n",
       "    }\n",
       "\n",
       "    .dataframe tbody tr th {\n",
       "        vertical-align: top;\n",
       "    }\n",
       "\n",
       "    .dataframe thead th {\n",
       "        text-align: right;\n",
       "    }\n",
       "</style>\n",
       "<table border=\"1\" class=\"dataframe\">\n",
       "  <thead>\n",
       "    <tr style=\"text-align: right;\">\n",
       "      <th></th>\n",
       "      <th>date</th>\n",
       "      <th>open</th>\n",
       "      <th>high</th>\n",
       "      <th>low</th>\n",
       "      <th>close</th>\n",
       "      <th>volume</th>\n",
       "      <th>trades</th>\n",
       "    </tr>\n",
       "  </thead>\n",
       "  <tbody>\n",
       "    <tr>\n",
       "      <th>0</th>\n",
       "      <td>2013-10-06</td>\n",
       "      <td>122.00</td>\n",
       "      <td>122.00</td>\n",
       "      <td>122.00</td>\n",
       "      <td>122.00</td>\n",
       "      <td>0.1000</td>\n",
       "      <td>1</td>\n",
       "    </tr>\n",
       "    <tr>\n",
       "      <th>1</th>\n",
       "      <td>2013-10-07</td>\n",
       "      <td>123.61</td>\n",
       "      <td>123.61</td>\n",
       "      <td>123.61</td>\n",
       "      <td>123.61</td>\n",
       "      <td>0.1000</td>\n",
       "      <td>1</td>\n",
       "    </tr>\n",
       "    <tr>\n",
       "      <th>2</th>\n",
       "      <td>2013-10-08</td>\n",
       "      <td>123.91</td>\n",
       "      <td>124.19</td>\n",
       "      <td>123.90</td>\n",
       "      <td>124.18</td>\n",
       "      <td>3.9916</td>\n",
       "      <td>4</td>\n",
       "    </tr>\n",
       "  </tbody>\n",
       "</table>\n",
       "</div>"
      ],
      "text/plain": [
       "         date    open    high     low   close  volume  trades\n",
       "0  2013-10-06  122.00  122.00  122.00  122.00  0.1000       1\n",
       "1  2013-10-07  123.61  123.61  123.61  123.61  0.1000       1\n",
       "2  2013-10-08  123.91  124.19  123.90  124.18  3.9916       4"
      ]
     },
     "execution_count": 108,
     "metadata": {},
     "output_type": "execute_result"
    }
   ],
   "source": [
    "btc_from_pd = pd.read_csv(\"btc_data/btc_df_raw.csv\", index_col = 0)\n",
    "btc_from_pd.head(3)"
   ]
  },
  {
   "cell_type": "code",
   "execution_count": 109,
   "metadata": {},
   "outputs": [
    {
     "data": {
      "text/html": [
       "<div>\n",
       "<style scoped>\n",
       "    .dataframe tbody tr th:only-of-type {\n",
       "        vertical-align: middle;\n",
       "    }\n",
       "\n",
       "    .dataframe tbody tr th {\n",
       "        vertical-align: top;\n",
       "    }\n",
       "\n",
       "    .dataframe thead th {\n",
       "        text-align: right;\n",
       "    }\n",
       "</style>\n",
       "<table border=\"1\" class=\"dataframe\">\n",
       "  <thead>\n",
       "    <tr style=\"text-align: right;\">\n",
       "      <th></th>\n",
       "      <th>date</th>\n",
       "      <th>open</th>\n",
       "      <th>high</th>\n",
       "      <th>low</th>\n",
       "      <th>close</th>\n",
       "      <th>volume</th>\n",
       "      <th>trades</th>\n",
       "    </tr>\n",
       "  </thead>\n",
       "  <tbody>\n",
       "    <tr>\n",
       "      <th>3274</th>\n",
       "      <td>2022-10-05</td>\n",
       "      <td>20340.9</td>\n",
       "      <td>20360.9</td>\n",
       "      <td>19754.3</td>\n",
       "      <td>20162.7</td>\n",
       "      <td>3851.612269</td>\n",
       "      <td>19609</td>\n",
       "    </tr>\n",
       "    <tr>\n",
       "      <th>3275</th>\n",
       "      <td>2022-10-06</td>\n",
       "      <td>20163.1</td>\n",
       "      <td>20449.8</td>\n",
       "      <td>19872.7</td>\n",
       "      <td>19955.8</td>\n",
       "      <td>3542.061938</td>\n",
       "      <td>20390</td>\n",
       "    </tr>\n",
       "    <tr>\n",
       "      <th>3276</th>\n",
       "      <td>2022-10-07</td>\n",
       "      <td>19955.8</td>\n",
       "      <td>20054.7</td>\n",
       "      <td>19947.0</td>\n",
       "      <td>19994.3</td>\n",
       "      <td>181.099084</td>\n",
       "      <td>2449</td>\n",
       "    </tr>\n",
       "  </tbody>\n",
       "</table>\n",
       "</div>"
      ],
      "text/plain": [
       "            date     open     high      low    close       volume  trades\n",
       "3274  2022-10-05  20340.9  20360.9  19754.3  20162.7  3851.612269   19609\n",
       "3275  2022-10-06  20163.1  20449.8  19872.7  19955.8  3542.061938   20390\n",
       "3276  2022-10-07  19955.8  20054.7  19947.0  19994.3   181.099084    2449"
      ]
     },
     "execution_count": 109,
     "metadata": {},
     "output_type": "execute_result"
    }
   ],
   "source": [
    "btc_from_pd.tail(3)"
   ]
  },
  {
   "cell_type": "code",
   "execution_count": 110,
   "metadata": {},
   "outputs": [
    {
     "data": {
      "text/plain": [
       "3277"
      ]
     },
     "execution_count": 110,
     "metadata": {},
     "output_type": "execute_result"
    }
   ],
   "source": [
    "len(btc_from_pd)"
   ]
  },
  {
   "cell_type": "code",
   "execution_count": 111,
   "metadata": {},
   "outputs": [],
   "source": [
    "btc_spark_df = spark.createDataFrame(btc_from_pd)"
   ]
  },
  {
   "cell_type": "code",
   "execution_count": 112,
   "metadata": {},
   "outputs": [
    {
     "data": {
      "text/plain": [
       "3277"
      ]
     },
     "execution_count": 112,
     "metadata": {},
     "output_type": "execute_result"
    }
   ],
   "source": [
    "btc_spark_df.count()"
   ]
  },
  {
   "cell_type": "code",
   "execution_count": 114,
   "metadata": {},
   "outputs": [
    {
     "name": "stdout",
     "output_type": "stream",
     "text": [
      "+----------+-------+-------+-------+-------+---------------+------+\n",
      "|      date|   open|   high|    low|  close|         volume|trades|\n",
      "+----------+-------+-------+-------+-------+---------------+------+\n",
      "|2022-06-29|20252.5|20397.0|19828.7|20086.2|4367.3190830902| 26340|\n",
      "+----------+-------+-------+-------+-------+---------------+------+\n",
      "\n"
     ]
    }
   ],
   "source": [
    "btc_spark_df.filter(btc_spark_df.date == \"2022-06-29\").show()"
   ]
  },
  {
   "cell_type": "code",
   "execution_count": 115,
   "metadata": {},
   "outputs": [
    {
     "name": "stdout",
     "output_type": "stream",
     "text": [
      "+----------+-------+-------+-------+-------+---------------+------+\n",
      "|      date|   open|   high|    low|  close|         volume|trades|\n",
      "+----------+-------+-------+-------+-------+---------------+------+\n",
      "|2022-06-30|20094.0|20139.8|18617.5|19949.9|5391.5274635603| 32136|\n",
      "+----------+-------+-------+-------+-------+---------------+------+\n",
      "\n"
     ]
    }
   ],
   "source": [
    "btc_spark_df.filter(btc_spark_df.date == \"2022-06-30\").show()"
   ]
  },
  {
   "cell_type": "code",
   "execution_count": 116,
   "metadata": {},
   "outputs": [],
   "source": [
    "spark.stop()"
   ]
  },
  {
   "cell_type": "code",
   "execution_count": null,
   "metadata": {},
   "outputs": [],
   "source": []
  }
 ],
 "metadata": {
  "kernelspec": {
   "display_name": "Python 3 (ipykernel)",
   "language": "python",
   "name": "python3"
  },
  "language_info": {
   "codemirror_mode": {
    "name": "ipython",
    "version": 3
   },
   "file_extension": ".py",
   "mimetype": "text/x-python",
   "name": "python",
   "nbconvert_exporter": "python",
   "pygments_lexer": "ipython3",
   "version": "3.8.8"
  }
 },
 "nbformat": 4,
 "nbformat_minor": 4
}
