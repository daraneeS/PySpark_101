{
 "cells": [
  {
   "cell_type": "code",
   "execution_count": 11,
   "id": "49877570",
   "metadata": {},
   "outputs": [],
   "source": [
    "import pandas as pd\n",
    "from datetime import datetime,date, time\n",
    "import requests\n",
    "import json"
   ]
  },
  {
   "cell_type": "code",
   "execution_count": 2,
   "id": "061aaa21",
   "metadata": {},
   "outputs": [],
   "source": [
    "import pyspark\n",
    "from pyspark.sql.types import *\n",
    "import pyspark.sql.functions as F\n",
    "from pyspark.sql import SparkSession"
   ]
  },
  {
   "cell_type": "code",
   "execution_count": 71,
   "id": "d9dd019b",
   "metadata": {},
   "outputs": [],
   "source": [
    "import warnings\n",
    "warnings.filterwarnings('ignore')"
   ]
  },
  {
   "cell_type": "code",
   "execution_count": 72,
   "id": "64e578bc",
   "metadata": {},
   "outputs": [
    {
     "data": {
      "text/html": [
       "\n",
       "            <div>\n",
       "                <p><b>SparkSession - in-memory</b></p>\n",
       "                \n",
       "        <div>\n",
       "            <p><b>SparkContext</b></p>\n",
       "\n",
       "            <p><a href=\"http://192.168.4.20:4040\">Spark UI</a></p>\n",
       "\n",
       "            <dl>\n",
       "              <dt>Version</dt>\n",
       "                <dd><code>v3.3.0</code></dd>\n",
       "              <dt>Master</dt>\n",
       "                <dd><code>local[*]</code></dd>\n",
       "              <dt>AppName</dt>\n",
       "                <dd><code>bitcoin_pyspark_kraken_json</code></dd>\n",
       "            </dl>\n",
       "        </div>\n",
       "        \n",
       "            </div>\n",
       "        "
      ],
      "text/plain": [
       "<pyspark.sql.session.SparkSession at 0x7fd9cb1560a0>"
      ]
     },
     "execution_count": 72,
     "metadata": {},
     "output_type": "execute_result"
    }
   ],
   "source": [
    "spark = SparkSession.builder.appName(\"bitcoin_pyspark_kraken_json\").getOrCreate()\n",
    "spark"
   ]
  },
  {
   "cell_type": "code",
   "execution_count": 73,
   "id": "13e3f36f",
   "metadata": {},
   "outputs": [],
   "source": [
    "resp = requests.get('https://api.kraken.com/0/public/OHLC?pair=XBTUSD&interval=1440&since=unix_now').json()"
   ]
  },
  {
   "cell_type": "code",
   "execution_count": 74,
   "id": "386a7d31",
   "metadata": {},
   "outputs": [
    {
     "data": {
      "text/plain": [
       "dict_keys(['error', 'result'])"
      ]
     },
     "execution_count": 74,
     "metadata": {},
     "output_type": "execute_result"
    }
   ],
   "source": [
    "resp.keys()"
   ]
  },
  {
   "cell_type": "code",
   "execution_count": 75,
   "id": "bc78f1b4",
   "metadata": {},
   "outputs": [
    {
     "data": {
      "text/plain": [
       "dict_keys(['XXBTZUSD', 'last'])"
      ]
     },
     "execution_count": 75,
     "metadata": {},
     "output_type": "execute_result"
    }
   ],
   "source": [
    "resp['result'].keys()"
   ]
  },
  {
   "cell_type": "code",
   "execution_count": 76,
   "id": "290ac492",
   "metadata": {},
   "outputs": [
    {
     "data": {
      "text/plain": [
       "720"
      ]
     },
     "execution_count": 76,
     "metadata": {},
     "output_type": "execute_result"
    }
   ],
   "source": [
    "len(resp['result']['XXBTZUSD'])"
   ]
  },
  {
   "cell_type": "code",
   "execution_count": 77,
   "id": "f04b301d",
   "metadata": {},
   "outputs": [
    {
     "data": {
      "text/plain": [
       "[1603411200,\n",
       " '12985.4',\n",
       " '13032.8',\n",
       " '12735.0',\n",
       " '12939.0',\n",
       " '12911.7',\n",
       " '3897.16955007',\n",
       " 16226]"
      ]
     },
     "execution_count": 77,
     "metadata": {},
     "output_type": "execute_result"
    }
   ],
   "source": [
    "resp['result']['XXBTZUSD'][0]"
   ]
  },
  {
   "cell_type": "code",
   "execution_count": 78,
   "id": "3d36bcc6",
   "metadata": {},
   "outputs": [
    {
     "data": {
      "text/plain": [
       "[1665532800,\n",
       " '19050.0',\n",
       " '19190.0',\n",
       " '18937.3',\n",
       " '19107.9',\n",
       " '19087.9',\n",
       " '1631.92126763',\n",
       " 7232]"
      ]
     },
     "execution_count": 78,
     "metadata": {},
     "output_type": "execute_result"
    }
   ],
   "source": [
    "resp['result']['XXBTZUSD'][719]"
   ]
  },
  {
   "cell_type": "code",
   "execution_count": 79,
   "id": "3a178073",
   "metadata": {},
   "outputs": [],
   "source": [
    "btc_json = resp['result']['XXBTZUSD']"
   ]
  },
  {
   "cell_type": "code",
   "execution_count": 80,
   "id": "4e413b30",
   "metadata": {},
   "outputs": [],
   "source": [
    "btc_spark_df = spark.createDataFrame(btc_json)"
   ]
  },
  {
   "cell_type": "code",
   "execution_count": 81,
   "id": "f9557784",
   "metadata": {},
   "outputs": [
    {
     "name": "stderr",
     "output_type": "stream",
     "text": [
      "\r",
      "[Stage 0:>                                                          (0 + 1) / 1]\r"
     ]
    },
    {
     "name": "stdout",
     "output_type": "stream",
     "text": [
      "+----------+-------+-------+-------+-------+-------+-------------+-----+\n",
      "|        _1|     _2|     _3|     _4|     _5|     _6|           _7|   _8|\n",
      "+----------+-------+-------+-------+-------+-------+-------------+-----+\n",
      "|1603411200|12985.4|13032.8|12735.0|12939.0|12911.7|3897.16955007|16226|\n",
      "|1603497600|12939.0|13172.3|12890.7|13130.9|13041.5|1813.58698169| 8277|\n",
      "|1603584000|13130.9|13351.0|12833.0|13039.2|13080.1|3508.36779755|12947|\n",
      "|1603670400|13039.8|13243.6|12801.0|13080.0|13038.8|4628.57769014|17227|\n",
      "|1603756800|13080.0|13794.8|13064.0|13649.6|13487.3|7598.84407927|26506|\n",
      "+----------+-------+-------+-------+-------+-------+-------------+-----+\n",
      "only showing top 5 rows\n",
      "\n"
     ]
    },
    {
     "name": "stderr",
     "output_type": "stream",
     "text": [
      "\r",
      "                                                                                \r"
     ]
    }
   ],
   "source": [
    "btc_spark_df.show(5)"
   ]
  },
  {
   "cell_type": "code",
   "execution_count": 82,
   "id": "17573a7a",
   "metadata": {},
   "outputs": [],
   "source": [
    "# kraken_ohlc_cols = [\"date\",\"open\", \"high\", \"low\", \"close\", \"vwap\",\"volume\", \"trades\"]"
   ]
  },
  {
   "cell_type": "code",
   "execution_count": 83,
   "id": "23e5cb44",
   "metadata": {},
   "outputs": [],
   "source": [
    "btc_spark_df = btc_spark_df.withColumnRenamed('_1', \"date\")\\\n",
    "                           .withColumnRenamed('_2', \"open\")\\\n",
    "                           .withColumnRenamed('_3', \"high\")\\\n",
    "                           .withColumnRenamed('_4', \"low\")\\\n",
    "                           .withColumnRenamed('_5', \"close\")\\\n",
    "                           .withColumnRenamed('_6', \"vwap\")\\\n",
    "                           .withColumnRenamed('_7', \"volume\")\\\n",
    "                           .withColumnRenamed('_8', \"trades\")"
   ]
  },
  {
   "cell_type": "code",
   "execution_count": 84,
   "id": "cd26d0a9",
   "metadata": {},
   "outputs": [
    {
     "name": "stdout",
     "output_type": "stream",
     "text": [
      "+----------+-------+-------+-------+-------+-------+-------------+------+\n",
      "|      date|   open|   high|    low|  close|   vwap|       volume|trades|\n",
      "+----------+-------+-------+-------+-------+-------+-------------+------+\n",
      "|1603411200|12985.4|13032.8|12735.0|12939.0|12911.7|3897.16955007| 16226|\n",
      "|1603497600|12939.0|13172.3|12890.7|13130.9|13041.5|1813.58698169|  8277|\n",
      "|1603584000|13130.9|13351.0|12833.0|13039.2|13080.1|3508.36779755| 12947|\n",
      "|1603670400|13039.8|13243.6|12801.0|13080.0|13038.8|4628.57769014| 17227|\n",
      "|1603756800|13080.0|13794.8|13064.0|13649.6|13487.3|7598.84407927| 26506|\n",
      "+----------+-------+-------+-------+-------+-------+-------------+------+\n",
      "only showing top 5 rows\n",
      "\n"
     ]
    }
   ],
   "source": [
    "btc_spark_df.show(5)"
   ]
  },
  {
   "cell_type": "code",
   "execution_count": 85,
   "id": "f9165b96",
   "metadata": {},
   "outputs": [],
   "source": [
    "import pyspark.sql.functions as F"
   ]
  },
  {
   "cell_type": "code",
   "execution_count": 86,
   "id": "96e1d106",
   "metadata": {},
   "outputs": [],
   "source": [
    "#btc_spark_df.withColumn(\"date\", F.from_unixtime(F.col(\"date\"), 'yyyy-MM-dd').cast(\"date\")).show(5)"
   ]
  },
  {
   "cell_type": "code",
   "execution_count": 87,
   "id": "4de53d06",
   "metadata": {},
   "outputs": [],
   "source": [
    "#btc_spark_df.withColumn(\"date\", F.from_unixtime(F.col(\"date\"), 'yyyy-MM-dd')).show(5)"
   ]
  },
  {
   "cell_type": "code",
   "execution_count": 88,
   "id": "155a5823",
   "metadata": {},
   "outputs": [],
   "source": [
    "btc_spark_df = btc_spark_df.withColumn(\"date\", F.from_unixtime(F.col(\"date\"), 'yyyy-MM-dd').cast(\"date\"))"
   ]
  },
  {
   "cell_type": "code",
   "execution_count": 89,
   "id": "b86c9037",
   "metadata": {},
   "outputs": [
    {
     "name": "stdout",
     "output_type": "stream",
     "text": [
      "+----------+-------+-------+-------+-------+-------+-------------+------+\n",
      "|      date|   open|   high|    low|  close|   vwap|       volume|trades|\n",
      "+----------+-------+-------+-------+-------+-------+-------------+------+\n",
      "|2020-10-22|12985.4|13032.8|12735.0|12939.0|12911.7|3897.16955007| 16226|\n",
      "|2020-10-23|12939.0|13172.3|12890.7|13130.9|13041.5|1813.58698169|  8277|\n",
      "|2020-10-24|13130.9|13351.0|12833.0|13039.2|13080.1|3508.36779755| 12947|\n",
      "|2020-10-25|13039.8|13243.6|12801.0|13080.0|13038.8|4628.57769014| 17227|\n",
      "|2020-10-26|13080.0|13794.8|13064.0|13649.6|13487.3|7598.84407927| 26506|\n",
      "+----------+-------+-------+-------+-------+-------+-------------+------+\n",
      "only showing top 5 rows\n",
      "\n"
     ]
    }
   ],
   "source": [
    "btc_spark_df.show(5)"
   ]
  },
  {
   "cell_type": "code",
   "execution_count": 90,
   "id": "b2714b5b",
   "metadata": {},
   "outputs": [
    {
     "name": "stdout",
     "output_type": "stream",
     "text": [
      "+----------+-------+-------+-------+-------+-------+-------------+------+\n",
      "|      date|   open|   high|    low|  close|   vwap|       volume|trades|\n",
      "+----------+-------+-------+-------+-------+-------+-------------+------+\n",
      "|2022-10-11|19050.0|19190.0|18937.3|19107.9|19087.9|1631.92126763|  7232|\n",
      "|2022-10-10|19132.1|19259.4|18860.0|19050.0|19062.4|3503.57513226| 15956|\n",
      "|2022-10-09|19443.5|19520.0|19040.0|19132.1|19291.0|2623.75289814| 15727|\n",
      "|2022-10-08|19420.0|19559.5|19335.0|19443.5|19470.7| 903.92350217|  9334|\n",
      "|2022-10-07|19532.8|19615.0|19249.7|19417.5|19471.7|1337.85077668| 10018|\n",
      "+----------+-------+-------+-------+-------+-------+-------------+------+\n",
      "only showing top 5 rows\n",
      "\n"
     ]
    }
   ],
   "source": [
    "btc_spark_df.orderBy(btc_spark_df.date.desc()).show(5)"
   ]
  },
  {
   "cell_type": "code",
   "execution_count": 91,
   "id": "2f6b0432",
   "metadata": {},
   "outputs": [],
   "source": [
    "spark.stop()"
   ]
  },
  {
   "cell_type": "code",
   "execution_count": null,
   "id": "41df7899",
   "metadata": {},
   "outputs": [],
   "source": []
  }
 ],
 "metadata": {
  "kernelspec": {
   "display_name": "Python 3 (ipykernel)",
   "language": "python",
   "name": "python3"
  },
  "language_info": {
   "codemirror_mode": {
    "name": "ipython",
    "version": 3
   },
   "file_extension": ".py",
   "mimetype": "text/x-python",
   "name": "python",
   "nbconvert_exporter": "python",
   "pygments_lexer": "ipython3",
   "version": "3.8.8"
  }
 },
 "nbformat": 4,
 "nbformat_minor": 5
}
