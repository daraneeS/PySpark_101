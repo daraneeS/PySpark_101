{
 "cells": [
  {
   "cell_type": "markdown",
   "metadata": {},
   "source": [
    "# Read KraKen Bitcoin Data: CSV and API "
   ]
  },
  {
   "cell_type": "code",
   "execution_count": 43,
   "metadata": {},
   "outputs": [],
   "source": [
    "import pandas as pd\n",
    "import json\n",
    "from datetime import datetime,date, time\n",
    "import requests"
   ]
  },
  {
   "cell_type": "code",
   "execution_count": 34,
   "metadata": {},
   "outputs": [
    {
     "name": "stdout",
     "output_type": "stream",
     "text": [
      "1.2.4\n"
     ]
    }
   ],
   "source": [
    "#pd.show_versions()\n",
    "print(pd.__version__)"
   ]
  },
  {
   "cell_type": "markdown",
   "metadata": {},
   "source": [
    "## 1. Kraken CSV Historical OHLCVT "
   ]
  },
  {
   "cell_type": "code",
   "execution_count": 35,
   "metadata": {},
   "outputs": [],
   "source": [
    "bitcoin_raw_file_path = \"data/XBT_OHLCVT/XBTUSD_1440.csv\""
   ]
  },
  {
   "cell_type": "code",
   "execution_count": 36,
   "metadata": {},
   "outputs": [],
   "source": [
    "column_names = [\"date\",\"open\", \"high\", \"low\", \"close\", \"volume\", \"trades\"]"
   ]
  },
  {
   "cell_type": "code",
   "execution_count": 37,
   "metadata": {},
   "outputs": [],
   "source": [
    "bitcoin_pd_df = pd.read_csv(bitcoin_raw_file_path, index_col = None ,names=column_names )"
   ]
  },
  {
   "cell_type": "code",
   "execution_count": 38,
   "metadata": {},
   "outputs": [
    {
     "data": {
      "text/html": [
       "<div>\n",
       "<style scoped>\n",
       "    .dataframe tbody tr th:only-of-type {\n",
       "        vertical-align: middle;\n",
       "    }\n",
       "\n",
       "    .dataframe tbody tr th {\n",
       "        vertical-align: top;\n",
       "    }\n",
       "\n",
       "    .dataframe thead th {\n",
       "        text-align: right;\n",
       "    }\n",
       "</style>\n",
       "<table border=\"1\" class=\"dataframe\">\n",
       "  <thead>\n",
       "    <tr style=\"text-align: right;\">\n",
       "      <th></th>\n",
       "      <th>date</th>\n",
       "      <th>open</th>\n",
       "      <th>high</th>\n",
       "      <th>low</th>\n",
       "      <th>close</th>\n",
       "      <th>volume</th>\n",
       "      <th>trades</th>\n",
       "    </tr>\n",
       "  </thead>\n",
       "  <tbody>\n",
       "    <tr>\n",
       "      <th>0</th>\n",
       "      <td>1381017600</td>\n",
       "      <td>122.00</td>\n",
       "      <td>122.00</td>\n",
       "      <td>122.00</td>\n",
       "      <td>122.00</td>\n",
       "      <td>0.1</td>\n",
       "      <td>1</td>\n",
       "    </tr>\n",
       "    <tr>\n",
       "      <th>1</th>\n",
       "      <td>1381104000</td>\n",
       "      <td>123.61</td>\n",
       "      <td>123.61</td>\n",
       "      <td>123.61</td>\n",
       "      <td>123.61</td>\n",
       "      <td>0.1</td>\n",
       "      <td>1</td>\n",
       "    </tr>\n",
       "  </tbody>\n",
       "</table>\n",
       "</div>"
      ],
      "text/plain": [
       "         date    open    high     low   close  volume  trades\n",
       "0  1381017600  122.00  122.00  122.00  122.00     0.1       1\n",
       "1  1381104000  123.61  123.61  123.61  123.61     0.1       1"
      ]
     },
     "execution_count": 38,
     "metadata": {},
     "output_type": "execute_result"
    }
   ],
   "source": [
    "bitcoin_pd_df.head(2)"
   ]
  },
  {
   "cell_type": "code",
   "execution_count": 39,
   "metadata": {},
   "outputs": [
    {
     "data": {
      "text/html": [
       "<div>\n",
       "<style scoped>\n",
       "    .dataframe tbody tr th:only-of-type {\n",
       "        vertical-align: middle;\n",
       "    }\n",
       "\n",
       "    .dataframe tbody tr th {\n",
       "        vertical-align: top;\n",
       "    }\n",
       "\n",
       "    .dataframe thead th {\n",
       "        text-align: right;\n",
       "    }\n",
       "</style>\n",
       "<table border=\"1\" class=\"dataframe\">\n",
       "  <thead>\n",
       "    <tr style=\"text-align: right;\">\n",
       "      <th></th>\n",
       "      <th>date</th>\n",
       "      <th>open</th>\n",
       "      <th>high</th>\n",
       "      <th>low</th>\n",
       "      <th>close</th>\n",
       "      <th>volume</th>\n",
       "      <th>trades</th>\n",
       "    </tr>\n",
       "  </thead>\n",
       "  <tbody>\n",
       "    <tr>\n",
       "      <th>3176</th>\n",
       "      <td>1656460800</td>\n",
       "      <td>20252.5</td>\n",
       "      <td>20397.0</td>\n",
       "      <td>19828.7</td>\n",
       "      <td>20086.2</td>\n",
       "      <td>4367.319083</td>\n",
       "      <td>26340</td>\n",
       "    </tr>\n",
       "    <tr>\n",
       "      <th>3177</th>\n",
       "      <td>1656547200</td>\n",
       "      <td>20094.0</td>\n",
       "      <td>20139.8</td>\n",
       "      <td>18617.5</td>\n",
       "      <td>19949.9</td>\n",
       "      <td>5391.527464</td>\n",
       "      <td>32136</td>\n",
       "    </tr>\n",
       "  </tbody>\n",
       "</table>\n",
       "</div>"
      ],
      "text/plain": [
       "            date     open     high      low    close       volume  trades\n",
       "3176  1656460800  20252.5  20397.0  19828.7  20086.2  4367.319083   26340\n",
       "3177  1656547200  20094.0  20139.8  18617.5  19949.9  5391.527464   32136"
      ]
     },
     "execution_count": 39,
     "metadata": {},
     "output_type": "execute_result"
    }
   ],
   "source": [
    "bitcoin_pd_df.tail(2)"
   ]
  },
  {
   "cell_type": "code",
   "execution_count": 49,
   "metadata": {},
   "outputs": [],
   "source": [
    "bitcoin_pd_df[\"date\"] = pd.to_datetime(bitcoin_pd_df[\"date\"],unit='s')"
   ]
  },
  {
   "cell_type": "code",
   "execution_count": 54,
   "metadata": {},
   "outputs": [
    {
     "name": "stdout",
     "output_type": "stream",
     "text": [
      "<class 'pandas.core.frame.DataFrame'>\n",
      "RangeIndex: 3178 entries, 0 to 3177\n",
      "Data columns (total 7 columns):\n",
      " #   Column  Non-Null Count  Dtype  \n",
      "---  ------  --------------  -----  \n",
      " 0   date    3178 non-null   object \n",
      " 1   open    3178 non-null   float64\n",
      " 2   high    3178 non-null   float64\n",
      " 3   low     3178 non-null   float64\n",
      " 4   close   3178 non-null   float64\n",
      " 5   volume  3178 non-null   float64\n",
      " 6   trades  3178 non-null   int64  \n",
      "dtypes: float64(5), int64(1), object(1)\n",
      "memory usage: 173.9+ KB\n"
     ]
    }
   ],
   "source": [
    "bitcoin_pd_df.info()"
   ]
  },
  {
   "cell_type": "code",
   "execution_count": 51,
   "metadata": {},
   "outputs": [],
   "source": [
    "bitcoin_pd_df[\"date\"] = pd.to_datetime(bitcoin_pd_df[\"date\"],unit='s').dt.date"
   ]
  },
  {
   "cell_type": "code",
   "execution_count": 52,
   "metadata": {},
   "outputs": [
    {
     "data": {
      "text/html": [
       "<div>\n",
       "<style scoped>\n",
       "    .dataframe tbody tr th:only-of-type {\n",
       "        vertical-align: middle;\n",
       "    }\n",
       "\n",
       "    .dataframe tbody tr th {\n",
       "        vertical-align: top;\n",
       "    }\n",
       "\n",
       "    .dataframe thead th {\n",
       "        text-align: right;\n",
       "    }\n",
       "</style>\n",
       "<table border=\"1\" class=\"dataframe\">\n",
       "  <thead>\n",
       "    <tr style=\"text-align: right;\">\n",
       "      <th></th>\n",
       "      <th>date</th>\n",
       "      <th>open</th>\n",
       "      <th>high</th>\n",
       "      <th>low</th>\n",
       "      <th>close</th>\n",
       "      <th>volume</th>\n",
       "      <th>trades</th>\n",
       "    </tr>\n",
       "  </thead>\n",
       "  <tbody>\n",
       "    <tr>\n",
       "      <th>0</th>\n",
       "      <td>2013-10-06</td>\n",
       "      <td>122.00</td>\n",
       "      <td>122.00</td>\n",
       "      <td>122.00</td>\n",
       "      <td>122.00</td>\n",
       "      <td>0.1000</td>\n",
       "      <td>1</td>\n",
       "    </tr>\n",
       "    <tr>\n",
       "      <th>1</th>\n",
       "      <td>2013-10-07</td>\n",
       "      <td>123.61</td>\n",
       "      <td>123.61</td>\n",
       "      <td>123.61</td>\n",
       "      <td>123.61</td>\n",
       "      <td>0.1000</td>\n",
       "      <td>1</td>\n",
       "    </tr>\n",
       "    <tr>\n",
       "      <th>2</th>\n",
       "      <td>2013-10-08</td>\n",
       "      <td>123.91</td>\n",
       "      <td>124.19</td>\n",
       "      <td>123.90</td>\n",
       "      <td>124.18</td>\n",
       "      <td>3.9916</td>\n",
       "      <td>4</td>\n",
       "    </tr>\n",
       "  </tbody>\n",
       "</table>\n",
       "</div>"
      ],
      "text/plain": [
       "         date    open    high     low   close  volume  trades\n",
       "0  2013-10-06  122.00  122.00  122.00  122.00  0.1000       1\n",
       "1  2013-10-07  123.61  123.61  123.61  123.61  0.1000       1\n",
       "2  2013-10-08  123.91  124.19  123.90  124.18  3.9916       4"
      ]
     },
     "execution_count": 52,
     "metadata": {},
     "output_type": "execute_result"
    }
   ],
   "source": [
    "bitcoin_pd_df.head(3)"
   ]
  },
  {
   "cell_type": "code",
   "execution_count": 53,
   "metadata": {},
   "outputs": [
    {
     "data": {
      "text/html": [
       "<div>\n",
       "<style scoped>\n",
       "    .dataframe tbody tr th:only-of-type {\n",
       "        vertical-align: middle;\n",
       "    }\n",
       "\n",
       "    .dataframe tbody tr th {\n",
       "        vertical-align: top;\n",
       "    }\n",
       "\n",
       "    .dataframe thead th {\n",
       "        text-align: right;\n",
       "    }\n",
       "</style>\n",
       "<table border=\"1\" class=\"dataframe\">\n",
       "  <thead>\n",
       "    <tr style=\"text-align: right;\">\n",
       "      <th></th>\n",
       "      <th>date</th>\n",
       "      <th>open</th>\n",
       "      <th>high</th>\n",
       "      <th>low</th>\n",
       "      <th>close</th>\n",
       "      <th>volume</th>\n",
       "      <th>trades</th>\n",
       "    </tr>\n",
       "  </thead>\n",
       "  <tbody>\n",
       "    <tr>\n",
       "      <th>3175</th>\n",
       "      <td>2022-06-28</td>\n",
       "      <td>20716.3</td>\n",
       "      <td>21188.5</td>\n",
       "      <td>20165.3</td>\n",
       "      <td>20251.6</td>\n",
       "      <td>3250.533589</td>\n",
       "      <td>23648</td>\n",
       "    </tr>\n",
       "    <tr>\n",
       "      <th>3176</th>\n",
       "      <td>2022-06-29</td>\n",
       "      <td>20252.5</td>\n",
       "      <td>20397.0</td>\n",
       "      <td>19828.7</td>\n",
       "      <td>20086.2</td>\n",
       "      <td>4367.319083</td>\n",
       "      <td>26340</td>\n",
       "    </tr>\n",
       "    <tr>\n",
       "      <th>3177</th>\n",
       "      <td>2022-06-30</td>\n",
       "      <td>20094.0</td>\n",
       "      <td>20139.8</td>\n",
       "      <td>18617.5</td>\n",
       "      <td>19949.9</td>\n",
       "      <td>5391.527464</td>\n",
       "      <td>32136</td>\n",
       "    </tr>\n",
       "  </tbody>\n",
       "</table>\n",
       "</div>"
      ],
      "text/plain": [
       "            date     open     high      low    close       volume  trades\n",
       "3175  2022-06-28  20716.3  21188.5  20165.3  20251.6  3250.533589   23648\n",
       "3176  2022-06-29  20252.5  20397.0  19828.7  20086.2  4367.319083   26340\n",
       "3177  2022-06-30  20094.0  20139.8  18617.5  19949.9  5391.527464   32136"
      ]
     },
     "execution_count": 53,
     "metadata": {},
     "output_type": "execute_result"
    }
   ],
   "source": [
    "bitcoin_pd_df.tail(3)    "
   ]
  },
  {
   "cell_type": "code",
   "execution_count": null,
   "metadata": {},
   "outputs": [],
   "source": []
  },
  {
   "cell_type": "markdown",
   "metadata": {},
   "source": [
    "## 2. Kraken API Market data OHLC endpoint\n",
    "https://docs.kraken.com/rest/#operation/getTickerInformation"
   ]
  },
  {
   "cell_type": "code",
   "execution_count": 11,
   "metadata": {},
   "outputs": [],
   "source": [
    "kraken_ohlc_cols = [\"date\",\"open\", \"high\", \"low\", \"close\", \"vwap\",\"volume\", \"trades\"]\n",
    "resp = requests.get('https://api.kraken.com/0/public/OHLC?pair=XBTUSD&interval=1440&since=unix_now').json()\n",
    "xbt_till_today_df = pd.DataFrame(resp[\"result\"]['XXBTZUSD'])\n",
    "xbt_till_today_df.columns = kraken_ohlc_cols\n",
    "xbt_till_today_df[\"date\"] = pd.to_datetime(xbt_till_today_df[\"date\"],unit='s')\n",
    "xbt_till_today_df[\"date\"] = xbt_till_today_df[\"date\"].dt.date"
   ]
  },
  {
   "cell_type": "code",
   "execution_count": 12,
   "metadata": {},
   "outputs": [
    {
     "data": {
      "text/html": [
       "<div>\n",
       "<style scoped>\n",
       "    .dataframe tbody tr th:only-of-type {\n",
       "        vertical-align: middle;\n",
       "    }\n",
       "\n",
       "    .dataframe tbody tr th {\n",
       "        vertical-align: top;\n",
       "    }\n",
       "\n",
       "    .dataframe thead th {\n",
       "        text-align: right;\n",
       "    }\n",
       "</style>\n",
       "<table border=\"1\" class=\"dataframe\">\n",
       "  <thead>\n",
       "    <tr style=\"text-align: right;\">\n",
       "      <th></th>\n",
       "      <th>date</th>\n",
       "      <th>open</th>\n",
       "      <th>high</th>\n",
       "      <th>low</th>\n",
       "      <th>close</th>\n",
       "      <th>vwap</th>\n",
       "      <th>volume</th>\n",
       "      <th>trades</th>\n",
       "    </tr>\n",
       "  </thead>\n",
       "  <tbody>\n",
       "    <tr>\n",
       "      <th>0</th>\n",
       "      <td>2020-10-21</td>\n",
       "      <td>11926.7</td>\n",
       "      <td>13241.4</td>\n",
       "      <td>11905.7</td>\n",
       "      <td>12813.0</td>\n",
       "      <td>12603.2</td>\n",
       "      <td>11497.59347437</td>\n",
       "      <td>38325</td>\n",
       "    </tr>\n",
       "    <tr>\n",
       "      <th>1</th>\n",
       "      <td>2020-10-22</td>\n",
       "      <td>12813.0</td>\n",
       "      <td>13199.0</td>\n",
       "      <td>12690.5</td>\n",
       "      <td>12984.1</td>\n",
       "      <td>12968.6</td>\n",
       "      <td>5337.43662325</td>\n",
       "      <td>22865</td>\n",
       "    </tr>\n",
       "    <tr>\n",
       "      <th>2</th>\n",
       "      <td>2020-10-23</td>\n",
       "      <td>12985.4</td>\n",
       "      <td>13032.8</td>\n",
       "      <td>12735.0</td>\n",
       "      <td>12939.0</td>\n",
       "      <td>12911.7</td>\n",
       "      <td>3897.16955007</td>\n",
       "      <td>16226</td>\n",
       "    </tr>\n",
       "  </tbody>\n",
       "</table>\n",
       "</div>"
      ],
      "text/plain": [
       "         date     open     high      low    close     vwap          volume  \\\n",
       "0  2020-10-21  11926.7  13241.4  11905.7  12813.0  12603.2  11497.59347437   \n",
       "1  2020-10-22  12813.0  13199.0  12690.5  12984.1  12968.6   5337.43662325   \n",
       "2  2020-10-23  12985.4  13032.8  12735.0  12939.0  12911.7   3897.16955007   \n",
       "\n",
       "   trades  \n",
       "0   38325  \n",
       "1   22865  \n",
       "2   16226  "
      ]
     },
     "execution_count": 12,
     "metadata": {},
     "output_type": "execute_result"
    }
   ],
   "source": [
    "xbt_till_today_df.head(3)"
   ]
  },
  {
   "cell_type": "code",
   "execution_count": 13,
   "metadata": {},
   "outputs": [
    {
     "data": {
      "text/html": [
       "<div>\n",
       "<style scoped>\n",
       "    .dataframe tbody tr th:only-of-type {\n",
       "        vertical-align: middle;\n",
       "    }\n",
       "\n",
       "    .dataframe tbody tr th {\n",
       "        vertical-align: top;\n",
       "    }\n",
       "\n",
       "    .dataframe thead th {\n",
       "        text-align: right;\n",
       "    }\n",
       "</style>\n",
       "<table border=\"1\" class=\"dataframe\">\n",
       "  <thead>\n",
       "    <tr style=\"text-align: right;\">\n",
       "      <th></th>\n",
       "      <th>date</th>\n",
       "      <th>open</th>\n",
       "      <th>high</th>\n",
       "      <th>low</th>\n",
       "      <th>close</th>\n",
       "      <th>vwap</th>\n",
       "      <th>volume</th>\n",
       "      <th>trades</th>\n",
       "    </tr>\n",
       "  </thead>\n",
       "  <tbody>\n",
       "    <tr>\n",
       "      <th>717</th>\n",
       "      <td>2022-10-08</td>\n",
       "      <td>19532.8</td>\n",
       "      <td>19615.0</td>\n",
       "      <td>19249.7</td>\n",
       "      <td>19417.5</td>\n",
       "      <td>19471.7</td>\n",
       "      <td>1337.85077668</td>\n",
       "      <td>10018</td>\n",
       "    </tr>\n",
       "    <tr>\n",
       "      <th>718</th>\n",
       "      <td>2022-10-09</td>\n",
       "      <td>19420.0</td>\n",
       "      <td>19559.5</td>\n",
       "      <td>19335.0</td>\n",
       "      <td>19443.5</td>\n",
       "      <td>19470.7</td>\n",
       "      <td>903.92350217</td>\n",
       "      <td>9334</td>\n",
       "    </tr>\n",
       "    <tr>\n",
       "      <th>719</th>\n",
       "      <td>2022-10-10</td>\n",
       "      <td>19443.5</td>\n",
       "      <td>19520.0</td>\n",
       "      <td>19108.3</td>\n",
       "      <td>19237.8</td>\n",
       "      <td>19308.8</td>\n",
       "      <td>2348.44749395</td>\n",
       "      <td>12890</td>\n",
       "    </tr>\n",
       "  </tbody>\n",
       "</table>\n",
       "</div>"
      ],
      "text/plain": [
       "           date     open     high      low    close     vwap         volume  \\\n",
       "717  2022-10-08  19532.8  19615.0  19249.7  19417.5  19471.7  1337.85077668   \n",
       "718  2022-10-09  19420.0  19559.5  19335.0  19443.5  19470.7   903.92350217   \n",
       "719  2022-10-10  19443.5  19520.0  19108.3  19237.8  19308.8  2348.44749395   \n",
       "\n",
       "     trades  \n",
       "717   10018  \n",
       "718    9334  \n",
       "719   12890  "
      ]
     },
     "execution_count": 13,
     "metadata": {},
     "output_type": "execute_result"
    }
   ],
   "source": [
    "xbt_till_today_df.tail(3)"
   ]
  },
  {
   "cell_type": "code",
   "execution_count": 14,
   "metadata": {},
   "outputs": [],
   "source": [
    "xbt_api_no_vwap = xbt_till_today_df.drop(\"vwap\", axis=1)"
   ]
  },
  {
   "cell_type": "code",
   "execution_count": 15,
   "metadata": {},
   "outputs": [
    {
     "data": {
      "text/html": [
       "<div>\n",
       "<style scoped>\n",
       "    .dataframe tbody tr th:only-of-type {\n",
       "        vertical-align: middle;\n",
       "    }\n",
       "\n",
       "    .dataframe tbody tr th {\n",
       "        vertical-align: top;\n",
       "    }\n",
       "\n",
       "    .dataframe thead th {\n",
       "        text-align: right;\n",
       "    }\n",
       "</style>\n",
       "<table border=\"1\" class=\"dataframe\">\n",
       "  <thead>\n",
       "    <tr style=\"text-align: right;\">\n",
       "      <th></th>\n",
       "      <th>date</th>\n",
       "      <th>open</th>\n",
       "      <th>high</th>\n",
       "      <th>low</th>\n",
       "      <th>close</th>\n",
       "      <th>volume</th>\n",
       "      <th>trades</th>\n",
       "    </tr>\n",
       "  </thead>\n",
       "  <tbody>\n",
       "    <tr>\n",
       "      <th>0</th>\n",
       "      <td>2020-10-21</td>\n",
       "      <td>11926.7</td>\n",
       "      <td>13241.4</td>\n",
       "      <td>11905.7</td>\n",
       "      <td>12813.0</td>\n",
       "      <td>11497.59347437</td>\n",
       "      <td>38325</td>\n",
       "    </tr>\n",
       "    <tr>\n",
       "      <th>1</th>\n",
       "      <td>2020-10-22</td>\n",
       "      <td>12813.0</td>\n",
       "      <td>13199.0</td>\n",
       "      <td>12690.5</td>\n",
       "      <td>12984.1</td>\n",
       "      <td>5337.43662325</td>\n",
       "      <td>22865</td>\n",
       "    </tr>\n",
       "  </tbody>\n",
       "</table>\n",
       "</div>"
      ],
      "text/plain": [
       "         date     open     high      low    close          volume  trades\n",
       "0  2020-10-21  11926.7  13241.4  11905.7  12813.0  11497.59347437   38325\n",
       "1  2020-10-22  12813.0  13199.0  12690.5  12984.1   5337.43662325   22865"
      ]
     },
     "execution_count": 15,
     "metadata": {},
     "output_type": "execute_result"
    }
   ],
   "source": [
    "xbt_api_no_vwap.head(2)"
   ]
  },
  {
   "cell_type": "code",
   "execution_count": 16,
   "metadata": {},
   "outputs": [
    {
     "data": {
      "text/html": [
       "<div>\n",
       "<style scoped>\n",
       "    .dataframe tbody tr th:only-of-type {\n",
       "        vertical-align: middle;\n",
       "    }\n",
       "\n",
       "    .dataframe tbody tr th {\n",
       "        vertical-align: top;\n",
       "    }\n",
       "\n",
       "    .dataframe thead th {\n",
       "        text-align: right;\n",
       "    }\n",
       "</style>\n",
       "<table border=\"1\" class=\"dataframe\">\n",
       "  <thead>\n",
       "    <tr style=\"text-align: right;\">\n",
       "      <th></th>\n",
       "      <th>date</th>\n",
       "      <th>open</th>\n",
       "      <th>high</th>\n",
       "      <th>low</th>\n",
       "      <th>close</th>\n",
       "      <th>volume</th>\n",
       "      <th>trades</th>\n",
       "    </tr>\n",
       "  </thead>\n",
       "  <tbody>\n",
       "    <tr>\n",
       "      <th>718</th>\n",
       "      <td>2022-10-09</td>\n",
       "      <td>19420.0</td>\n",
       "      <td>19559.5</td>\n",
       "      <td>19335.0</td>\n",
       "      <td>19443.5</td>\n",
       "      <td>903.92350217</td>\n",
       "      <td>9334</td>\n",
       "    </tr>\n",
       "    <tr>\n",
       "      <th>719</th>\n",
       "      <td>2022-10-10</td>\n",
       "      <td>19443.5</td>\n",
       "      <td>19520.0</td>\n",
       "      <td>19108.3</td>\n",
       "      <td>19237.8</td>\n",
       "      <td>2348.44749395</td>\n",
       "      <td>12890</td>\n",
       "    </tr>\n",
       "  </tbody>\n",
       "</table>\n",
       "</div>"
      ],
      "text/plain": [
       "           date     open     high      low    close         volume  trades\n",
       "718  2022-10-09  19420.0  19559.5  19335.0  19443.5   903.92350217    9334\n",
       "719  2022-10-10  19443.5  19520.0  19108.3  19237.8  2348.44749395   12890"
      ]
     },
     "execution_count": 16,
     "metadata": {},
     "output_type": "execute_result"
    }
   ],
   "source": [
    "xbt_api_no_vwap.tail(2)"
   ]
  },
  {
   "cell_type": "code",
   "execution_count": null,
   "metadata": {},
   "outputs": [],
   "source": []
  },
  {
   "cell_type": "markdown",
   "metadata": {},
   "source": [
    "## 3. Historical + Current Price"
   ]
  },
  {
   "cell_type": "code",
   "execution_count": 17,
   "metadata": {},
   "outputs": [],
   "source": [
    "june30_filter = (datetime.strptime(\"2022-06-30\", '%Y-%m-%d')).date()"
   ]
  },
  {
   "cell_type": "code",
   "execution_count": 18,
   "metadata": {},
   "outputs": [],
   "source": [
    " xbt_api_after_June30 = xbt_api_no_vwap[xbt_api_no_vwap[\"date\"] > june30_filter]"
   ]
  },
  {
   "cell_type": "code",
   "execution_count": 19,
   "metadata": {},
   "outputs": [
    {
     "data": {
      "text/html": [
       "<div>\n",
       "<style scoped>\n",
       "    .dataframe tbody tr th:only-of-type {\n",
       "        vertical-align: middle;\n",
       "    }\n",
       "\n",
       "    .dataframe tbody tr th {\n",
       "        vertical-align: top;\n",
       "    }\n",
       "\n",
       "    .dataframe thead th {\n",
       "        text-align: right;\n",
       "    }\n",
       "</style>\n",
       "<table border=\"1\" class=\"dataframe\">\n",
       "  <thead>\n",
       "    <tr style=\"text-align: right;\">\n",
       "      <th></th>\n",
       "      <th>date</th>\n",
       "      <th>open</th>\n",
       "      <th>high</th>\n",
       "      <th>low</th>\n",
       "      <th>close</th>\n",
       "      <th>volume</th>\n",
       "      <th>trades</th>\n",
       "    </tr>\n",
       "  </thead>\n",
       "  <tbody>\n",
       "    <tr>\n",
       "      <th>618</th>\n",
       "      <td>2022-07-01</td>\n",
       "      <td>19949.8</td>\n",
       "      <td>20878.3</td>\n",
       "      <td>18950.0</td>\n",
       "      <td>19245.3</td>\n",
       "      <td>5953.60277338</td>\n",
       "      <td>32011</td>\n",
       "    </tr>\n",
       "    <tr>\n",
       "      <th>619</th>\n",
       "      <td>2022-07-02</td>\n",
       "      <td>19250.8</td>\n",
       "      <td>19430.4</td>\n",
       "      <td>18969.6</td>\n",
       "      <td>19226.9</td>\n",
       "      <td>1293.38922751</td>\n",
       "      <td>15723</td>\n",
       "    </tr>\n",
       "    <tr>\n",
       "      <th>620</th>\n",
       "      <td>2022-07-03</td>\n",
       "      <td>19226.9</td>\n",
       "      <td>19684.3</td>\n",
       "      <td>18738.6</td>\n",
       "      <td>19293.5</td>\n",
       "      <td>2226.88548164</td>\n",
       "      <td>17685</td>\n",
       "    </tr>\n",
       "  </tbody>\n",
       "</table>\n",
       "</div>"
      ],
      "text/plain": [
       "           date     open     high      low    close         volume  trades\n",
       "618  2022-07-01  19949.8  20878.3  18950.0  19245.3  5953.60277338   32011\n",
       "619  2022-07-02  19250.8  19430.4  18969.6  19226.9  1293.38922751   15723\n",
       "620  2022-07-03  19226.9  19684.3  18738.6  19293.5  2226.88548164   17685"
      ]
     },
     "execution_count": 19,
     "metadata": {},
     "output_type": "execute_result"
    }
   ],
   "source": [
    " xbt_api_after_June30.head(3)"
   ]
  },
  {
   "cell_type": "code",
   "execution_count": 20,
   "metadata": {},
   "outputs": [
    {
     "data": {
      "text/html": [
       "<div>\n",
       "<style scoped>\n",
       "    .dataframe tbody tr th:only-of-type {\n",
       "        vertical-align: middle;\n",
       "    }\n",
       "\n",
       "    .dataframe tbody tr th {\n",
       "        vertical-align: top;\n",
       "    }\n",
       "\n",
       "    .dataframe thead th {\n",
       "        text-align: right;\n",
       "    }\n",
       "</style>\n",
       "<table border=\"1\" class=\"dataframe\">\n",
       "  <thead>\n",
       "    <tr style=\"text-align: right;\">\n",
       "      <th></th>\n",
       "      <th>date</th>\n",
       "      <th>open</th>\n",
       "      <th>high</th>\n",
       "      <th>low</th>\n",
       "      <th>close</th>\n",
       "      <th>volume</th>\n",
       "      <th>trades</th>\n",
       "    </tr>\n",
       "  </thead>\n",
       "  <tbody>\n",
       "    <tr>\n",
       "      <th>717</th>\n",
       "      <td>2022-10-08</td>\n",
       "      <td>19532.8</td>\n",
       "      <td>19615.0</td>\n",
       "      <td>19249.7</td>\n",
       "      <td>19417.5</td>\n",
       "      <td>1337.85077668</td>\n",
       "      <td>10018</td>\n",
       "    </tr>\n",
       "    <tr>\n",
       "      <th>718</th>\n",
       "      <td>2022-10-09</td>\n",
       "      <td>19420.0</td>\n",
       "      <td>19559.5</td>\n",
       "      <td>19335.0</td>\n",
       "      <td>19443.5</td>\n",
       "      <td>903.92350217</td>\n",
       "      <td>9334</td>\n",
       "    </tr>\n",
       "    <tr>\n",
       "      <th>719</th>\n",
       "      <td>2022-10-10</td>\n",
       "      <td>19443.5</td>\n",
       "      <td>19520.0</td>\n",
       "      <td>19108.3</td>\n",
       "      <td>19237.8</td>\n",
       "      <td>2348.44749395</td>\n",
       "      <td>12890</td>\n",
       "    </tr>\n",
       "  </tbody>\n",
       "</table>\n",
       "</div>"
      ],
      "text/plain": [
       "           date     open     high      low    close         volume  trades\n",
       "717  2022-10-08  19532.8  19615.0  19249.7  19417.5  1337.85077668   10018\n",
       "718  2022-10-09  19420.0  19559.5  19335.0  19443.5   903.92350217    9334\n",
       "719  2022-10-10  19443.5  19520.0  19108.3  19237.8  2348.44749395   12890"
      ]
     },
     "execution_count": 20,
     "metadata": {},
     "output_type": "execute_result"
    }
   ],
   "source": [
    " xbt_api_after_June30.tail(3)"
   ]
  },
  {
   "cell_type": "markdown",
   "metadata": {},
   "source": [
    "#### Merge 2 DataFrames"
   ]
  },
  {
   "cell_type": "code",
   "execution_count": 55,
   "metadata": {},
   "outputs": [],
   "source": [
    "bitcoin_price_all = pd.concat([bitcoin_pd_df,  xbt_api_after_June30], ignore_index=True)"
   ]
  },
  {
   "cell_type": "code",
   "execution_count": 56,
   "metadata": {},
   "outputs": [
    {
     "data": {
      "text/plain": [
       "3280"
      ]
     },
     "execution_count": 56,
     "metadata": {},
     "output_type": "execute_result"
    }
   ],
   "source": [
    "len(bitcoin_price_all)"
   ]
  },
  {
   "cell_type": "code",
   "execution_count": 57,
   "metadata": {},
   "outputs": [
    {
     "data": {
      "text/html": [
       "<div>\n",
       "<style scoped>\n",
       "    .dataframe tbody tr th:only-of-type {\n",
       "        vertical-align: middle;\n",
       "    }\n",
       "\n",
       "    .dataframe tbody tr th {\n",
       "        vertical-align: top;\n",
       "    }\n",
       "\n",
       "    .dataframe thead th {\n",
       "        text-align: right;\n",
       "    }\n",
       "</style>\n",
       "<table border=\"1\" class=\"dataframe\">\n",
       "  <thead>\n",
       "    <tr style=\"text-align: right;\">\n",
       "      <th></th>\n",
       "      <th>date</th>\n",
       "      <th>open</th>\n",
       "      <th>high</th>\n",
       "      <th>low</th>\n",
       "      <th>close</th>\n",
       "      <th>volume</th>\n",
       "      <th>trades</th>\n",
       "    </tr>\n",
       "  </thead>\n",
       "  <tbody>\n",
       "    <tr>\n",
       "      <th>0</th>\n",
       "      <td>2013-10-06</td>\n",
       "      <td>122.0</td>\n",
       "      <td>122.0</td>\n",
       "      <td>122.0</td>\n",
       "      <td>122.0</td>\n",
       "      <td>0.1</td>\n",
       "      <td>1</td>\n",
       "    </tr>\n",
       "    <tr>\n",
       "      <th>1</th>\n",
       "      <td>2013-10-07</td>\n",
       "      <td>123.61</td>\n",
       "      <td>123.61</td>\n",
       "      <td>123.61</td>\n",
       "      <td>123.61</td>\n",
       "      <td>0.1</td>\n",
       "      <td>1</td>\n",
       "    </tr>\n",
       "    <tr>\n",
       "      <th>2</th>\n",
       "      <td>2013-10-08</td>\n",
       "      <td>123.91</td>\n",
       "      <td>124.19</td>\n",
       "      <td>123.9</td>\n",
       "      <td>124.18</td>\n",
       "      <td>3.9916</td>\n",
       "      <td>4</td>\n",
       "    </tr>\n",
       "  </tbody>\n",
       "</table>\n",
       "</div>"
      ],
      "text/plain": [
       "         date    open    high     low   close  volume  trades\n",
       "0  2013-10-06   122.0   122.0   122.0   122.0     0.1       1\n",
       "1  2013-10-07  123.61  123.61  123.61  123.61     0.1       1\n",
       "2  2013-10-08  123.91  124.19   123.9  124.18  3.9916       4"
      ]
     },
     "execution_count": 57,
     "metadata": {},
     "output_type": "execute_result"
    }
   ],
   "source": [
    "bitcoin_price_all.head(3)"
   ]
  },
  {
   "cell_type": "code",
   "execution_count": 58,
   "metadata": {},
   "outputs": [
    {
     "data": {
      "text/html": [
       "<div>\n",
       "<style scoped>\n",
       "    .dataframe tbody tr th:only-of-type {\n",
       "        vertical-align: middle;\n",
       "    }\n",
       "\n",
       "    .dataframe tbody tr th {\n",
       "        vertical-align: top;\n",
       "    }\n",
       "\n",
       "    .dataframe thead th {\n",
       "        text-align: right;\n",
       "    }\n",
       "</style>\n",
       "<table border=\"1\" class=\"dataframe\">\n",
       "  <thead>\n",
       "    <tr style=\"text-align: right;\">\n",
       "      <th></th>\n",
       "      <th>date</th>\n",
       "      <th>open</th>\n",
       "      <th>high</th>\n",
       "      <th>low</th>\n",
       "      <th>close</th>\n",
       "      <th>volume</th>\n",
       "      <th>trades</th>\n",
       "    </tr>\n",
       "  </thead>\n",
       "  <tbody>\n",
       "    <tr>\n",
       "      <th>3277</th>\n",
       "      <td>2022-10-08</td>\n",
       "      <td>19532.8</td>\n",
       "      <td>19615.0</td>\n",
       "      <td>19249.7</td>\n",
       "      <td>19417.5</td>\n",
       "      <td>1337.85077668</td>\n",
       "      <td>10018</td>\n",
       "    </tr>\n",
       "    <tr>\n",
       "      <th>3278</th>\n",
       "      <td>2022-10-09</td>\n",
       "      <td>19420.0</td>\n",
       "      <td>19559.5</td>\n",
       "      <td>19335.0</td>\n",
       "      <td>19443.5</td>\n",
       "      <td>903.92350217</td>\n",
       "      <td>9334</td>\n",
       "    </tr>\n",
       "    <tr>\n",
       "      <th>3279</th>\n",
       "      <td>2022-10-10</td>\n",
       "      <td>19443.5</td>\n",
       "      <td>19520.0</td>\n",
       "      <td>19108.3</td>\n",
       "      <td>19237.8</td>\n",
       "      <td>2348.44749395</td>\n",
       "      <td>12890</td>\n",
       "    </tr>\n",
       "  </tbody>\n",
       "</table>\n",
       "</div>"
      ],
      "text/plain": [
       "            date     open     high      low    close         volume  trades\n",
       "3277  2022-10-08  19532.8  19615.0  19249.7  19417.5  1337.85077668   10018\n",
       "3278  2022-10-09  19420.0  19559.5  19335.0  19443.5   903.92350217    9334\n",
       "3279  2022-10-10  19443.5  19520.0  19108.3  19237.8  2348.44749395   12890"
      ]
     },
     "execution_count": 58,
     "metadata": {},
     "output_type": "execute_result"
    }
   ],
   "source": [
    "bitcoin_price_all.tail(3)"
   ]
  },
  {
   "cell_type": "code",
   "execution_count": 59,
   "metadata": {},
   "outputs": [],
   "source": [
    "bitcoin_price_all = bitcoin_price_all.to_csv(\"data/bitcoin_price_all.csv\", index=False)"
   ]
  },
  {
   "cell_type": "code",
   "execution_count": null,
   "metadata": {},
   "outputs": [],
   "source": []
  }
 ],
 "metadata": {
  "kernelspec": {
   "display_name": "Python 3 (ipykernel)",
   "language": "python",
   "name": "python3"
  },
  "language_info": {
   "codemirror_mode": {
    "name": "ipython",
    "version": 3
   },
   "file_extension": ".py",
   "mimetype": "text/x-python",
   "name": "python",
   "nbconvert_exporter": "python",
   "pygments_lexer": "ipython3",
   "version": "3.8.8"
  }
 },
 "nbformat": 4,
 "nbformat_minor": 4
}
