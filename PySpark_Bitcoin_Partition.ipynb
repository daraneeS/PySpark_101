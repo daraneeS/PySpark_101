{
 "cells": [
  {
   "cell_type": "markdown",
   "id": "2cc5a2f2",
   "metadata": {},
   "source": [
    "# PySpark Partitioning  \n",
    "## Bitcoin Price from KraKen API"
   ]
  },
  {
   "cell_type": "code",
   "execution_count": 29,
   "id": "2db88a56",
   "metadata": {},
   "outputs": [],
   "source": [
    "import pandas as pd\n",
    "from datetime import datetime, date, time\n",
    "import requests\n",
    "import json"
   ]
  },
  {
   "cell_type": "code",
   "execution_count": 41,
   "id": "51344b71",
   "metadata": {},
   "outputs": [],
   "source": [
    "import pyspark\n",
    "from pyspark.sql.types import *\n",
    "from pyspark.sql.functions import *\n",
    "from pyspark.sql import SparkSession"
   ]
  },
  {
   "cell_type": "code",
   "execution_count": 31,
   "id": "cac521dc",
   "metadata": {},
   "outputs": [],
   "source": [
    "import warnings\n",
    "warnings.filterwarnings('ignore')"
   ]
  },
  {
   "cell_type": "code",
   "execution_count": 32,
   "id": "6fc0f5df",
   "metadata": {},
   "outputs": [
    {
     "data": {
      "text/html": [
       "\n",
       "            <div>\n",
       "                <p><b>SparkSession - in-memory</b></p>\n",
       "                \n",
       "        <div>\n",
       "            <p><b>SparkContext</b></p>\n",
       "\n",
       "            <p><a href=\"http://192.168.4.20:4040\">Spark UI</a></p>\n",
       "\n",
       "            <dl>\n",
       "              <dt>Version</dt>\n",
       "                <dd><code>v3.3.0</code></dd>\n",
       "              <dt>Master</dt>\n",
       "                <dd><code>local[*]</code></dd>\n",
       "              <dt>AppName</dt>\n",
       "                <dd><code>bitcoin_pyspark_kraken_json</code></dd>\n",
       "            </dl>\n",
       "        </div>\n",
       "        \n",
       "            </div>\n",
       "        "
      ],
      "text/plain": [
       "<pyspark.sql.session.SparkSession at 0x7fe5ced10b50>"
      ]
     },
     "execution_count": 32,
     "metadata": {},
     "output_type": "execute_result"
    }
   ],
   "source": [
    "spark = SparkSession.builder.appName(\"bitcoin_pyspark_kraken_json\").getOrCreate()\n",
    "spark\n",
    "#spark.stop()"
   ]
  },
  {
   "cell_type": "code",
   "execution_count": 33,
   "id": "3f25ad60",
   "metadata": {},
   "outputs": [],
   "source": [
    "btc_spark_df = spark.read.csv(\"data/btc_spark_df.csv\", header=True, inferSchema=True)"
   ]
  },
  {
   "cell_type": "code",
   "execution_count": 34,
   "id": "e8cc7cf6",
   "metadata": {},
   "outputs": [
    {
     "name": "stdout",
     "output_type": "stream",
     "text": [
      "+-------------------+---------+---------+------+------+------+------+\n",
      "|               date|     open|     high|   low| close|volume|trades|\n",
      "+-------------------+---------+---------+------+------+------+------+\n",
      "|2013-10-06 00:00:00|    122.0|    122.0| 122.0| 122.0|   0.1|     1|\n",
      "|2013-10-07 00:00:00|   123.61|   123.61|123.61|123.61|   0.1|     1|\n",
      "|2013-10-08 00:00:00|   123.91|   124.19| 123.9|124.18|3.9916|     4|\n",
      "|2013-10-09 00:00:00|124.01687|124.01687|123.84|123.84| 2.823|     3|\n",
      "|2013-10-10 00:00:00|   125.85|   125.86|125.85|125.86|   2.0|     2|\n",
      "+-------------------+---------+---------+------+------+------+------+\n",
      "only showing top 5 rows\n",
      "\n"
     ]
    }
   ],
   "source": [
    "btc_spark_df.show(5)"
   ]
  },
  {
   "cell_type": "code",
   "execution_count": 35,
   "id": "0a5f2067",
   "metadata": {},
   "outputs": [
    {
     "name": "stdout",
     "output_type": "stream",
     "text": [
      "root\n",
      " |-- date: timestamp (nullable = true)\n",
      " |-- open: double (nullable = true)\n",
      " |-- high: double (nullable = true)\n",
      " |-- low: double (nullable = true)\n",
      " |-- close: double (nullable = true)\n",
      " |-- volume: double (nullable = true)\n",
      " |-- trades: integer (nullable = true)\n",
      "\n"
     ]
    }
   ],
   "source": [
    "btc_spark_df.printSchema()"
   ]
  },
  {
   "cell_type": "code",
   "execution_count": 43,
   "id": "0d9badb4",
   "metadata": {},
   "outputs": [
    {
     "name": "stdout",
     "output_type": "stream",
     "text": [
      "+----------+---------+---------+------+------+------+------+\n",
      "|      date|     open|     high|   low| close|volume|trades|\n",
      "+----------+---------+---------+------+------+------+------+\n",
      "|2013-10-06|    122.0|    122.0| 122.0| 122.0|   0.1|     1|\n",
      "|2013-10-07|   123.61|   123.61|123.61|123.61|   0.1|     1|\n",
      "|2013-10-08|   123.91|   124.19| 123.9|124.18|3.9916|     4|\n",
      "|2013-10-09|124.01687|124.01687|123.84|123.84| 2.823|     3|\n",
      "|2013-10-10|   125.85|   125.86|125.85|125.86|   2.0|     2|\n",
      "+----------+---------+---------+------+------+------+------+\n",
      "only showing top 5 rows\n",
      "\n"
     ]
    }
   ],
   "source": [
    "btc_spark_df = btc_spark_df.withColumn(\"date\", to_date(\"date\"))\n",
    "btc_spark_df.show(5)"
   ]
  },
  {
   "cell_type": "code",
   "execution_count": 49,
   "id": "9cb6e7ba",
   "metadata": {},
   "outputs": [
    {
     "name": "stdout",
     "output_type": "stream",
     "text": [
      "8\r\n"
     ]
    }
   ],
   "source": [
    "!sysctl -n hw.ncpu"
   ]
  },
  {
   "cell_type": "code",
   "execution_count": 44,
   "id": "2422c4d5",
   "metadata": {},
   "outputs": [
    {
     "data": {
      "text/plain": [
       "1"
      ]
     },
     "execution_count": 44,
     "metadata": {},
     "output_type": "execute_result"
    }
   ],
   "source": [
    "btc_spark_df.rdd.getNumPartitions()"
   ]
  },
  {
   "cell_type": "markdown",
   "id": "07bd7e85",
   "metadata": {},
   "source": [
    "### Partitioning By Size"
   ]
  },
  {
   "cell_type": "code",
   "execution_count": 45,
   "id": "e37aec9c",
   "metadata": {},
   "outputs": [],
   "source": [
    "# from pyspark.sql.functions import spark_partition_id"
   ]
  },
  {
   "cell_type": "markdown",
   "id": "a08a9b74",
   "metadata": {},
   "source": [
    "#### repartition()\n",
    "- can size up or down"
   ]
  },
  {
   "cell_type": "code",
   "execution_count": 101,
   "id": "fdeaa3f3",
   "metadata": {},
   "outputs": [],
   "source": [
    "btc_repartition_4 = btc_spark_df.repartition(4)"
   ]
  },
  {
   "cell_type": "code",
   "execution_count": 102,
   "id": "a8bdb27a",
   "metadata": {},
   "outputs": [
    {
     "data": {
      "text/plain": [
       "4"
      ]
     },
     "execution_count": 102,
     "metadata": {},
     "output_type": "execute_result"
    }
   ],
   "source": [
    "btc_repartition_4.rdd.getNumPartitions()"
   ]
  },
  {
   "cell_type": "code",
   "execution_count": 103,
   "id": "4ff3b4e3",
   "metadata": {},
   "outputs": [
    {
     "data": {
      "text/plain": [
       "['date', 'open', 'high', 'low', 'close', 'volume', 'trades']"
      ]
     },
     "execution_count": 103,
     "metadata": {},
     "output_type": "execute_result"
    }
   ],
   "source": [
    "btc_repartition_4.columns"
   ]
  },
  {
   "cell_type": "code",
   "execution_count": 104,
   "id": "a6e426e0",
   "metadata": {},
   "outputs": [],
   "source": [
    "col_names = btc_repartition_4.columns"
   ]
  },
  {
   "cell_type": "code",
   "execution_count": 105,
   "id": "3be8d82d",
   "metadata": {},
   "outputs": [
    {
     "name": "stdout",
     "output_type": "stream",
     "text": [
      "+----------+-------+---------+--------+--------+-------------+------+\n",
      "|      date|   open|     high|     low|   close|       volume|trades|\n",
      "+----------+-------+---------+--------+--------+-------------+------+\n",
      "|2017-10-25| 5545.5|   5777.7|  5400.0|  5762.8|4900.59050168| 19159|\n",
      "|2019-03-23| 3982.1|   4000.4|  3961.0|  3982.5|1616.99006845|  4791|\n",
      "|2014-07-27|  600.0|    600.0|   600.0|   600.0|       0.1545|     1|\n",
      "|2016-01-10|  450.0|451.12999|  442.05|  449.13|  42.67798529|   100|\n",
      "|2017-06-16|2428.72|  2526.35|2308.311|2470.303|8199.12396206| 17818|\n",
      "+----------+-------+---------+--------+--------+-------------+------+\n",
      "only showing top 5 rows\n",
      "\n"
     ]
    }
   ],
   "source": [
    "btc_repartition_4.select(col_names).show(5)"
   ]
  },
  {
   "cell_type": "code",
   "execution_count": 106,
   "id": "d218ab1f",
   "metadata": {},
   "outputs": [
    {
     "name": "stdout",
     "output_type": "stream",
     "text": [
      "+----------+-------+---------+--------+--------+-------------+------+--------------------+\n",
      "|      date|   open|     high|     low|   close|       volume|trades|SPARK_PARTITION_ID()|\n",
      "+----------+-------+---------+--------+--------+-------------+------+--------------------+\n",
      "|2017-10-25| 5545.5|   5777.7|  5400.0|  5762.8|4900.59050168| 19159|                   0|\n",
      "|2019-03-23| 3982.1|   4000.4|  3961.0|  3982.5|1616.99006845|  4791|                   0|\n",
      "|2014-07-27|  600.0|    600.0|   600.0|   600.0|       0.1545|     1|                   0|\n",
      "|2016-01-10|  450.0|451.12999|  442.05|  449.13|  42.67798529|   100|                   0|\n",
      "|2017-06-16|2428.72|  2526.35|2308.311|2470.303|8199.12396206| 17818|                   0|\n",
      "+----------+-------+---------+--------+--------+-------------+------+--------------------+\n",
      "only showing top 5 rows\n",
      "\n"
     ]
    }
   ],
   "source": [
    "btc_repartition_4.select('date', 'open', 'high', 'low', 'close', 'volume', 'trades', spark_partition_id())\\\n",
    ".show(5)"
   ]
  },
  {
   "cell_type": "code",
   "execution_count": 107,
   "id": "e2c8d51e",
   "metadata": {},
   "outputs": [],
   "source": [
    "btc_repartition_4 = btc_repartition_4.withColumn('partition', spark_partition_id())"
   ]
  },
  {
   "cell_type": "code",
   "execution_count": 108,
   "id": "64ebc9e4",
   "metadata": {},
   "outputs": [
    {
     "name": "stdout",
     "output_type": "stream",
     "text": [
      "+----------+-------+---------+--------+--------+-------------+------+---------+\n",
      "|      date|   open|     high|     low|   close|       volume|trades|partition|\n",
      "+----------+-------+---------+--------+--------+-------------+------+---------+\n",
      "|2017-10-25| 5545.5|   5777.7|  5400.0|  5762.8|4900.59050168| 19159|        0|\n",
      "|2019-03-23| 3982.1|   4000.4|  3961.0|  3982.5|1616.99006845|  4791|        0|\n",
      "|2014-07-27|  600.0|    600.0|   600.0|   600.0|       0.1545|     1|        0|\n",
      "|2016-01-10|  450.0|451.12999|  442.05|  449.13|  42.67798529|   100|        0|\n",
      "|2017-06-16|2428.72|  2526.35|2308.311|2470.303|8199.12396206| 17818|        0|\n",
      "+----------+-------+---------+--------+--------+-------------+------+---------+\n",
      "only showing top 5 rows\n",
      "\n"
     ]
    }
   ],
   "source": [
    "btc_repartition_4.show(5)"
   ]
  },
  {
   "cell_type": "code",
   "execution_count": 109,
   "id": "237bf3ce",
   "metadata": {},
   "outputs": [
    {
     "name": "stdout",
     "output_type": "stream",
     "text": [
      "+----------+------+------+---------+------+----------------+------+---------+\n",
      "|      date|  open|  high|      low| close|          volume|trades|partition|\n",
      "+----------+------+------+---------+------+----------------+------+---------+\n",
      "|2015-03-15|287.25| 288.0|281.51071| 288.0|      0.14544647|     9|        1|\n",
      "|2020-04-02|6662.9|7269.0|   6576.4|6803.8|18344.4551351203| 43096|        1|\n",
      "|2019-03-29|4013.3|4100.0|   4005.9|4088.9|   4465.02001546|  9736|        1|\n",
      "+----------+------+------+---------+------+----------------+------+---------+\n",
      "only showing top 3 rows\n",
      "\n"
     ]
    }
   ],
   "source": [
    "btc_repartition_4.filter(btc_repartition_4.partition == 1).show(3)"
   ]
  },
  {
   "cell_type": "code",
   "execution_count": 116,
   "id": "70980c53",
   "metadata": {},
   "outputs": [
    {
     "name": "stdout",
     "output_type": "stream",
     "text": [
      "+----------+--------+-------+-------+--------+----------------+------+---------+\n",
      "|      date|    open|   high|    low|   close|          volume|trades|partition|\n",
      "+----------+--------+-------+-------+--------+----------------+------+---------+\n",
      "|2020-11-20| 17827.4|18824.0|17780.0| 18680.2| 6868.2597017003| 33716|        3|\n",
      "|2022-01-27| 36827.7|37242.5|35548.5| 37200.5| 4276.4801738801| 29424|        3|\n",
      "|2017-07-20|2254.998|2934.44|2254.64|2854.882|16465.5437299603| 27528|        3|\n",
      "+----------+--------+-------+-------+--------+----------------+------+---------+\n",
      "only showing top 3 rows\n",
      "\n"
     ]
    }
   ],
   "source": [
    "btc_repartition_4.filter(btc_repartition_4.partition == 3).show(3)"
   ]
  },
  {
   "cell_type": "markdown",
   "id": "79dd648d",
   "metadata": {},
   "source": [
    "#### coalesce()\n",
    "- only reduce"
   ]
  },
  {
   "cell_type": "code",
   "execution_count": 118,
   "id": "af806ccc",
   "metadata": {},
   "outputs": [],
   "source": [
    "btc_coalesce_1 = btc_repartition_4.coalesce(1)"
   ]
  },
  {
   "cell_type": "code",
   "execution_count": 119,
   "id": "274022ae",
   "metadata": {},
   "outputs": [
    {
     "data": {
      "text/plain": [
       "1"
      ]
     },
     "execution_count": 119,
     "metadata": {},
     "output_type": "execute_result"
    }
   ],
   "source": [
    "btc_coalesce_1.rdd.getNumPartitions()"
   ]
  },
  {
   "cell_type": "markdown",
   "id": "7107d52f",
   "metadata": {},
   "source": [
    "### Partition by Column"
   ]
  },
  {
   "cell_type": "code",
   "execution_count": 120,
   "id": "0c980497",
   "metadata": {},
   "outputs": [
    {
     "data": {
      "text/plain": [
       "1"
      ]
     },
     "execution_count": 120,
     "metadata": {},
     "output_type": "execute_result"
    }
   ],
   "source": [
    "btc_spark_df.rdd.getNumPartitions()"
   ]
  },
  {
   "cell_type": "code",
   "execution_count": 122,
   "id": "f9dfad27",
   "metadata": {},
   "outputs": [],
   "source": [
    "btc_repartition_col = btc_spark_df.repartition(\"date\")"
   ]
  },
  {
   "cell_type": "code",
   "execution_count": 123,
   "id": "5ae90ced",
   "metadata": {},
   "outputs": [
    {
     "name": "stdout",
     "output_type": "stream",
     "text": [
      "+----------+--------------------+\n",
      "|      date|SPARK_PARTITION_ID()|\n",
      "+----------+--------------------+\n",
      "|2014-11-12|                   0|\n",
      "|2015-03-09|                   0|\n",
      "|2015-05-19|                   0|\n",
      "|2016-03-01|                   0|\n",
      "|2017-08-11|                   0|\n",
      "+----------+--------------------+\n",
      "only showing top 5 rows\n",
      "\n"
     ]
    }
   ],
   "source": [
    "btc_repartition_col.select(\"date\", spark_partition_id()).show(5)"
   ]
  },
  {
   "cell_type": "code",
   "execution_count": 124,
   "id": "8166edb7",
   "metadata": {},
   "outputs": [],
   "source": [
    "btc_repartition_col = btc_repartition_col.withColumn(\"partition\", spark_partition_id())"
   ]
  },
  {
   "cell_type": "code",
   "execution_count": 125,
   "id": "443aacb8",
   "metadata": {},
   "outputs": [
    {
     "name": "stdout",
     "output_type": "stream",
     "text": [
      "+----------+---------+---------+---------+---------+---------------+------+---------+\n",
      "|      date|     open|     high|      low|    close|         volume|trades|partition|\n",
      "+----------+---------+---------+---------+---------+---------------+------+---------+\n",
      "|2014-11-12|383.33812|430.35988|   379.99|423.48202|   219.46096288|   195|        0|\n",
      "|2015-03-09|270.12774|297.50744|270.12774|296.99983|    18.77793687|    34|        0|\n",
      "|2015-05-19|233.31987|233.90998|231.43364|232.78497|    23.40544345|    50|        0|\n",
      "|2016-03-01|  437.893|  439.406|  422.794|   431.48|  1807.94366283|  1178|        0|\n",
      "|2017-08-11| 3434.099| 3735.199| 3425.006|   3670.0|5731.5368379203| 22244|        0|\n",
      "+----------+---------+---------+---------+---------+---------------+------+---------+\n",
      "only showing top 5 rows\n",
      "\n"
     ]
    }
   ],
   "source": [
    "btc_repartition_col.show(5)"
   ]
  },
  {
   "cell_type": "code",
   "execution_count": 127,
   "id": "dc923d08",
   "metadata": {},
   "outputs": [
    {
     "data": {
      "text/plain": [
       "1"
      ]
     },
     "execution_count": 127,
     "metadata": {},
     "output_type": "execute_result"
    }
   ],
   "source": [
    "btc_repartition_col.rdd.getNumPartitions()"
   ]
  },
  {
   "cell_type": "code",
   "execution_count": 128,
   "id": "4716051f",
   "metadata": {},
   "outputs": [],
   "source": [
    "btc_repartition_date_4 = btc_spark_df.repartition(4, \"date\")"
   ]
  },
  {
   "cell_type": "code",
   "execution_count": 129,
   "id": "62c3e1ee",
   "metadata": {},
   "outputs": [],
   "source": [
    "btc_repartition_date_4 = btc_repartition_date_4.withColumn(\"partition\", spark_partition_id())"
   ]
  },
  {
   "cell_type": "code",
   "execution_count": 131,
   "id": "2d0a85dc",
   "metadata": {},
   "outputs": [
    {
     "name": "stdout",
     "output_type": "stream",
     "text": [
      "+----------+---------+---------+---------+---------+------+------+---------+\n",
      "|      date|     open|     high|      low|    close|volume|trades|partition|\n",
      "+----------+---------+---------+---------+---------+------+------+---------+\n",
      "|2013-10-07|   123.61|   123.61|   123.61|   123.61|   0.1|     1|        3|\n",
      "|2013-10-09|124.01687|124.01687|   123.84|   123.84| 2.823|     3|        3|\n",
      "|2013-10-10|   125.85|   125.86|   125.85|   125.86|   2.0|     2|        3|\n",
      "|2013-10-12|    127.5|    127.5|    127.0|    127.0|   4.0|     3|        3|\n",
      "|2013-10-15|    135.8|    153.0|133.87975|133.87975|   4.3|     5|        3|\n",
      "+----------+---------+---------+---------+---------+------+------+---------+\n",
      "only showing top 5 rows\n",
      "\n"
     ]
    }
   ],
   "source": [
    "btc_repartition_date_4.filter(btc_repartition_date_4.partition==3).show(5)"
   ]
  },
  {
   "cell_type": "code",
   "execution_count": null,
   "id": "5fbcf100",
   "metadata": {},
   "outputs": [],
   "source": []
  }
 ],
 "metadata": {
  "kernelspec": {
   "display_name": "Python 3 (ipykernel)",
   "language": "python",
   "name": "python3"
  },
  "language_info": {
   "codemirror_mode": {
    "name": "ipython",
    "version": 3
   },
   "file_extension": ".py",
   "mimetype": "text/x-python",
   "name": "python",
   "nbconvert_exporter": "python",
   "pygments_lexer": "ipython3",
   "version": "3.8.8"
  }
 },
 "nbformat": 4,
 "nbformat_minor": 5
}
