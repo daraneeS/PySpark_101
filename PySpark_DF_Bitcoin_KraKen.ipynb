{
 "cells": [
  {
   "cell_type": "code",
   "execution_count": 1,
   "id": "bb517ad7",
   "metadata": {},
   "outputs": [],
   "source": [
    "import pandas as pd\n",
    "from datetime import datetime,date, time"
   ]
  },
  {
   "cell_type": "code",
   "execution_count": 2,
   "id": "286ab235",
   "metadata": {},
   "outputs": [
    {
     "name": "stdout",
     "output_type": "stream",
     "text": [
      "1.2.4\n"
     ]
    }
   ],
   "source": [
    "#pd.show_versions()\n",
    "print(pd.__version__)"
   ]
  },
  {
   "cell_type": "code",
   "execution_count": 3,
   "id": "4fe7e1bd",
   "metadata": {},
   "outputs": [],
   "source": [
    "import pyspark\n",
    "from pyspark.sql.types import *\n",
    "from pyspark.sql.functions import *\n",
    "import pyspark.sql.functions as F\n",
    "from pyspark.sql import SparkSession"
   ]
  },
  {
   "cell_type": "code",
   "execution_count": 4,
   "id": "3273964b",
   "metadata": {},
   "outputs": [],
   "source": [
    "import warnings\n",
    "warnings.filterwarnings('ignore')"
   ]
  },
  {
   "cell_type": "code",
   "execution_count": 5,
   "id": "ed2fb06e",
   "metadata": {},
   "outputs": [
    {
     "name": "stderr",
     "output_type": "stream",
     "text": [
      "Setting default log level to \"WARN\".\n",
      "To adjust logging level use sc.setLogLevel(newLevel). For SparkR, use setLogLevel(newLevel).\n"
     ]
    },
    {
     "name": "stdout",
     "output_type": "stream",
     "text": [
      "22/10/14 00:18:22 WARN NativeCodeLoader: Unable to load native-hadoop library for your platform... using builtin-java classes where applicable\n"
     ]
    },
    {
     "data": {
      "text/html": [
       "\n",
       "            <div>\n",
       "                <p><b>SparkSession - in-memory</b></p>\n",
       "                \n",
       "        <div>\n",
       "            <p><b>SparkContext</b></p>\n",
       "\n",
       "            <p><a href=\"http://192.168.4.20:4040\">Spark UI</a></p>\n",
       "\n",
       "            <dl>\n",
       "              <dt>Version</dt>\n",
       "                <dd><code>v3.3.0</code></dd>\n",
       "              <dt>Master</dt>\n",
       "                <dd><code>local[*]</code></dd>\n",
       "              <dt>AppName</dt>\n",
       "                <dd><code>bitcoin_pyspark_kraken</code></dd>\n",
       "            </dl>\n",
       "        </div>\n",
       "        \n",
       "            </div>\n",
       "        "
      ],
      "text/plain": [
       "<pyspark.sql.session.SparkSession at 0x7fa5c2379640>"
      ]
     },
     "execution_count": 5,
     "metadata": {},
     "output_type": "execute_result"
    }
   ],
   "source": [
    "spark = SparkSession.builder.appName(\"bitcoin_pyspark_kraken\").getOrCreate()\n",
    "spark"
   ]
  },
  {
   "cell_type": "code",
   "execution_count": 6,
   "id": "b842200e",
   "metadata": {},
   "outputs": [],
   "source": [
    "btc_sdf = spark.read.csv(\"data/bitcoin_price_all.csv\", header=True, inferSchema=True)"
   ]
  },
  {
   "cell_type": "code",
   "execution_count": 7,
   "id": "301a452a",
   "metadata": {},
   "outputs": [
    {
     "name": "stdout",
     "output_type": "stream",
     "text": [
      "+-------------------+------+------+------+------+------+------+\n",
      "|               date|  open|  high|   low| close|volume|trades|\n",
      "+-------------------+------+------+------+------+------+------+\n",
      "|2013-10-06 00:00:00| 122.0| 122.0| 122.0| 122.0|   0.1|     1|\n",
      "|2013-10-07 00:00:00|123.61|123.61|123.61|123.61|   0.1|     1|\n",
      "|2013-10-08 00:00:00|123.91|124.19| 123.9|124.18|3.9916|     4|\n",
      "+-------------------+------+------+------+------+------+------+\n",
      "only showing top 3 rows\n",
      "\n"
     ]
    }
   ],
   "source": [
    "btc_sdf.show(3)"
   ]
  },
  {
   "cell_type": "code",
   "execution_count": 8,
   "id": "265f1287",
   "metadata": {},
   "outputs": [
    {
     "name": "stdout",
     "output_type": "stream",
     "text": [
      "+-------------------+-------+-------+-------+-------+-------------+------+\n",
      "|               date|   open|   high|    low|  close|       volume|trades|\n",
      "+-------------------+-------+-------+-------+-------+-------------+------+\n",
      "|2022-10-10 00:00:00|19443.5|19520.0|19108.3|19237.8|2348.44749395| 12890|\n",
      "|2022-10-09 00:00:00|19420.0|19559.5|19335.0|19443.5| 903.92350217|  9334|\n",
      "|2022-10-08 00:00:00|19532.8|19615.0|19249.7|19417.5|1337.85077668| 10018|\n",
      "+-------------------+-------+-------+-------+-------+-------------+------+\n",
      "only showing top 3 rows\n",
      "\n"
     ]
    }
   ],
   "source": [
    "btc_sdf.orderBy(btc_sdf.date.desc()).show(3)"
   ]
  },
  {
   "cell_type": "code",
   "execution_count": 9,
   "id": "afc2ee48",
   "metadata": {},
   "outputs": [
    {
     "data": {
      "text/plain": [
       "3280"
      ]
     },
     "execution_count": 9,
     "metadata": {},
     "output_type": "execute_result"
    }
   ],
   "source": [
    "btc_sdf.count()   # only bitcoin, not included other coins"
   ]
  },
  {
   "cell_type": "code",
   "execution_count": 10,
   "id": "a315f30d",
   "metadata": {},
   "outputs": [
    {
     "name": "stdout",
     "output_type": "stream",
     "text": [
      "root\n",
      " |-- date: timestamp (nullable = true)\n",
      " |-- open: double (nullable = true)\n",
      " |-- high: double (nullable = true)\n",
      " |-- low: double (nullable = true)\n",
      " |-- close: double (nullable = true)\n",
      " |-- volume: double (nullable = true)\n",
      " |-- trades: integer (nullable = true)\n",
      "\n"
     ]
    }
   ],
   "source": [
    "btc_sdf.printSchema()"
   ]
  },
  {
   "cell_type": "code",
   "execution_count": 11,
   "id": "f1eee355",
   "metadata": {},
   "outputs": [
    {
     "name": "stdout",
     "output_type": "stream",
     "text": [
      "+----------+---------+---------+------+------+------+------+\n",
      "|      date|     open|     high|   low| close|volume|trades|\n",
      "+----------+---------+---------+------+------+------+------+\n",
      "|2013-10-06|    122.0|    122.0| 122.0| 122.0|   0.1|     1|\n",
      "|2013-10-07|   123.61|   123.61|123.61|123.61|   0.1|     1|\n",
      "|2013-10-08|   123.91|   124.19| 123.9|124.18|3.9916|     4|\n",
      "|2013-10-09|124.01687|124.01687|123.84|123.84| 2.823|     3|\n",
      "|2013-10-10|   125.85|   125.86|125.85|125.86|   2.0|     2|\n",
      "+----------+---------+---------+------+------+------+------+\n",
      "only showing top 5 rows\n",
      "\n"
     ]
    }
   ],
   "source": [
    "btc_sdf = btc_sdf.withColumn(\"date\", to_date(\"date\"))\n",
    "btc_sdf.show(5)"
   ]
  },
  {
   "cell_type": "code",
   "execution_count": 12,
   "id": "8e0e05d4",
   "metadata": {},
   "outputs": [
    {
     "name": "stdout",
     "output_type": "stream",
     "text": [
      "root\n",
      " |-- date: date (nullable = true)\n",
      " |-- open: double (nullable = true)\n",
      " |-- high: double (nullable = true)\n",
      " |-- low: double (nullable = true)\n",
      " |-- close: double (nullable = true)\n",
      " |-- volume: double (nullable = true)\n",
      " |-- trades: integer (nullable = true)\n",
      "\n"
     ]
    }
   ],
   "source": [
    "btc_sdf.printSchema()"
   ]
  },
  {
   "cell_type": "markdown",
   "id": "81ebc497",
   "metadata": {},
   "source": [
    "### Grabbing Data"
   ]
  },
  {
   "cell_type": "markdown",
   "id": "1ef32014",
   "metadata": {},
   "source": [
    "**take()**"
   ]
  },
  {
   "cell_type": "code",
   "execution_count": 13,
   "id": "fdcb9cb3",
   "metadata": {},
   "outputs": [
    {
     "data": {
      "text/plain": [
       "[Row(date=datetime.date(2013, 10, 6), open=122.0, high=122.0, low=122.0, close=122.0, volume=0.1, trades=1),\n",
       " Row(date=datetime.date(2013, 10, 7), open=123.61, high=123.61, low=123.61, close=123.61, volume=0.1, trades=1)]"
      ]
     },
     "execution_count": 13,
     "metadata": {},
     "output_type": "execute_result"
    }
   ],
   "source": [
    "btc_sdf.take(2)"
   ]
  },
  {
   "cell_type": "markdown",
   "id": "14fe846d",
   "metadata": {},
   "source": [
    "**first()**"
   ]
  },
  {
   "cell_type": "code",
   "execution_count": 14,
   "id": "756c4442",
   "metadata": {},
   "outputs": [
    {
     "data": {
      "text/plain": [
       "Row(date=datetime.date(2013, 10, 6), open=122.0, high=122.0, low=122.0, close=122.0, volume=0.1, trades=1)"
      ]
     },
     "execution_count": 14,
     "metadata": {},
     "output_type": "execute_result"
    }
   ],
   "source": [
    "btc_sdf.first()  # only show first row"
   ]
  },
  {
   "cell_type": "markdown",
   "id": "0d99a970",
   "metadata": {},
   "source": [
    "**head()**"
   ]
  },
  {
   "cell_type": "code",
   "execution_count": 15,
   "id": "6f567ae1",
   "metadata": {},
   "outputs": [
    {
     "data": {
      "text/plain": [
       "[Row(date=datetime.date(2013, 10, 6), open=122.0, high=122.0, low=122.0, close=122.0, volume=0.1, trades=1),\n",
       " Row(date=datetime.date(2013, 10, 7), open=123.61, high=123.61, low=123.61, close=123.61, volume=0.1, trades=1)]"
      ]
     },
     "execution_count": 15,
     "metadata": {},
     "output_type": "execute_result"
    }
   ],
   "source": [
    "btc_sdf.head(2)   # use head with specify number"
   ]
  },
  {
   "cell_type": "markdown",
   "id": "6a82f882",
   "metadata": {},
   "source": [
    "**tail()**"
   ]
  },
  {
   "cell_type": "code",
   "execution_count": 16,
   "id": "58e40f01",
   "metadata": {},
   "outputs": [
    {
     "data": {
      "text/plain": [
       "[Row(date=datetime.date(2022, 10, 9), open=19420.0, high=19559.5, low=19335.0, close=19443.5, volume=903.92350217, trades=9334),\n",
       " Row(date=datetime.date(2022, 10, 10), open=19443.5, high=19520.0, low=19108.3, close=19237.8, volume=2348.44749395, trades=12890)]"
      ]
     },
     "execution_count": 16,
     "metadata": {},
     "output_type": "execute_result"
    }
   ],
   "source": [
    "btc_sdf.tail(2)"
   ]
  },
  {
   "cell_type": "markdown",
   "id": "d0733618",
   "metadata": {},
   "source": [
    "**select**"
   ]
  },
  {
   "cell_type": "code",
   "execution_count": 17,
   "id": "532048f6",
   "metadata": {},
   "outputs": [
    {
     "name": "stdout",
     "output_type": "stream",
     "text": [
      "+----------+------+\n",
      "|      date| close|\n",
      "+----------+------+\n",
      "|2013-10-06| 122.0|\n",
      "|2013-10-07|123.61|\n",
      "|2013-10-08|124.18|\n",
      "|2013-10-09|123.84|\n",
      "|2013-10-10|125.86|\n",
      "+----------+------+\n",
      "only showing top 5 rows\n",
      "\n"
     ]
    }
   ],
   "source": [
    "btc_sdf.select([\"date\", \"close\"]).show(5)"
   ]
  },
  {
   "cell_type": "markdown",
   "id": "61c33d32",
   "metadata": {},
   "source": [
    "**filter()**"
   ]
  },
  {
   "cell_type": "code",
   "execution_count": 18,
   "id": "075b460f",
   "metadata": {},
   "outputs": [
    {
     "name": "stdout",
     "output_type": "stream",
     "text": [
      "+----------+-------+-------+-------+-------+-------------+------+\n",
      "|      date|   open|   high|    low|  close|       volume|trades|\n",
      "+----------+-------+-------+-------+-------+-------------+------+\n",
      "|2022-09-30|19600.0|20177.1|19150.0|19425.2|8327.92704339| 39279|\n",
      "+----------+-------+-------+-------+-------+-------------+------+\n",
      "\n"
     ]
    }
   ],
   "source": [
    "btc_sdf.filter(btc_sdf.date ==\"2022-09-30\").show()"
   ]
  },
  {
   "cell_type": "code",
   "execution_count": 19,
   "id": "d637f49d",
   "metadata": {},
   "outputs": [
    {
     "name": "stdout",
     "output_type": "stream",
     "text": [
      "+----------+-------+-------+-------+-------+-------------+------+\n",
      "|      date|   open|   high|    low|  close|       volume|trades|\n",
      "+----------+-------+-------+-------+-------+-------------+------+\n",
      "|2022-08-31|19814.2|20473.4|19814.2|20052.6|4013.35676203| 24216|\n",
      "|2022-09-01|20049.4|20195.0|19560.0|20127.8|2829.58668692| 23301|\n",
      "|2022-09-09|19322.5|21585.1|19309.4|21375.4|6607.96000464| 35413|\n",
      "|2022-09-10|21373.3|21800.0|21121.6|21650.4|2229.18631665| 18887|\n",
      "|2022-09-11|21656.6|21850.2|21363.2|21844.6|1949.29969214| 15491|\n",
      "|2022-09-12|21835.6|22475.0|21564.6|22401.3|4241.18154876| 26130|\n",
      "|2022-09-13|22397.8|22790.0|19863.2|20173.6|9152.50302423| 44068|\n",
      "|2022-09-14|20172.8|20525.0|19619.5|20233.0|4155.45394503| 25335|\n",
      "|2022-09-17|19795.4|20197.8|19757.0|20118.0|1889.86114721| 15534|\n",
      "|2022-10-04|19631.4|20475.0|19508.2|20347.9|5668.96124874| 24242|\n",
      "|2022-10-05|20340.9|20360.9|19754.3|20162.7|3851.61226863| 19609|\n",
      "+----------+-------+-------+-------+-------+-------------+------+\n",
      "\n"
     ]
    }
   ],
   "source": [
    "btc_sdf.filter((btc_sdf.date >=\"2022-08-30\") & (btc_sdf.close > 20000)).show()"
   ]
  },
  {
   "cell_type": "code",
   "execution_count": 20,
   "id": "ea9f87d8",
   "metadata": {},
   "outputs": [
    {
     "name": "stdout",
     "output_type": "stream",
     "text": [
      "+----------+-------+-------+-------+-------+-------------+------+\n",
      "|      date|   open|   high|    low|  close|       volume|trades|\n",
      "+----------+-------+-------+-------+-------+-------------+------+\n",
      "|2022-09-10|21373.3|21800.0|21121.6|21650.4|2229.18631665| 18887|\n",
      "|2022-09-11|21656.6|21850.2|21363.2|21844.6|1949.29969214| 15491|\n",
      "|2022-09-12|21835.6|22475.0|21564.6|22401.3|4241.18154876| 26130|\n",
      "+----------+-------+-------+-------+-------+-------------+------+\n",
      "\n"
     ]
    }
   ],
   "source": [
    "btc_sdf.filter(btc_sdf.date >=\"2022-08-30\")\\\n",
    "       .filter(btc_sdf.open > 20000)       \\\n",
    "       .filter(btc_sdf.close > 20000)      \\\n",
    "       .filter(btc_sdf.high > 20000)       \\\n",
    "       .filter(btc_sdf.low > 20000)        \\\n",
    "       .show()"
   ]
  },
  {
   "cell_type": "markdown",
   "id": "b1b2dc11",
   "metadata": {},
   "source": [
    "**collect()** : takes up memory space"
   ]
  },
  {
   "cell_type": "code",
   "execution_count": 21,
   "id": "482c4861",
   "metadata": {},
   "outputs": [
    {
     "data": {
      "text/plain": [
       "[Row(date=datetime.date(2022, 10, 1), open=19425.1, high=19478.6, low=19172.0, close=19316.1, volume=1680.93419445, trades=19051),\n",
       " Row(date=datetime.date(2022, 10, 2), open=19316.1, high=19393.7, low=18937.0, close=19057.8, volume=1799.11964791, trades=12608),\n",
       " Row(date=datetime.date(2022, 10, 3), open=19060.4, high=19700.0, low=18985.7, close=19639.6, volume=3507.0515593, trades=20153),\n",
       " Row(date=datetime.date(2022, 10, 4), open=19631.4, high=20475.0, low=19508.2, close=20347.9, volume=5668.96124874, trades=24242),\n",
       " Row(date=datetime.date(2022, 10, 5), open=20340.9, high=20360.9, low=19754.3, close=20162.7, volume=3851.61226863, trades=19609),\n",
       " Row(date=datetime.date(2022, 10, 6), open=20163.1, high=20449.8, low=19872.7, close=19955.8, volume=3542.0619383, trades=20390),\n",
       " Row(date=datetime.date(2022, 10, 7), open=19955.8, high=20054.7, low=19338.4, close=19532.8, volume=3678.17182192, trades=19341),\n",
       " Row(date=datetime.date(2022, 10, 8), open=19532.8, high=19615.0, low=19249.7, close=19417.5, volume=1337.85077668, trades=10018),\n",
       " Row(date=datetime.date(2022, 10, 9), open=19420.0, high=19559.5, low=19335.0, close=19443.5, volume=903.92350217, trades=9334),\n",
       " Row(date=datetime.date(2022, 10, 10), open=19443.5, high=19520.0, low=19108.3, close=19237.8, volume=2348.44749395, trades=12890)]"
      ]
     },
     "execution_count": 21,
     "metadata": {},
     "output_type": "execute_result"
    }
   ],
   "source": [
    "btc_sdf.filter(btc_sdf.date >=\"2022-10-1\").collect()"
   ]
  },
  {
   "cell_type": "markdown",
   "id": "49f828d6",
   "metadata": {},
   "source": [
    "### Create New Columns"
   ]
  },
  {
   "cell_type": "code",
   "execution_count": 22,
   "id": "dc551f68",
   "metadata": {},
   "outputs": [],
   "source": [
    "# from pyspark.sql.functions import (dayofmonth, month, year, weekofyear, format_number)"
   ]
  },
  {
   "cell_type": "code",
   "execution_count": 23,
   "id": "6a659d3d",
   "metadata": {},
   "outputs": [
    {
     "name": "stdout",
     "output_type": "stream",
     "text": [
      "+----------+---------+---------+---------+---------+-----------+------+---+-----+----+----+\n",
      "|      date|     open|     high|      low|    close|     volume|trades|day|month|year|week|\n",
      "+----------+---------+---------+---------+---------+-----------+------+---+-----+----+----+\n",
      "|2013-10-06|    122.0|    122.0|    122.0|    122.0|        0.1|     1|  6|   10|2013|  40|\n",
      "|2013-10-07|   123.61|   123.61|   123.61|   123.61|        0.1|     1|  7|   10|2013|  41|\n",
      "|2013-10-08|   123.91|   124.19|    123.9|   124.18|     3.9916|     4|  8|   10|2013|  41|\n",
      "|2013-10-09|124.01687|124.01687|   123.84|   123.84|      2.823|     3|  9|   10|2013|  41|\n",
      "|2013-10-10|   125.85|   125.86|   125.85|   125.86|        2.0|     2| 10|   10|2013|  41|\n",
      "|2013-10-12|    127.5|    127.5|    127.0|    127.0|        4.0|     3| 12|   10|2013|  41|\n",
      "|2013-10-13| 131.8408| 131.8408| 131.8408| 131.8408|        0.1|     1| 13|   10|2013|  41|\n",
      "|2013-10-14|    134.8|   135.59|133.36726|   135.59|12.00575337|    11| 14|   10|2013|  42|\n",
      "|2013-10-15|    135.8|    153.0|133.87975|133.87975|        4.3|     5| 15|   10|2013|  42|\n",
      "|2013-10-16|    143.0|   146.14|137.63758|   138.09|     20.229|    17| 16|   10|2013|  42|\n",
      "+----------+---------+---------+---------+---------+-----------+------+---+-----+----+----+\n",
      "only showing top 10 rows\n",
      "\n"
     ]
    }
   ],
   "source": [
    "btc_sdf.withColumn(\"day\"  , dayofmonth(btc_sdf[\"date\"]))  \\\n",
    "       .withColumn('month', month(btc_sdf[\"date\"]))       \\\n",
    "       .withColumn(\"year\" , year(btc_sdf[\"date\"]))        \\\n",
    "       .withColumn(\"week\" , weekofyear(btc_sdf[\"date\"]))  \\\n",
    "       .show(10)"
   ]
  },
  {
   "cell_type": "markdown",
   "id": "0bc9276c",
   "metadata": {},
   "source": [
    "### Rename Column"
   ]
  },
  {
   "cell_type": "code",
   "execution_count": 24,
   "id": "b665af22",
   "metadata": {},
   "outputs": [
    {
     "name": "stdout",
     "output_type": "stream",
     "text": [
      "+----------+---------+---------+------+------+------+----------+\n",
      "|      date|     open|     high|   low| close|volume|num_trades|\n",
      "+----------+---------+---------+------+------+------+----------+\n",
      "|2013-10-06|    122.0|    122.0| 122.0| 122.0|   0.1|         1|\n",
      "|2013-10-07|   123.61|   123.61|123.61|123.61|   0.1|         1|\n",
      "|2013-10-08|   123.91|   124.19| 123.9|124.18|3.9916|         4|\n",
      "|2013-10-09|124.01687|124.01687|123.84|123.84| 2.823|         3|\n",
      "|2013-10-10|   125.85|   125.86|125.85|125.86|   2.0|         2|\n",
      "+----------+---------+---------+------+------+------+----------+\n",
      "only showing top 5 rows\n",
      "\n"
     ]
    }
   ],
   "source": [
    "btc_sdf.withColumnRenamed(\"trades\", \"num_trades\").show(5)"
   ]
  },
  {
   "cell_type": "markdown",
   "id": "91b5b10f",
   "metadata": {},
   "source": [
    "### Order By "
   ]
  },
  {
   "cell_type": "code",
   "execution_count": 25,
   "id": "7ba7e047",
   "metadata": {},
   "outputs": [
    {
     "name": "stdout",
     "output_type": "stream",
     "text": [
      "+----------+-------+-------+-------+-------+-------------+------+\n",
      "|      date|   open|   high|    low|  close|       volume|trades|\n",
      "+----------+-------+-------+-------+-------+-------------+------+\n",
      "|2022-10-10|19443.5|19520.0|19108.3|19237.8|2348.44749395| 12890|\n",
      "|2022-10-09|19420.0|19559.5|19335.0|19443.5| 903.92350217|  9334|\n",
      "|2022-10-08|19532.8|19615.0|19249.7|19417.5|1337.85077668| 10018|\n",
      "|2022-10-07|19955.8|20054.7|19338.4|19532.8|3678.17182192| 19341|\n",
      "|2022-10-06|20163.1|20449.8|19872.7|19955.8| 3542.0619383| 20390|\n",
      "|2022-10-05|20340.9|20360.9|19754.3|20162.7|3851.61226863| 19609|\n",
      "|2022-10-04|19631.4|20475.0|19508.2|20347.9|5668.96124874| 24242|\n",
      "|2022-10-03|19060.4|19700.0|18985.7|19639.6| 3507.0515593| 20153|\n",
      "|2022-10-02|19316.1|19393.7|18937.0|19057.8|1799.11964791| 12608|\n",
      "|2022-10-01|19425.1|19478.6|19172.0|19316.1|1680.93419445| 19051|\n",
      "+----------+-------+-------+-------+-------+-------------+------+\n",
      "only showing top 10 rows\n",
      "\n"
     ]
    }
   ],
   "source": [
    "btc_sdf.orderBy(btc_sdf.date.desc()).show(10)"
   ]
  },
  {
   "cell_type": "code",
   "execution_count": 26,
   "id": "56325c9d",
   "metadata": {},
   "outputs": [
    {
     "name": "stdout",
     "output_type": "stream",
     "text": [
      "+----------+-------+\n",
      "|      date|  close|\n",
      "+----------+-------+\n",
      "|2021-11-08|67559.8|\n",
      "|2021-11-09|66950.0|\n",
      "|2021-10-20|66035.8|\n",
      "|2021-11-14|65495.0|\n",
      "|2021-11-10|64969.0|\n",
      "+----------+-------+\n",
      "only showing top 5 rows\n",
      "\n"
     ]
    }
   ],
   "source": [
    "btc_sdf.orderBy(btc_sdf.close.desc()).select('date','close').show(5)"
   ]
  },
  {
   "cell_type": "markdown",
   "id": "9df56160",
   "metadata": {},
   "source": [
    "### Sort"
   ]
  },
  {
   "cell_type": "code",
   "execution_count": 27,
   "id": "accad946",
   "metadata": {},
   "outputs": [
    {
     "name": "stdout",
     "output_type": "stream",
     "text": [
      "+----------+-------+-------+-------+-------+-------------+------+\n",
      "|      date|   open|   high|    low|  close|       volume|trades|\n",
      "+----------+-------+-------+-------+-------+-------------+------+\n",
      "|2022-10-10|19443.5|19520.0|19108.3|19237.8|2348.44749395| 12890|\n",
      "|2022-10-09|19420.0|19559.5|19335.0|19443.5| 903.92350217|  9334|\n",
      "|2022-10-08|19532.8|19615.0|19249.7|19417.5|1337.85077668| 10018|\n",
      "|2022-10-07|19955.8|20054.7|19338.4|19532.8|3678.17182192| 19341|\n",
      "|2022-10-06|20163.1|20449.8|19872.7|19955.8| 3542.0619383| 20390|\n",
      "+----------+-------+-------+-------+-------+-------------+------+\n",
      "only showing top 5 rows\n",
      "\n"
     ]
    }
   ],
   "source": [
    "btc_sdf.sort(btc_sdf.date.desc()).show(5)"
   ]
  },
  {
   "cell_type": "code",
   "execution_count": 28,
   "id": "f10910b5",
   "metadata": {},
   "outputs": [
    {
     "name": "stdout",
     "output_type": "stream",
     "text": [
      "+----------+-------+\n",
      "|      date|  close|\n",
      "+----------+-------+\n",
      "|2021-11-08|67559.8|\n",
      "|2021-11-09|66950.0|\n",
      "|2021-10-20|66035.8|\n",
      "|2021-11-14|65495.0|\n",
      "|2021-11-10|64969.0|\n",
      "+----------+-------+\n",
      "only showing top 5 rows\n",
      "\n"
     ]
    }
   ],
   "source": [
    "btc_sdf.sort(btc_sdf.close.desc()).select('date','close').show(5)"
   ]
  },
  {
   "cell_type": "markdown",
   "id": "81266437",
   "metadata": {},
   "source": [
    "### Aggregation | Group By"
   ]
  },
  {
   "cell_type": "code",
   "execution_count": 29,
   "id": "fb5580db",
   "metadata": {},
   "outputs": [
    {
     "name": "stdout",
     "output_type": "stream",
     "text": [
      "+----------+------------------+\n",
      "|year(date)|        avg(close)|\n",
      "+----------+------------------+\n",
      "|      2018| 7523.407671232872|\n",
      "|      2015| 272.3238580821917|\n",
      "|      2022|31172.531802120153|\n",
      "|      2013| 528.8305436470587|\n",
      "|      2014| 531.4999854929574|\n",
      "|      2019| 7364.964109589046|\n",
      "|      2020|11116.068579180335|\n",
      "|      2016| 568.2766947267767|\n",
      "|      2017| 3972.502397260274|\n",
      "|      2021|47426.086301369854|\n",
      "+----------+------------------+\n",
      "\n"
     ]
    }
   ],
   "source": [
    "btc_sdf.groupBy(year(btc_sdf[\"date\"])).mean(\"close\").show()"
   ]
  },
  {
   "cell_type": "code",
   "execution_count": 30,
   "id": "d4ff4ec8",
   "metadata": {},
   "outputs": [],
   "source": [
    "mean_close_yearly = btc_sdf.groupBy(year(btc_sdf[\"date\"])).mean(\"close\")"
   ]
  },
  {
   "cell_type": "code",
   "execution_count": 31,
   "id": "73810d05",
   "metadata": {},
   "outputs": [
    {
     "name": "stdout",
     "output_type": "stream",
     "text": [
      "+----------+----------------------------+\n",
      "|year(date)|format_number(avg(close), 2)|\n",
      "+----------+----------------------------+\n",
      "|      2018|                    7,523.41|\n",
      "|      2015|                      272.32|\n",
      "|      2022|                   31,172.53|\n",
      "|      2013|                      528.83|\n",
      "|      2014|                      531.50|\n",
      "|      2019|                    7,364.96|\n",
      "|      2020|                   11,116.07|\n",
      "|      2016|                      568.28|\n",
      "|      2017|                    3,972.50|\n",
      "|      2021|                   47,426.09|\n",
      "+----------+----------------------------+\n",
      "\n"
     ]
    }
   ],
   "source": [
    "mean_close_yearly = mean_close_yearly.select(\"year(date)\", format_number(\"avg(close)\", 2))\n",
    "mean_close_yearly .show()"
   ]
  },
  {
   "cell_type": "code",
   "execution_count": 32,
   "id": "ed71377e",
   "metadata": {},
   "outputs": [
    {
     "data": {
      "text/plain": [
       "['year(date)', 'format_number(avg(close), 2)']"
      ]
     },
     "execution_count": 32,
     "metadata": {},
     "output_type": "execute_result"
    }
   ],
   "source": [
    "mean_close_yearly.columns"
   ]
  },
  {
   "cell_type": "code",
   "execution_count": 33,
   "id": "1f9fcf38",
   "metadata": {},
   "outputs": [],
   "source": [
    "mean_close_yearly = mean_close_yearly.withColumnRenamed('year(date)', \"year\")\\\n",
    "                                     .withColumnRenamed('format_number(avg(close), 2)', \"average_close\")"
   ]
  },
  {
   "cell_type": "code",
   "execution_count": 34,
   "id": "95cf7205",
   "metadata": {},
   "outputs": [
    {
     "name": "stdout",
     "output_type": "stream",
     "text": [
      "+----+-------------+\n",
      "|year|average_close|\n",
      "+----+-------------+\n",
      "|2013|       528.83|\n",
      "|2014|       531.50|\n",
      "|2015|       272.32|\n",
      "|2016|       568.28|\n",
      "|2017|     3,972.50|\n",
      "|2018|     7,523.41|\n",
      "|2019|     7,364.96|\n",
      "|2020|    11,116.07|\n",
      "|2021|    47,426.09|\n",
      "|2022|    31,172.53|\n",
      "+----+-------------+\n",
      "\n"
     ]
    }
   ],
   "source": [
    "mean_close_yearly.orderBy(mean_close_yearly.year).show()"
   ]
  },
  {
   "cell_type": "code",
   "execution_count": 35,
   "id": "42a950a2",
   "metadata": {},
   "outputs": [
    {
     "name": "stdout",
     "output_type": "stream",
     "text": [
      "+----------+---------+---------+------+------+------+------+\n",
      "|      date|     open|     high|   low| close|volume|trades|\n",
      "+----------+---------+---------+------+------+------+------+\n",
      "|2013-10-06|    122.0|    122.0| 122.0| 122.0|   0.1|     1|\n",
      "|2013-10-07|   123.61|   123.61|123.61|123.61|   0.1|     1|\n",
      "|2013-10-08|   123.91|   124.19| 123.9|124.18|3.9916|     4|\n",
      "|2013-10-09|124.01687|124.01687|123.84|123.84| 2.823|     3|\n",
      "|2013-10-10|   125.85|   125.86|125.85|125.86|   2.0|     2|\n",
      "+----------+---------+---------+------+------+------+------+\n",
      "only showing top 5 rows\n",
      "\n"
     ]
    }
   ],
   "source": [
    "btc_sdf.show(5)"
   ]
  },
  {
   "cell_type": "code",
   "execution_count": 36,
   "id": "b0e50cd4",
   "metadata": {},
   "outputs": [
    {
     "name": "stdout",
     "output_type": "stream",
     "text": [
      "+------------------+\n",
      "|        avg(close)|\n",
      "+------------------+\n",
      "|11471.362422106697|\n",
      "+------------------+\n",
      "\n"
     ]
    }
   ],
   "source": [
    "btc_sdf.agg(F.mean(btc_sdf[\"close\"])).show()"
   ]
  },
  {
   "cell_type": "code",
   "execution_count": 37,
   "id": "ba6443ba",
   "metadata": {},
   "outputs": [
    {
     "name": "stdout",
     "output_type": "stream",
     "text": [
      "+----------+------------------+\n",
      "|year(date)|        avg(close)|\n",
      "+----------+------------------+\n",
      "|      2018| 7523.407671232872|\n",
      "|      2015| 272.3238580821917|\n",
      "|      2022|31172.531802120153|\n",
      "|      2013| 528.8305436470587|\n",
      "|      2014| 531.4999854929574|\n",
      "|      2019| 7364.964109589046|\n",
      "|      2020|11116.068579180335|\n",
      "|      2016| 568.2766947267767|\n",
      "|      2017| 3972.502397260274|\n",
      "|      2021|47426.086301369854|\n",
      "+----------+------------------+\n",
      "\n"
     ]
    }
   ],
   "source": [
    "btc_sdf.groupBy(year(btc_sdf[\"date\"]))  \\\n",
    "       .agg(F.mean(\"close\"))            \\\n",
    "       .show()"
   ]
  },
  {
   "cell_type": "code",
   "execution_count": 38,
   "id": "3fec390c",
   "metadata": {},
   "outputs": [],
   "source": [
    "btc_yearly = btc_sdf.groupBy(year(btc_sdf[\"date\"]))"
   ]
  },
  {
   "cell_type": "code",
   "execution_count": 39,
   "id": "49357bda",
   "metadata": {},
   "outputs": [
    {
     "name": "stdout",
     "output_type": "stream",
     "text": [
      "+----------+------------------+\n",
      "|year(date)|        avg(close)|\n",
      "+----------+------------------+\n",
      "|      2018| 7523.407671232872|\n",
      "|      2015| 272.3238580821917|\n",
      "|      2022|31172.531802120153|\n",
      "|      2013| 528.8305436470587|\n",
      "|      2014| 531.4999854929574|\n",
      "|      2019| 7364.964109589046|\n",
      "|      2020|11116.068579180335|\n",
      "|      2016| 568.2766947267767|\n",
      "|      2017| 3972.502397260274|\n",
      "|      2021|47426.086301369854|\n",
      "+----------+------------------+\n",
      "\n"
     ]
    }
   ],
   "source": [
    "btc_yearly.agg(F.mean(\"close\")).show()"
   ]
  },
  {
   "cell_type": "code",
   "execution_count": 40,
   "id": "7b20ed72",
   "metadata": {},
   "outputs": [
    {
     "name": "stdout",
     "output_type": "stream",
     "text": [
      "+----------+------------------+----------+----------+\n",
      "|year(date)|        avg(close)|min(close)|max(close)|\n",
      "+----------+------------------+----------+----------+\n",
      "|      2013| 528.8305436470587|     122.0|  1165.425|\n",
      "|      2014| 531.4999854929574| 311.00761| 919.11176|\n",
      "|      2015| 272.3238580821917|     175.0|    464.98|\n",
      "|      2016| 568.2766947267767|    364.49|   978.001|\n",
      "|      2017| 3972.502397260274|   789.884|   19356.9|\n",
      "|      2018| 7523.407671232872|    3180.1|   17088.0|\n",
      "|      2019| 7364.964109589046|    3360.3|   12933.7|\n",
      "|      2020|11116.068579180335|    4850.0|   28959.2|\n",
      "|      2021|47426.086301369854|   29398.9|   67559.8|\n",
      "|      2022|31172.531802120153|   18469.2|   47738.3|\n",
      "+----------+------------------+----------+----------+\n",
      "\n"
     ]
    }
   ],
   "source": [
    "btc_sdf.groupBy(year(btc_sdf[\"date\"]))   \\\n",
    "       .agg(F.mean(btc_sdf[\"close\"]),    \\\n",
    "            F.min(btc_sdf[\"close\"]),     \\\n",
    "            F.max(btc_sdf[\"close\"]))     \\\n",
    "       .orderBy(year(btc_sdf[\"date\"]))   \\\n",
    "       .show()"
   ]
  },
  {
   "cell_type": "code",
   "execution_count": 41,
   "id": "23720db4",
   "metadata": {},
   "outputs": [],
   "source": [
    "btc_yearly_stat = btc_sdf.groupBy(year(btc_sdf[\"date\"]))\\\n",
    "       .agg(F.mean(btc_sdf[\"close\"]),                   \\\n",
    "            F.min(btc_sdf[\"close\"]),                    \\\n",
    "            F.max(btc_sdf[\"close\"]))"
   ]
  },
  {
   "cell_type": "code",
   "execution_count": 42,
   "id": "26fc6358",
   "metadata": {},
   "outputs": [
    {
     "name": "stdout",
     "output_type": "stream",
     "text": [
      "+----------+------------------+----------+----------+\n",
      "|year(date)|        avg(close)|min(close)|max(close)|\n",
      "+----------+------------------+----------+----------+\n",
      "|      2018| 7523.407671232872|    3180.1|   17088.0|\n",
      "|      2015| 272.3238580821917|     175.0|    464.98|\n",
      "|      2022|31172.531802120153|   18469.2|   47738.3|\n",
      "|      2013| 528.8305436470587|     122.0|  1165.425|\n",
      "|      2014| 531.4999854929574| 311.00761| 919.11176|\n",
      "+----------+------------------+----------+----------+\n",
      "only showing top 5 rows\n",
      "\n"
     ]
    }
   ],
   "source": [
    "btc_yearly_stat.show(5)"
   ]
  },
  {
   "cell_type": "code",
   "execution_count": 43,
   "id": "8b850249",
   "metadata": {},
   "outputs": [],
   "source": [
    "btc_yearly_stat = btc_yearly_stat.withColumnRenamed(\"year(date)\",\"year\")          \\\n",
    "                                 .withColumnRenamed(\"avg(close)\",\"average_close\") \\\n",
    "                                 .withColumnRenamed(\"min(close)\",\"min_close\")     \\\n",
    "                                 .withColumnRenamed(\"max(close)\",\"max_close\") "
   ]
  },
  {
   "cell_type": "code",
   "execution_count": 44,
   "id": "32ce2458",
   "metadata": {},
   "outputs": [
    {
     "name": "stdout",
     "output_type": "stream",
     "text": [
      "+----+------------------+---------+---------+\n",
      "|year|     average_close|min_close|max_close|\n",
      "+----+------------------+---------+---------+\n",
      "|2018| 7523.407671232872|   3180.1|  17088.0|\n",
      "|2015| 272.3238580821917|    175.0|   464.98|\n",
      "|2022|31172.531802120153|  18469.2|  47738.3|\n",
      "|2013| 528.8305436470587|    122.0| 1165.425|\n",
      "|2014| 531.4999854929574|311.00761|919.11176|\n",
      "+----+------------------+---------+---------+\n",
      "only showing top 5 rows\n",
      "\n"
     ]
    }
   ],
   "source": [
    "btc_yearly_stat.show(5)"
   ]
  },
  {
   "cell_type": "code",
   "execution_count": 45,
   "id": "72753eaf",
   "metadata": {},
   "outputs": [
    {
     "name": "stdout",
     "output_type": "stream",
     "text": [
      "+----+------------------+---------+---------+\n",
      "|year|     average_close|min_close|max_close|\n",
      "+----+------------------+---------+---------+\n",
      "|2021|47426.086301369854|  29398.9|  67559.8|\n",
      "|2022|31172.531802120153|  18469.2|  47738.3|\n",
      "|2020|11116.068579180335|   4850.0|  28959.2|\n",
      "|2017| 3972.502397260274|  789.884|  19356.9|\n",
      "|2018| 7523.407671232872|   3180.1|  17088.0|\n",
      "|2019| 7364.964109589046|   3360.3|  12933.7|\n",
      "|2013| 528.8305436470587|    122.0| 1165.425|\n",
      "|2016| 568.2766947267767|   364.49|  978.001|\n",
      "|2014| 531.4999854929574|311.00761|919.11176|\n",
      "|2015| 272.3238580821917|    175.0|   464.98|\n",
      "+----+------------------+---------+---------+\n",
      "\n"
     ]
    }
   ],
   "source": [
    "btc_yearly_stat.sort(btc_yearly_stat.max_close.desc()).show()"
   ]
  },
  {
   "cell_type": "markdown",
   "id": "71c1b455",
   "metadata": {},
   "source": [
    "## Save to | write to file"
   ]
  },
  {
   "cell_type": "code",
   "execution_count": 46,
   "id": "a5d73e66",
   "metadata": {},
   "outputs": [
    {
     "name": "stdout",
     "output_type": "stream",
     "text": [
      "+----------+---------+---------+------+------+------+------+\n",
      "|      date|     open|     high|   low| close|volume|trades|\n",
      "+----------+---------+---------+------+------+------+------+\n",
      "|2013-10-06|    122.0|    122.0| 122.0| 122.0|   0.1|     1|\n",
      "|2013-10-07|   123.61|   123.61|123.61|123.61|   0.1|     1|\n",
      "|2013-10-08|   123.91|   124.19| 123.9|124.18|3.9916|     4|\n",
      "|2013-10-09|124.01687|124.01687|123.84|123.84| 2.823|     3|\n",
      "|2013-10-10|   125.85|   125.86|125.85|125.86|   2.0|     2|\n",
      "+----------+---------+---------+------+------+------+------+\n",
      "only showing top 5 rows\n",
      "\n"
     ]
    }
   ],
   "source": [
    "btc_sdf.show(5)"
   ]
  },
  {
   "cell_type": "markdown",
   "id": "bd251428",
   "metadata": {},
   "source": [
    "**to_csv file**"
   ]
  },
  {
   "cell_type": "code",
   "execution_count": 47,
   "id": "759a9fe2",
   "metadata": {},
   "outputs": [],
   "source": [
    "btc_sdf.write.mode(\"overwrite\").options(header=True).csv(\"data/btc_spark_df.csv\")"
   ]
  },
  {
   "cell_type": "markdown",
   "id": "62549b87",
   "metadata": {},
   "source": [
    "## PySpark Using SQL"
   ]
  },
  {
   "cell_type": "code",
   "execution_count": 48,
   "id": "6e323d55",
   "metadata": {},
   "outputs": [],
   "source": [
    "btc_sdf.createOrReplaceTempView(\"btc_sql\")"
   ]
  },
  {
   "cell_type": "code",
   "execution_count": 49,
   "id": "ddefa33e",
   "metadata": {},
   "outputs": [
    {
     "name": "stdout",
     "output_type": "stream",
     "text": [
      "+----------+---------+---------+---------+---------+-----------+------+\n",
      "|      date|     open|     high|      low|    close|     volume|trades|\n",
      "+----------+---------+---------+---------+---------+-----------+------+\n",
      "|2013-10-06|    122.0|    122.0|    122.0|    122.0|        0.1|     1|\n",
      "|2013-10-07|   123.61|   123.61|   123.61|   123.61|        0.1|     1|\n",
      "|2013-10-08|   123.91|   124.19|    123.9|   124.18|     3.9916|     4|\n",
      "|2013-10-09|124.01687|124.01687|   123.84|   123.84|      2.823|     3|\n",
      "|2013-10-10|   125.85|   125.86|   125.85|   125.86|        2.0|     2|\n",
      "|2013-10-12|    127.5|    127.5|    127.0|    127.0|        4.0|     3|\n",
      "|2013-10-13| 131.8408| 131.8408| 131.8408| 131.8408|        0.1|     1|\n",
      "|2013-10-14|    134.8|   135.59|133.36726|   135.59|12.00575337|    11|\n",
      "|2013-10-15|    135.8|    153.0|133.87975|133.87975|        4.3|     5|\n",
      "|2013-10-16|    143.0|   146.14|137.63758|   138.09|     20.229|    17|\n",
      "|2013-10-17|137.62448|   144.73|   137.52|143.79522|      5.777|     6|\n",
      "|2013-10-18| 146.2399|153.80147| 146.2399|149.04856|     23.551|    23|\n",
      "|2013-10-19|   157.74|   171.25|   157.64|   165.56|     72.545|    66|\n",
      "|2013-10-20|166.52626|166.52626|  162.981|  162.981| 4.84841803|     5|\n",
      "|2013-10-21|    165.0|176.65277|    165.0|176.32429|   18.30269|    19|\n",
      "|2013-10-22|   181.97|    194.2|    150.0|    150.0| 7.37587686|     7|\n",
      "|2013-10-23|191.62198|   203.45|185.90287|   203.45|      39.22|    39|\n",
      "|2013-10-24|203.67412|207.30246| 169.9201| 193.0999|83.72097523|    90|\n",
      "|2013-10-25|   172.27|    186.8|   171.97| 186.0499|       67.2|    39|\n",
      "|2013-10-26|    185.8|    185.8| 179.8656|   184.58|       11.0|    10|\n",
      "+----------+---------+---------+---------+---------+-----------+------+\n",
      "only showing top 20 rows\n",
      "\n"
     ]
    }
   ],
   "source": [
    "spark.sql(\"SELECT * FROM btc_sql\").show()"
   ]
  },
  {
   "cell_type": "code",
   "execution_count": 50,
   "id": "f491bb1b",
   "metadata": {},
   "outputs": [
    {
     "name": "stdout",
     "output_type": "stream",
     "text": [
      "+----------+---------+---------+---------+---------+-----------+------+---------+-----+----+\n",
      "|      date|     open|     high|      low|    close|     volume|trades|dayofweek|month|year|\n",
      "+----------+---------+---------+---------+---------+-----------+------+---------+-----+----+\n",
      "|2013-10-06|    122.0|    122.0|    122.0|    122.0|        0.1|     1|        1|   10|2013|\n",
      "|2013-10-07|   123.61|   123.61|   123.61|   123.61|        0.1|     1|        2|   10|2013|\n",
      "|2013-10-08|   123.91|   124.19|    123.9|   124.18|     3.9916|     4|        3|   10|2013|\n",
      "|2013-10-09|124.01687|124.01687|   123.84|   123.84|      2.823|     3|        4|   10|2013|\n",
      "|2013-10-10|   125.85|   125.86|   125.85|   125.86|        2.0|     2|        5|   10|2013|\n",
      "|2013-10-12|    127.5|    127.5|    127.0|    127.0|        4.0|     3|        7|   10|2013|\n",
      "|2013-10-13| 131.8408| 131.8408| 131.8408| 131.8408|        0.1|     1|        1|   10|2013|\n",
      "|2013-10-14|    134.8|   135.59|133.36726|   135.59|12.00575337|    11|        2|   10|2013|\n",
      "|2013-10-15|    135.8|    153.0|133.87975|133.87975|        4.3|     5|        3|   10|2013|\n",
      "|2013-10-16|    143.0|   146.14|137.63758|   138.09|     20.229|    17|        4|   10|2013|\n",
      "+----------+---------+---------+---------+---------+-----------+------+---------+-----+----+\n",
      "only showing top 10 rows\n",
      "\n"
     ]
    }
   ],
   "source": [
    "spark.sql(\"\"\"\n",
    "SELECT *, \n",
    "      dayofweek(date) AS dayofweek,\n",
    "      month(date)     AS month,\n",
    "      year(date)      AS year\n",
    "FROM btc_sql\n",
    "\"\"\").show(10)"
   ]
  },
  {
   "cell_type": "code",
   "execution_count": 51,
   "id": "a56f1adc",
   "metadata": {},
   "outputs": [],
   "source": [
    "sql_df = spark.sql(\"\"\"\n",
    "SELECT *, \n",
    "      dayofweek(date) AS dayofweek,\n",
    "      month(date)     AS month,\n",
    "      year(date)      AS year\n",
    "FROM btc_sql\n",
    "\"\"\")"
   ]
  },
  {
   "cell_type": "code",
   "execution_count": 52,
   "id": "8deae867",
   "metadata": {},
   "outputs": [
    {
     "name": "stdout",
     "output_type": "stream",
     "text": [
      "+----------+---------+---------+---------+---------+-----------+------+---------+-----+----+\n",
      "|      date|     open|     high|      low|    close|     volume|trades|dayofweek|month|year|\n",
      "+----------+---------+---------+---------+---------+-----------+------+---------+-----+----+\n",
      "|2013-10-06|    122.0|    122.0|    122.0|    122.0|        0.1|     1|        1|   10|2013|\n",
      "|2013-10-07|   123.61|   123.61|   123.61|   123.61|        0.1|     1|        2|   10|2013|\n",
      "|2013-10-08|   123.91|   124.19|    123.9|   124.18|     3.9916|     4|        3|   10|2013|\n",
      "|2013-10-09|124.01687|124.01687|   123.84|   123.84|      2.823|     3|        4|   10|2013|\n",
      "|2013-10-10|   125.85|   125.86|   125.85|   125.86|        2.0|     2|        5|   10|2013|\n",
      "|2013-10-12|    127.5|    127.5|    127.0|    127.0|        4.0|     3|        7|   10|2013|\n",
      "|2013-10-13| 131.8408| 131.8408| 131.8408| 131.8408|        0.1|     1|        1|   10|2013|\n",
      "|2013-10-14|    134.8|   135.59|133.36726|   135.59|12.00575337|    11|        2|   10|2013|\n",
      "|2013-10-15|    135.8|    153.0|133.87975|133.87975|        4.3|     5|        3|   10|2013|\n",
      "|2013-10-16|    143.0|   146.14|137.63758|   138.09|     20.229|    17|        4|   10|2013|\n",
      "+----------+---------+---------+---------+---------+-----------+------+---------+-----+----+\n",
      "only showing top 10 rows\n",
      "\n"
     ]
    }
   ],
   "source": [
    "sql_df.show(10)"
   ]
  },
  {
   "cell_type": "code",
   "execution_count": 53,
   "id": "c4aee571",
   "metadata": {},
   "outputs": [
    {
     "data": {
      "text/plain": [
       "pyspark.sql.dataframe.DataFrame"
      ]
     },
     "execution_count": 53,
     "metadata": {},
     "output_type": "execute_result"
    }
   ],
   "source": [
    "type(sql_df)"
   ]
  },
  {
   "cell_type": "code",
   "execution_count": 54,
   "id": "97183248",
   "metadata": {},
   "outputs": [],
   "source": [
    "sql_df.createOrReplaceTempView(\"btc_sql2\")"
   ]
  },
  {
   "cell_type": "code",
   "execution_count": 55,
   "id": "ab722f3f",
   "metadata": {},
   "outputs": [
    {
     "name": "stdout",
     "output_type": "stream",
     "text": [
      "+----------+---------+---------+---------+---------+-----------+------+---------+-----+----+\n",
      "|      date|     open|     high|      low|    close|     volume|trades|dayofweek|month|year|\n",
      "+----------+---------+---------+---------+---------+-----------+------+---------+-----+----+\n",
      "|2013-10-06|    122.0|    122.0|    122.0|    122.0|        0.1|     1|        1|   10|2013|\n",
      "|2013-10-07|   123.61|   123.61|   123.61|   123.61|        0.1|     1|        2|   10|2013|\n",
      "|2013-10-08|   123.91|   124.19|    123.9|   124.18|     3.9916|     4|        3|   10|2013|\n",
      "|2013-10-09|124.01687|124.01687|   123.84|   123.84|      2.823|     3|        4|   10|2013|\n",
      "|2013-10-10|   125.85|   125.86|   125.85|   125.86|        2.0|     2|        5|   10|2013|\n",
      "|2013-10-12|    127.5|    127.5|    127.0|    127.0|        4.0|     3|        7|   10|2013|\n",
      "|2013-10-13| 131.8408| 131.8408| 131.8408| 131.8408|        0.1|     1|        1|   10|2013|\n",
      "|2013-10-14|    134.8|   135.59|133.36726|   135.59|12.00575337|    11|        2|   10|2013|\n",
      "|2013-10-15|    135.8|    153.0|133.87975|133.87975|        4.3|     5|        3|   10|2013|\n",
      "|2013-10-16|    143.0|   146.14|137.63758|   138.09|     20.229|    17|        4|   10|2013|\n",
      "+----------+---------+---------+---------+---------+-----------+------+---------+-----+----+\n",
      "only showing top 10 rows\n",
      "\n"
     ]
    }
   ],
   "source": [
    "spark.sql(\"\"\"\n",
    "SELECT *\n",
    "FROM btc_sql2\n",
    "\"\"\").show(10)"
   ]
  },
  {
   "cell_type": "code",
   "execution_count": 56,
   "id": "c35e1021",
   "metadata": {},
   "outputs": [
    {
     "name": "stdout",
     "output_type": "stream",
     "text": [
      "+----+--------+--------+--------+---------+---------+---------+----------+----------+\n",
      "|year|avg_open|avg_high| avg_low|avg_close|min_close|max_close|avg_volume|avg_trades|\n",
      "+----+--------+--------+--------+---------+---------+---------+----------+----------+\n",
      "|2021|47378.11|48812.43|45668.61| 47426.09|  29398.9|  67559.8|   5254.15|  47278.85|\n",
      "|2022| 31267.3|31990.07|30400.86| 31172.53|  18469.2|  47738.3|   3685.18|  27303.61|\n",
      "|2020|11056.25|11336.65|10783.76| 11116.07|   4850.0|  28959.2|   6386.29|  22526.72|\n",
      "|2018| 7552.73| 7783.03| 7258.39|  7523.41|   3180.1|  17088.0|   6301.05|  19339.31|\n",
      "|2019| 7355.56| 7562.66|  7131.1|  7364.96|   3360.3|  12933.7|   6106.85|  17539.89|\n",
      "|2017| 3936.78| 4118.18| 3767.02|   3972.5|   789.88|  19356.9|   5048.12|  14161.16|\n",
      "|2016|  566.87|  576.05|  557.45|   568.28|   364.49|    978.0|   1283.67|   1306.76|\n",
      "|2014|  533.02|  548.64|  515.94|    531.5|   311.01|   919.11|      14.2|    102.54|\n",
      "|2013|  524.07|  564.18|  484.91|   528.83|    122.0|  1165.43|     33.59|    265.09|\n",
      "|2015|  271.47|  278.83|  265.15|   272.32|    175.0|   464.98|     77.28|     122.1|\n",
      "+----+--------+--------+--------+---------+---------+---------+----------+----------+\n",
      "\n"
     ]
    }
   ],
   "source": [
    "spark.sql(\"\"\"\n",
    "\n",
    "SELECT year, \n",
    "       ROUND(AVG(open), 2) as avg_open,\n",
    "       ROUND(AVG(high), 2) as avg_high,\n",
    "       ROUND(AVG(low),  2) as avg_low,\n",
    "       ROUND(AVG(close),2) as avg_close,\n",
    "       ROUND(MIN(close),2) as min_close,\n",
    "       ROUND(MAX(close),2) as max_close,\n",
    "       ROUND(AVG(volume),2)as avg_volume,\n",
    "       ROUND(AVG(trades),2)as avg_trades\n",
    "\n",
    "FROM btc_sql2\n",
    "GROUP BY year\n",
    "ORDER BY AVG(close) DESC\n",
    "\n",
    "\"\"\").show()"
   ]
  },
  {
   "cell_type": "code",
   "execution_count": 8,
   "id": "2d324263",
   "metadata": {},
   "outputs": [],
   "source": []
  },
  {
   "cell_type": "code",
   "execution_count": 58,
   "id": "1ac6f9d3",
   "metadata": {},
   "outputs": [
    {
     "name": "stdout",
     "output_type": "stream",
     "text": [
      "+----------+---------+---------+------+------+------+------+\n",
      "|      date|     open|     high|   low| close|volume|trades|\n",
      "+----------+---------+---------+------+------+------+------+\n",
      "|2013-10-06|    122.0|    122.0| 122.0| 122.0|   0.1|     1|\n",
      "|2013-10-07|   123.61|   123.61|123.61|123.61|   0.1|     1|\n",
      "|2013-10-08|   123.91|   124.19| 123.9|124.18|3.9916|     4|\n",
      "|2013-10-09|124.01687|124.01687|123.84|123.84| 2.823|     3|\n",
      "|2013-10-10|   125.85|   125.86|125.85|125.86|   2.0|     2|\n",
      "+----------+---------+---------+------+------+------+------+\n",
      "only showing top 5 rows\n",
      "\n"
     ]
    }
   ],
   "source": [
    "spark.sql(\"SELECT * FROM btc_sql\").show(5)"
   ]
  },
  {
   "cell_type": "code",
   "execution_count": 64,
   "id": "861aee99",
   "metadata": {},
   "outputs": [
    {
     "name": "stdout",
     "output_type": "stream",
     "text": [
      "22/10/14 00:36:47 WARN WindowExec: No Partition Defined for Window operation! Moving all data to a single partition, this can cause serious performance degradation.\n",
      "22/10/14 00:36:47 WARN WindowExec: No Partition Defined for Window operation! Moving all data to a single partition, this can cause serious performance degradation.\n",
      "22/10/14 00:36:47 WARN WindowExec: No Partition Defined for Window operation! Moving all data to a single partition, this can cause serious performance degradation.\n",
      "22/10/14 00:36:47 WARN WindowExec: No Partition Defined for Window operation! Moving all data to a single partition, this can cause serious performance degradation.\n",
      "22/10/14 00:36:47 WARN WindowExec: No Partition Defined for Window operation! Moving all data to a single partition, this can cause serious performance degradation.\n",
      "+----------+---------+---------+---------+---------+-----------+------+-------------+\n",
      "|      date|     open|     high|      low|    close|     volume|trades|previos_close|\n",
      "+----------+---------+---------+---------+---------+-----------+------+-------------+\n",
      "|2013-10-06|    122.0|    122.0|    122.0|    122.0|        0.1|     1|         null|\n",
      "|2013-10-07|   123.61|   123.61|   123.61|   123.61|        0.1|     1|        122.0|\n",
      "|2013-10-08|   123.91|   124.19|    123.9|   124.18|     3.9916|     4|       123.61|\n",
      "|2013-10-09|124.01687|124.01687|   123.84|   123.84|      2.823|     3|       124.18|\n",
      "|2013-10-10|   125.85|   125.86|   125.85|   125.86|        2.0|     2|       123.84|\n",
      "|2013-10-12|    127.5|    127.5|    127.0|    127.0|        4.0|     3|       125.86|\n",
      "|2013-10-13| 131.8408| 131.8408| 131.8408| 131.8408|        0.1|     1|        127.0|\n",
      "|2013-10-14|    134.8|   135.59|133.36726|   135.59|12.00575337|    11|     131.8408|\n",
      "|2013-10-15|    135.8|    153.0|133.87975|133.87975|        4.3|     5|       135.59|\n",
      "|2013-10-16|    143.0|   146.14|137.63758|   138.09|     20.229|    17|    133.87975|\n",
      "|2013-10-17|137.62448|   144.73|   137.52|143.79522|      5.777|     6|       138.09|\n",
      "|2013-10-18| 146.2399|153.80147| 146.2399|149.04856|     23.551|    23|    143.79522|\n",
      "|2013-10-19|   157.74|   171.25|   157.64|   165.56|     72.545|    66|    149.04856|\n",
      "|2013-10-20|166.52626|166.52626|  162.981|  162.981| 4.84841803|     5|       165.56|\n",
      "|2013-10-21|    165.0|176.65277|    165.0|176.32429|   18.30269|    19|      162.981|\n",
      "|2013-10-22|   181.97|    194.2|    150.0|    150.0| 7.37587686|     7|    176.32429|\n",
      "|2013-10-23|191.62198|   203.45|185.90287|   203.45|      39.22|    39|        150.0|\n",
      "|2013-10-24|203.67412|207.30246| 169.9201| 193.0999|83.72097523|    90|       203.45|\n",
      "|2013-10-25|   172.27|    186.8|   171.97| 186.0499|       67.2|    39|     193.0999|\n",
      "|2013-10-26|    185.8|    185.8| 179.8656|   184.58|       11.0|    10|     186.0499|\n",
      "+----------+---------+---------+---------+---------+-----------+------+-------------+\n",
      "only showing top 20 rows\n",
      "\n"
     ]
    }
   ],
   "source": [
    "spark.sql(\"\"\"\n",
    "SELECT *, \n",
    "    LAG(close) OVER(ORDER BY date) previos_close\n",
    "    \n",
    "FROM btc_sql\n",
    "ORDER BY date\n",
    "\"\"\").show()"
   ]
  },
  {
   "cell_type": "code",
   "execution_count": 65,
   "id": "ad6e4491",
   "metadata": {},
   "outputs": [],
   "source": [
    "spark.stop()"
   ]
  },
  {
   "cell_type": "code",
   "execution_count": null,
   "id": "4eb2b17b",
   "metadata": {},
   "outputs": [],
   "source": []
  }
 ],
 "metadata": {
  "kernelspec": {
   "display_name": "Python 3 (ipykernel)",
   "language": "python",
   "name": "python3"
  },
  "language_info": {
   "codemirror_mode": {
    "name": "ipython",
    "version": 3
   },
   "file_extension": ".py",
   "mimetype": "text/x-python",
   "name": "python",
   "nbconvert_exporter": "python",
   "pygments_lexer": "ipython3",
   "version": "3.8.8"
  }
 },
 "nbformat": 4,
 "nbformat_minor": 5
}
